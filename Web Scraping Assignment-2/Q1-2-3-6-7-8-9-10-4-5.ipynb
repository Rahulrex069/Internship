{
 "cells": [
  {
   "cell_type": "markdown",
   "metadata": {},
   "source": [
    "# Scrapping Assignment 2"
   ]
  },
  {
   "cell_type": "markdown",
   "metadata": {},
   "source": [
    "# Q1: Write a python program to scrape data for “Data Analyst” Job position in “Bangalore” location. You have to scrape the job-title, job-location, company_name, experience_required. You have to scrape first 10 jobs data.\n",
    "This task will be done in following steps:\n",
    "\n",
    "1. first get the webpage https://www.naukri.com/\n",
    "2. Enter “Data Analyst” in “Skill,Designations,Companies” field and enter “Bangalore” in “enter the location” field.\n",
    "3. Then click the search button.\n",
    "4. Then scrape the data for the first 10 jobs results you get.\n",
    "5. Finally create a dataframe of the scraped data.\n",
    "Note- All of the above steps have to be done in code. No step is to be done manually."
   ]
  },
  {
   "cell_type": "code",
   "execution_count": 376,
   "metadata": {},
   "outputs": [],
   "source": [
    "from selenium import webdriver\n",
    "import selenium\n",
    "import pandas as pd\n",
    "import numpy as np\n",
    "import time"
   ]
  },
  {
   "cell_type": "code",
   "execution_count": 377,
   "metadata": {},
   "outputs": [
    {
     "data": {
      "text/plain": [
       "<selenium.webdriver.chrome.webdriver.WebDriver (session=\"d0b33f1ecc961ae5f645403df4d8265c\")>"
      ]
     },
     "execution_count": 377,
     "metadata": {},
     "output_type": "execute_result"
    }
   ],
   "source": [
    "driver = webdriver.Chrome(executable_path='/Users/rahulmore/chromedriver')\n",
    "driver"
   ]
  },
  {
   "cell_type": "code",
   "execution_count": 378,
   "metadata": {},
   "outputs": [],
   "source": [
    "url = driver.get('https://www.naukri.com/browse-jobs')"
   ]
  },
  {
   "cell_type": "code",
   "execution_count": 379,
   "metadata": {
    "scrolled": true
   },
   "outputs": [],
   "source": [
    "job = driver.find_element_by_xpath(\"//input[@placeholder='Skills, Designations, Companies']\")\n",
    "job.send_keys('Data Analyst')\n",
    "time.sleep(1)\n",
    "\n",
    "location = driver.find_element_by_xpath(\"//input[@placeholder='Location/Locality']\")\n",
    "location.send_keys('Bangalore')\n",
    "time.sleep(1)\n",
    "\n",
    "search = driver.find_element_by_xpath(\"//button[@id='qsbFormBtn']\")\n",
    "search.click()\n",
    "\n",
    "time.sleep(10)"
   ]
  },
  {
   "cell_type": "code",
   "execution_count": 380,
   "metadata": {},
   "outputs": [],
   "source": [
    "chatbot = driver.find_element_by_xpath(\"//div[@class='crossIcon chatBot chatBot-ic-cross']\")\n",
    "try:\n",
    "    chatbot.click()\n",
    "except:\n",
    "    pass"
   ]
  },
  {
   "cell_type": "code",
   "execution_count": 381,
   "metadata": {
    "scrolled": true
   },
   "outputs": [
    {
     "data": {
      "text/plain": [
       "[<selenium.webdriver.remote.webelement.WebElement (session=\"d0b33f1ecc961ae5f645403df4d8265c\", element=\"bcb02e2d-b89d-412f-a02d-6e2cb1aa3b2d\")>,\n",
       " <selenium.webdriver.remote.webelement.WebElement (session=\"d0b33f1ecc961ae5f645403df4d8265c\", element=\"65bd6cf5-8587-4ca6-8052-796c198fb747\")>,\n",
       " <selenium.webdriver.remote.webelement.WebElement (session=\"d0b33f1ecc961ae5f645403df4d8265c\", element=\"2ab86494-3bea-4f84-8a41-5adbd4f454b9\")>,\n",
       " <selenium.webdriver.remote.webelement.WebElement (session=\"d0b33f1ecc961ae5f645403df4d8265c\", element=\"51735200-2ff4-4469-a7b0-d243961750a3\")>,\n",
       " <selenium.webdriver.remote.webelement.WebElement (session=\"d0b33f1ecc961ae5f645403df4d8265c\", element=\"da89a972-24fc-4065-8995-a00720bdfdd0\")>,\n",
       " <selenium.webdriver.remote.webelement.WebElement (session=\"d0b33f1ecc961ae5f645403df4d8265c\", element=\"10a8e39d-a201-46ee-a8a2-e82edb19ca78\")>,\n",
       " <selenium.webdriver.remote.webelement.WebElement (session=\"d0b33f1ecc961ae5f645403df4d8265c\", element=\"62fcddee-5190-4839-8605-e5459e34e59b\")>,\n",
       " <selenium.webdriver.remote.webelement.WebElement (session=\"d0b33f1ecc961ae5f645403df4d8265c\", element=\"b1bf9d84-0480-450a-8949-0db45cd5784d\")>,\n",
       " <selenium.webdriver.remote.webelement.WebElement (session=\"d0b33f1ecc961ae5f645403df4d8265c\", element=\"35a2b1d0-3f8c-4935-807d-00dd49ea666b\")>,\n",
       " <selenium.webdriver.remote.webelement.WebElement (session=\"d0b33f1ecc961ae5f645403df4d8265c\", element=\"2e5fe4c6-2b27-453e-8401-633364f10ad6\")>,\n",
       " <selenium.webdriver.remote.webelement.WebElement (session=\"d0b33f1ecc961ae5f645403df4d8265c\", element=\"2b8724ac-332c-4762-af74-99151a8a31f0\")>,\n",
       " <selenium.webdriver.remote.webelement.WebElement (session=\"d0b33f1ecc961ae5f645403df4d8265c\", element=\"cf34a435-0345-493f-b4e8-2c8a26d542be\")>,\n",
       " <selenium.webdriver.remote.webelement.WebElement (session=\"d0b33f1ecc961ae5f645403df4d8265c\", element=\"2c04dd20-c180-4f40-ae5f-c6cd3eede623\")>,\n",
       " <selenium.webdriver.remote.webelement.WebElement (session=\"d0b33f1ecc961ae5f645403df4d8265c\", element=\"ae7be568-cd35-4013-bf3a-ad2d3ee31132\")>,\n",
       " <selenium.webdriver.remote.webelement.WebElement (session=\"d0b33f1ecc961ae5f645403df4d8265c\", element=\"a61b2cb2-7019-48b1-985e-2b3b737f0957\")>,\n",
       " <selenium.webdriver.remote.webelement.WebElement (session=\"d0b33f1ecc961ae5f645403df4d8265c\", element=\"0b207a48-0b9f-4931-ada4-edc94c69cb35\")>,\n",
       " <selenium.webdriver.remote.webelement.WebElement (session=\"d0b33f1ecc961ae5f645403df4d8265c\", element=\"94058c0f-ab58-42d8-ba7a-eb9153802869\")>,\n",
       " <selenium.webdriver.remote.webelement.WebElement (session=\"d0b33f1ecc961ae5f645403df4d8265c\", element=\"06c787e4-482d-4e7e-8189-db10f7a6089d\")>,\n",
       " <selenium.webdriver.remote.webelement.WebElement (session=\"d0b33f1ecc961ae5f645403df4d8265c\", element=\"beaa54d3-e0e6-4ed0-a14a-e1f9b77e7260\")>,\n",
       " <selenium.webdriver.remote.webelement.WebElement (session=\"d0b33f1ecc961ae5f645403df4d8265c\", element=\"2da3eee0-c8bd-484c-bb6c-df9a62b04b46\")>]"
      ]
     },
     "execution_count": 381,
     "metadata": {},
     "output_type": "execute_result"
    }
   ],
   "source": [
    "title_tags = driver.find_elements_by_xpath(\"//a[@class='title fw500 ellipsis']\")\n",
    "title_tags"
   ]
  },
  {
   "cell_type": "code",
   "execution_count": 382,
   "metadata": {},
   "outputs": [
    {
     "data": {
      "text/plain": [
       "['SQL Data Analyst',\n",
       " 'Data Analyst - Marketing',\n",
       " 'Openings For Data Analyst',\n",
       " 'Associate Data Analyst',\n",
       " 'Business Data Analyst',\n",
       " 'Data Analyst / Business Analyst (Demand Planning)',\n",
       " 'Data Analyst',\n",
       " 'Lead Data Analyst / Data Engineer',\n",
       " 'Business Data Analyst',\n",
       " 'Senior Data Analyst']"
      ]
     },
     "execution_count": 382,
     "metadata": {},
     "output_type": "execute_result"
    }
   ],
   "source": [
    "Job_Title = []\n",
    "for i in title_tags:\n",
    "    title = i.text\n",
    "    Job_Title.append(i.text)\n",
    "Job_Title[0:10]"
   ]
  },
  {
   "cell_type": "code",
   "execution_count": 383,
   "metadata": {
    "scrolled": true
   },
   "outputs": [
    {
     "data": {
      "text/plain": [
       "[<selenium.webdriver.remote.webelement.WebElement (session=\"d0b33f1ecc961ae5f645403df4d8265c\", element=\"450972fb-16e2-4ac3-907b-0ebfa035f7d6\")>,\n",
       " <selenium.webdriver.remote.webelement.WebElement (session=\"d0b33f1ecc961ae5f645403df4d8265c\", element=\"4e8ed9b5-a56e-419b-9ac7-72ad8fc54e05\")>,\n",
       " <selenium.webdriver.remote.webelement.WebElement (session=\"d0b33f1ecc961ae5f645403df4d8265c\", element=\"6ad71ee4-db92-4f9c-87dc-5cba0ed08842\")>,\n",
       " <selenium.webdriver.remote.webelement.WebElement (session=\"d0b33f1ecc961ae5f645403df4d8265c\", element=\"e52dfed0-53a8-4025-8b6b-7264550e57a8\")>,\n",
       " <selenium.webdriver.remote.webelement.WebElement (session=\"d0b33f1ecc961ae5f645403df4d8265c\", element=\"33897108-257a-4496-a766-b0271d58e9e2\")>,\n",
       " <selenium.webdriver.remote.webelement.WebElement (session=\"d0b33f1ecc961ae5f645403df4d8265c\", element=\"e0c82a06-7e8b-41d9-9116-721d931fde59\")>,\n",
       " <selenium.webdriver.remote.webelement.WebElement (session=\"d0b33f1ecc961ae5f645403df4d8265c\", element=\"c417cee5-a94e-41b2-81fa-800f5c621afa\")>,\n",
       " <selenium.webdriver.remote.webelement.WebElement (session=\"d0b33f1ecc961ae5f645403df4d8265c\", element=\"47f5cc2d-d245-4a7d-9a31-fc0374ef7419\")>,\n",
       " <selenium.webdriver.remote.webelement.WebElement (session=\"d0b33f1ecc961ae5f645403df4d8265c\", element=\"b7f2c793-1d9f-422c-b622-1ce26fc9c64e\")>,\n",
       " <selenium.webdriver.remote.webelement.WebElement (session=\"d0b33f1ecc961ae5f645403df4d8265c\", element=\"7982f5ec-7f07-4947-ac01-4c4e7b097efe\")>,\n",
       " <selenium.webdriver.remote.webelement.WebElement (session=\"d0b33f1ecc961ae5f645403df4d8265c\", element=\"9215717d-8ea3-485f-84ae-14c2403cecb0\")>,\n",
       " <selenium.webdriver.remote.webelement.WebElement (session=\"d0b33f1ecc961ae5f645403df4d8265c\", element=\"07562c0a-bf22-4b0a-9e4b-69f2d0d31746\")>,\n",
       " <selenium.webdriver.remote.webelement.WebElement (session=\"d0b33f1ecc961ae5f645403df4d8265c\", element=\"bc7499bc-0770-4d04-b039-7dd2145d7b33\")>,\n",
       " <selenium.webdriver.remote.webelement.WebElement (session=\"d0b33f1ecc961ae5f645403df4d8265c\", element=\"3d68ff5a-7e3a-4b62-9f89-24445857e6ff\")>,\n",
       " <selenium.webdriver.remote.webelement.WebElement (session=\"d0b33f1ecc961ae5f645403df4d8265c\", element=\"633bd618-7125-4313-a0ee-5ef655b6bf98\")>,\n",
       " <selenium.webdriver.remote.webelement.WebElement (session=\"d0b33f1ecc961ae5f645403df4d8265c\", element=\"b0d37e3b-5854-4b1f-9af9-48c00a44f419\")>,\n",
       " <selenium.webdriver.remote.webelement.WebElement (session=\"d0b33f1ecc961ae5f645403df4d8265c\", element=\"b08d6deb-bf1e-4e3d-82e8-c62c315956ce\")>,\n",
       " <selenium.webdriver.remote.webelement.WebElement (session=\"d0b33f1ecc961ae5f645403df4d8265c\", element=\"5bb28036-ccd6-4fec-ad8f-6bffc35f136c\")>,\n",
       " <selenium.webdriver.remote.webelement.WebElement (session=\"d0b33f1ecc961ae5f645403df4d8265c\", element=\"cda8d43b-6958-424c-904d-fea4505f1d18\")>,\n",
       " <selenium.webdriver.remote.webelement.WebElement (session=\"d0b33f1ecc961ae5f645403df4d8265c\", element=\"70bc453e-71a5-4642-bbc6-a0984f111b95\")>]"
      ]
     },
     "execution_count": 383,
     "metadata": {},
     "output_type": "execute_result"
    }
   ],
   "source": [
    "loc_tags = driver.find_elements_by_xpath(\"//li[@class='fleft grey-text br2 placeHolderLi location']/span[1]\")\n",
    "loc_tags"
   ]
  },
  {
   "cell_type": "code",
   "execution_count": 384,
   "metadata": {},
   "outputs": [
    {
     "data": {
      "text/plain": [
       "['Bangalore/Bengaluru',\n",
       " 'Bangalore/Bengaluru',\n",
       " 'Bangalore/Bengaluru',\n",
       " 'Bangalore/Bengaluru',\n",
       " 'Bangalore/Bengaluru',\n",
       " 'Bangalore/Bengaluru',\n",
       " 'Bangalore/Bengaluru',\n",
       " 'Bangalore/Bengaluru',\n",
       " 'Bangalore/Bengaluru',\n",
       " 'Bangalore/Bengaluru']"
      ]
     },
     "execution_count": 384,
     "metadata": {},
     "output_type": "execute_result"
    }
   ],
   "source": [
    "Location = []\n",
    "for i in loc_tags:\n",
    "    locv = i.text\n",
    "    Location.append(i.text)\n",
    "Location[0:10]"
   ]
  },
  {
   "cell_type": "code",
   "execution_count": 385,
   "metadata": {
    "scrolled": true
   },
   "outputs": [
    {
     "data": {
      "text/plain": [
       "[<selenium.webdriver.remote.webelement.WebElement (session=\"d0b33f1ecc961ae5f645403df4d8265c\", element=\"6dcf53c2-dab4-4b92-8cbc-5ddc8cf2d877\")>,\n",
       " <selenium.webdriver.remote.webelement.WebElement (session=\"d0b33f1ecc961ae5f645403df4d8265c\", element=\"55ccf077-79f7-4c5f-bcf0-5fb3aeaac889\")>,\n",
       " <selenium.webdriver.remote.webelement.WebElement (session=\"d0b33f1ecc961ae5f645403df4d8265c\", element=\"37af4f6d-ca6c-44ab-9682-03aa41232621\")>,\n",
       " <selenium.webdriver.remote.webelement.WebElement (session=\"d0b33f1ecc961ae5f645403df4d8265c\", element=\"cc190e17-ea62-4ab0-b4bc-189d083448d9\")>,\n",
       " <selenium.webdriver.remote.webelement.WebElement (session=\"d0b33f1ecc961ae5f645403df4d8265c\", element=\"f7f71435-72ee-4e01-8e05-0287ac0fed86\")>,\n",
       " <selenium.webdriver.remote.webelement.WebElement (session=\"d0b33f1ecc961ae5f645403df4d8265c\", element=\"276379b0-6caa-4692-8692-2c91844a5f00\")>,\n",
       " <selenium.webdriver.remote.webelement.WebElement (session=\"d0b33f1ecc961ae5f645403df4d8265c\", element=\"f4af6cf9-2116-4afe-a9e8-07ca95a00784\")>,\n",
       " <selenium.webdriver.remote.webelement.WebElement (session=\"d0b33f1ecc961ae5f645403df4d8265c\", element=\"9492d716-3f05-4c43-888d-c94ee3116812\")>,\n",
       " <selenium.webdriver.remote.webelement.WebElement (session=\"d0b33f1ecc961ae5f645403df4d8265c\", element=\"64941887-0613-460d-956a-b4add6272499\")>,\n",
       " <selenium.webdriver.remote.webelement.WebElement (session=\"d0b33f1ecc961ae5f645403df4d8265c\", element=\"ac5b1ecb-457b-44e9-8810-5ee48aa350ac\")>,\n",
       " <selenium.webdriver.remote.webelement.WebElement (session=\"d0b33f1ecc961ae5f645403df4d8265c\", element=\"6a4fc211-d3ee-42b2-9a45-3820ebd8acd3\")>,\n",
       " <selenium.webdriver.remote.webelement.WebElement (session=\"d0b33f1ecc961ae5f645403df4d8265c\", element=\"342d753e-b536-4761-90d0-e8d9e07ce1ae\")>,\n",
       " <selenium.webdriver.remote.webelement.WebElement (session=\"d0b33f1ecc961ae5f645403df4d8265c\", element=\"27ca2dc4-3647-4907-ab9a-2ed3bece3afa\")>,\n",
       " <selenium.webdriver.remote.webelement.WebElement (session=\"d0b33f1ecc961ae5f645403df4d8265c\", element=\"1787e9ee-f73e-4691-9bda-93beb28bd4de\")>,\n",
       " <selenium.webdriver.remote.webelement.WebElement (session=\"d0b33f1ecc961ae5f645403df4d8265c\", element=\"e32fcb09-ef24-4538-9490-ecc1a374783a\")>,\n",
       " <selenium.webdriver.remote.webelement.WebElement (session=\"d0b33f1ecc961ae5f645403df4d8265c\", element=\"7c891c62-431a-4613-bc04-01cc5b191dc8\")>,\n",
       " <selenium.webdriver.remote.webelement.WebElement (session=\"d0b33f1ecc961ae5f645403df4d8265c\", element=\"e4a90df2-7276-4a4c-ae47-108de8756643\")>,\n",
       " <selenium.webdriver.remote.webelement.WebElement (session=\"d0b33f1ecc961ae5f645403df4d8265c\", element=\"9469b4e8-3f72-4e10-bfde-fa8d6ce4d493\")>,\n",
       " <selenium.webdriver.remote.webelement.WebElement (session=\"d0b33f1ecc961ae5f645403df4d8265c\", element=\"8af9e4a5-8932-4da8-8a4d-ed163add97d1\")>,\n",
       " <selenium.webdriver.remote.webelement.WebElement (session=\"d0b33f1ecc961ae5f645403df4d8265c\", element=\"72557064-c972-4a56-bfb9-d8f191f59a0b\")>]"
      ]
     },
     "execution_count": 385,
     "metadata": {},
     "output_type": "execute_result"
    }
   ],
   "source": [
    "Com_tags = driver.find_elements_by_xpath(\"//div[@class='mt-7 companyInfo subheading lh16']/a[1]\")\n",
    "Com_tags"
   ]
  },
  {
   "cell_type": "code",
   "execution_count": 386,
   "metadata": {},
   "outputs": [
    {
     "data": {
      "text/plain": [
       "['NetApp',\n",
       " 'Byjus - Transforming Education using Technology',\n",
       " 'Allegis Services India Pvt. Ltd.',\n",
       " 'Integrated Digital Systems',\n",
       " 'INDIAVIDUAL LEARNING LIMITED',\n",
       " 'Flipkart',\n",
       " 'Applied Materials',\n",
       " 'Huawei Technologies',\n",
       " 'RANDSTAD INDIA PVT LTD',\n",
       " 'Scienaptic Systems']"
      ]
     },
     "execution_count": 386,
     "metadata": {},
     "output_type": "execute_result"
    }
   ],
   "source": [
    "Company = []\n",
    "for i in Com_tags:\n",
    "    comp = i.text\n",
    "    Company.append(i.text)\n",
    "Company[0:10]"
   ]
  },
  {
   "cell_type": "code",
   "execution_count": 387,
   "metadata": {
    "scrolled": true
   },
   "outputs": [
    {
     "data": {
      "text/plain": [
       "[<selenium.webdriver.remote.webelement.WebElement (session=\"d0b33f1ecc961ae5f645403df4d8265c\", element=\"43bc2ca1-4b2b-4a84-be73-4e513fb9c337\")>,\n",
       " <selenium.webdriver.remote.webelement.WebElement (session=\"d0b33f1ecc961ae5f645403df4d8265c\", element=\"c864812e-c951-4790-bf2e-f25e9cfe2410\")>,\n",
       " <selenium.webdriver.remote.webelement.WebElement (session=\"d0b33f1ecc961ae5f645403df4d8265c\", element=\"4c24f939-f520-4e60-8022-ca17ee58b9e4\")>,\n",
       " <selenium.webdriver.remote.webelement.WebElement (session=\"d0b33f1ecc961ae5f645403df4d8265c\", element=\"f86e282d-55d8-4c02-8f3d-e8b3c0a72718\")>,\n",
       " <selenium.webdriver.remote.webelement.WebElement (session=\"d0b33f1ecc961ae5f645403df4d8265c\", element=\"c580ca63-185d-43df-8ec7-55096932a06b\")>,\n",
       " <selenium.webdriver.remote.webelement.WebElement (session=\"d0b33f1ecc961ae5f645403df4d8265c\", element=\"8843c436-6842-4de6-a2f0-20f442683536\")>,\n",
       " <selenium.webdriver.remote.webelement.WebElement (session=\"d0b33f1ecc961ae5f645403df4d8265c\", element=\"248a94a9-9934-4374-a1c1-1681b3abaf34\")>,\n",
       " <selenium.webdriver.remote.webelement.WebElement (session=\"d0b33f1ecc961ae5f645403df4d8265c\", element=\"6d14f056-b07d-4508-9987-952daaf2fe0e\")>,\n",
       " <selenium.webdriver.remote.webelement.WebElement (session=\"d0b33f1ecc961ae5f645403df4d8265c\", element=\"749ee902-4fee-4aea-81c3-51b54d97faa6\")>,\n",
       " <selenium.webdriver.remote.webelement.WebElement (session=\"d0b33f1ecc961ae5f645403df4d8265c\", element=\"65e45f75-3d66-417a-a01f-5bfea4686ef4\")>,\n",
       " <selenium.webdriver.remote.webelement.WebElement (session=\"d0b33f1ecc961ae5f645403df4d8265c\", element=\"862db14e-ef8a-40c2-b702-919a5c26546e\")>,\n",
       " <selenium.webdriver.remote.webelement.WebElement (session=\"d0b33f1ecc961ae5f645403df4d8265c\", element=\"23d7a227-1b81-4ca7-97aa-b6bbe9f86427\")>,\n",
       " <selenium.webdriver.remote.webelement.WebElement (session=\"d0b33f1ecc961ae5f645403df4d8265c\", element=\"512f93ed-551a-4daa-b9c4-b12de28206a2\")>,\n",
       " <selenium.webdriver.remote.webelement.WebElement (session=\"d0b33f1ecc961ae5f645403df4d8265c\", element=\"5af0b880-10b1-4ca1-b139-be00998226a4\")>,\n",
       " <selenium.webdriver.remote.webelement.WebElement (session=\"d0b33f1ecc961ae5f645403df4d8265c\", element=\"4cca73db-d66d-4822-9b10-cbe24b02aadd\")>,\n",
       " <selenium.webdriver.remote.webelement.WebElement (session=\"d0b33f1ecc961ae5f645403df4d8265c\", element=\"a8004bbb-9680-41e6-9dc8-9f2ba285d6f8\")>,\n",
       " <selenium.webdriver.remote.webelement.WebElement (session=\"d0b33f1ecc961ae5f645403df4d8265c\", element=\"54621876-1e03-44f8-8b1e-5f6e73b7c406\")>,\n",
       " <selenium.webdriver.remote.webelement.WebElement (session=\"d0b33f1ecc961ae5f645403df4d8265c\", element=\"bacc568e-50d9-46cc-b205-8c696639dbc0\")>,\n",
       " <selenium.webdriver.remote.webelement.WebElement (session=\"d0b33f1ecc961ae5f645403df4d8265c\", element=\"0788ba2f-94a7-46d5-8c2b-1095a9a8fffe\")>,\n",
       " <selenium.webdriver.remote.webelement.WebElement (session=\"d0b33f1ecc961ae5f645403df4d8265c\", element=\"66244df5-bfaa-4ce9-aa8d-f5d0ad02413a\")>]"
      ]
     },
     "execution_count": 387,
     "metadata": {},
     "output_type": "execute_result"
    }
   ],
   "source": [
    "ex_tags = driver.find_elements_by_xpath(\"//li[@class='fleft grey-text br2 placeHolderLi experience']/span[1]\")\n",
    "ex_tags"
   ]
  },
  {
   "cell_type": "code",
   "execution_count": 388,
   "metadata": {},
   "outputs": [
    {
     "data": {
      "text/plain": [
       "['3-7 Yrs',\n",
       " '0-2 Yrs',\n",
       " '0-3 Yrs',\n",
       " '0-2 Yrs',\n",
       " '2-6 Yrs',\n",
       " '1-4 Yrs',\n",
       " '0-3 Yrs',\n",
       " '5-10 Yrs',\n",
       " '8-12 Yrs',\n",
       " '5-10 Yrs']"
      ]
     },
     "execution_count": 388,
     "metadata": {},
     "output_type": "execute_result"
    }
   ],
   "source": [
    "Experience = []\n",
    "for i in ex_tags:\n",
    "    exp = i.text\n",
    "    Experience.append(i.text)\n",
    "Experience[0:10]"
   ]
  },
  {
   "cell_type": "code",
   "execution_count": 389,
   "metadata": {},
   "outputs": [
    {
     "data": {
      "text/html": [
       "<div>\n",
       "<style scoped>\n",
       "    .dataframe tbody tr th:only-of-type {\n",
       "        vertical-align: middle;\n",
       "    }\n",
       "\n",
       "    .dataframe tbody tr th {\n",
       "        vertical-align: top;\n",
       "    }\n",
       "\n",
       "    .dataframe thead th {\n",
       "        text-align: right;\n",
       "    }\n",
       "</style>\n",
       "<table border=\"1\" class=\"dataframe\">\n",
       "  <thead>\n",
       "    <tr style=\"text-align: right;\">\n",
       "      <th></th>\n",
       "      <th>Job Title</th>\n",
       "      <th>Location</th>\n",
       "      <th>Company</th>\n",
       "      <th>Experience Required</th>\n",
       "    </tr>\n",
       "  </thead>\n",
       "  <tbody>\n",
       "    <tr>\n",
       "      <th>1</th>\n",
       "      <td>SQL Data Analyst</td>\n",
       "      <td>Bangalore/Bengaluru</td>\n",
       "      <td>NetApp</td>\n",
       "      <td>3-7 Yrs</td>\n",
       "    </tr>\n",
       "    <tr>\n",
       "      <th>2</th>\n",
       "      <td>Data Analyst - Marketing</td>\n",
       "      <td>Bangalore/Bengaluru</td>\n",
       "      <td>Byjus - Transforming Education using Technology</td>\n",
       "      <td>0-2 Yrs</td>\n",
       "    </tr>\n",
       "    <tr>\n",
       "      <th>3</th>\n",
       "      <td>Openings For Data Analyst</td>\n",
       "      <td>Bangalore/Bengaluru</td>\n",
       "      <td>Allegis Services India Pvt. Ltd.</td>\n",
       "      <td>0-3 Yrs</td>\n",
       "    </tr>\n",
       "    <tr>\n",
       "      <th>4</th>\n",
       "      <td>Associate Data Analyst</td>\n",
       "      <td>Bangalore/Bengaluru</td>\n",
       "      <td>Integrated Digital Systems</td>\n",
       "      <td>0-2 Yrs</td>\n",
       "    </tr>\n",
       "    <tr>\n",
       "      <th>5</th>\n",
       "      <td>Business Data Analyst</td>\n",
       "      <td>Bangalore/Bengaluru</td>\n",
       "      <td>INDIAVIDUAL LEARNING LIMITED</td>\n",
       "      <td>2-6 Yrs</td>\n",
       "    </tr>\n",
       "    <tr>\n",
       "      <th>6</th>\n",
       "      <td>Data Analyst / Business Analyst (Demand Planning)</td>\n",
       "      <td>Bangalore/Bengaluru</td>\n",
       "      <td>Flipkart</td>\n",
       "      <td>1-4 Yrs</td>\n",
       "    </tr>\n",
       "    <tr>\n",
       "      <th>7</th>\n",
       "      <td>Data Analyst</td>\n",
       "      <td>Bangalore/Bengaluru</td>\n",
       "      <td>Applied Materials</td>\n",
       "      <td>0-3 Yrs</td>\n",
       "    </tr>\n",
       "    <tr>\n",
       "      <th>8</th>\n",
       "      <td>Lead Data Analyst / Data Engineer</td>\n",
       "      <td>Bangalore/Bengaluru</td>\n",
       "      <td>Huawei Technologies</td>\n",
       "      <td>5-10 Yrs</td>\n",
       "    </tr>\n",
       "    <tr>\n",
       "      <th>9</th>\n",
       "      <td>Business Data Analyst</td>\n",
       "      <td>Bangalore/Bengaluru</td>\n",
       "      <td>RANDSTAD INDIA PVT LTD</td>\n",
       "      <td>8-12 Yrs</td>\n",
       "    </tr>\n",
       "    <tr>\n",
       "      <th>10</th>\n",
       "      <td>Senior Data Analyst</td>\n",
       "      <td>Bangalore/Bengaluru</td>\n",
       "      <td>Scienaptic Systems</td>\n",
       "      <td>5-10 Yrs</td>\n",
       "    </tr>\n",
       "  </tbody>\n",
       "</table>\n",
       "</div>"
      ],
      "text/plain": [
       "                                            Job Title             Location  \\\n",
       "1                                    SQL Data Analyst  Bangalore/Bengaluru   \n",
       "2                            Data Analyst - Marketing  Bangalore/Bengaluru   \n",
       "3                           Openings For Data Analyst  Bangalore/Bengaluru   \n",
       "4                              Associate Data Analyst  Bangalore/Bengaluru   \n",
       "5                               Business Data Analyst  Bangalore/Bengaluru   \n",
       "6   Data Analyst / Business Analyst (Demand Planning)  Bangalore/Bengaluru   \n",
       "7                                        Data Analyst  Bangalore/Bengaluru   \n",
       "8                   Lead Data Analyst / Data Engineer  Bangalore/Bengaluru   \n",
       "9                               Business Data Analyst  Bangalore/Bengaluru   \n",
       "10                                Senior Data Analyst  Bangalore/Bengaluru   \n",
       "\n",
       "                                            Company Experience Required  \n",
       "1                                            NetApp             3-7 Yrs  \n",
       "2   Byjus - Transforming Education using Technology             0-2 Yrs  \n",
       "3                  Allegis Services India Pvt. Ltd.             0-3 Yrs  \n",
       "4                        Integrated Digital Systems             0-2 Yrs  \n",
       "5                      INDIAVIDUAL LEARNING LIMITED             2-6 Yrs  \n",
       "6                                          Flipkart             1-4 Yrs  \n",
       "7                                 Applied Materials             0-3 Yrs  \n",
       "8                               Huawei Technologies            5-10 Yrs  \n",
       "9                            RANDSTAD INDIA PVT LTD            8-12 Yrs  \n",
       "10                               Scienaptic Systems            5-10 Yrs  "
      ]
     },
     "execution_count": 389,
     "metadata": {},
     "output_type": "execute_result"
    }
   ],
   "source": [
    "Naukri_Data=pd.DataFrame({})\n",
    "Naukri_Data['Job Title']=Job_Title[0:10]\n",
    "Naukri_Data['Location']=Location[0:10]\n",
    "Naukri_Data['Company']=Company[0:10]\n",
    "Naukri_Data['Experience Required']=Experience[0:10]\n",
    "Naukri_Data.index = np.arange(1, len(Naukri_Data)+1)\n",
    "Naukri_Data[0:10]"
   ]
  },
  {
   "cell_type": "code",
   "execution_count": 390,
   "metadata": {},
   "outputs": [],
   "source": [
    "driver.close()"
   ]
  },
  {
   "cell_type": "markdown",
   "metadata": {},
   "source": [
    "# Q2: Write a python program to scrape data for “Data Scientist” Job position in “Bangalore” location. You have to scrape the job-title, job-location, company_name, full job-description. You have to scrape first 10 jobs data.\n",
    "This task will be done in following steps:\n",
    "1. first get the webpage https://www.naukri.com/\n",
    "2. Enter “Data Scientist” in “Skill,Designations,Companies” field and enter “Bangalore” in “enter the location” field.\n",
    "3. Then click the search button.\n",
    "4. Then scrape the data for the first 10 jobs results you get.\n",
    "5. Finally create a dataframe of the scraped data.\n",
    "Note- 1. All of the above steps have to be done in code. No step is to be done manually."
   ]
  },
  {
   "cell_type": "code",
   "execution_count": 391,
   "metadata": {},
   "outputs": [
    {
     "data": {
      "text/plain": [
       "<selenium.webdriver.chrome.webdriver.WebDriver (session=\"4abd02a4143bd604220890adeb3b7289\")>"
      ]
     },
     "execution_count": 391,
     "metadata": {},
     "output_type": "execute_result"
    }
   ],
   "source": [
    "driver = webdriver.Chrome(executable_path='/Users/rahulmore/chromedriver')\n",
    "driver"
   ]
  },
  {
   "cell_type": "code",
   "execution_count": 392,
   "metadata": {},
   "outputs": [],
   "source": [
    "url2 = driver.get('https://www.naukri.com/browse-jobs')"
   ]
  },
  {
   "cell_type": "code",
   "execution_count": 393,
   "metadata": {},
   "outputs": [],
   "source": [
    "job2 = driver.find_element_by_xpath(\"//input[@placeholder='Skills, Designations, Companies']\")\n",
    "job2.send_keys('Data Scientist')\n",
    "time.sleep(1)\n",
    "\n",
    "location2 = driver.find_element_by_xpath(\"//input[@placeholder='Location/Locality']\")\n",
    "location2.send_keys('Bangalore')\n",
    "time.sleep(1)\n",
    "\n",
    "search2 = driver.find_element_by_xpath(\"//button[@id='qsbFormBtn']\")\n",
    "search2.click()\n",
    "\n",
    "time.sleep(10)"
   ]
  },
  {
   "cell_type": "code",
   "execution_count": 394,
   "metadata": {},
   "outputs": [],
   "source": [
    "chatbot = driver.find_element_by_xpath(\"//div[@class='crossIcon chatBot chatBot-ic-cross']\")\n",
    "\n",
    "try:\n",
    "    chatbot.click()\n",
    "except:\n",
    "    pass"
   ]
  },
  {
   "cell_type": "code",
   "execution_count": 395,
   "metadata": {
    "scrolled": true
   },
   "outputs": [
    {
     "data": {
      "text/plain": [
       "[<selenium.webdriver.remote.webelement.WebElement (session=\"4abd02a4143bd604220890adeb3b7289\", element=\"b49ef1ad-4c5a-48b0-8a97-6950581e4a66\")>,\n",
       " <selenium.webdriver.remote.webelement.WebElement (session=\"4abd02a4143bd604220890adeb3b7289\", element=\"041ef52d-0d58-4b63-a9ab-0723ece311f0\")>,\n",
       " <selenium.webdriver.remote.webelement.WebElement (session=\"4abd02a4143bd604220890adeb3b7289\", element=\"c762a7f2-dd14-4b38-b029-4c15c704964f\")>,\n",
       " <selenium.webdriver.remote.webelement.WebElement (session=\"4abd02a4143bd604220890adeb3b7289\", element=\"c04f97a0-a01d-4696-8fc7-1850929db949\")>,\n",
       " <selenium.webdriver.remote.webelement.WebElement (session=\"4abd02a4143bd604220890adeb3b7289\", element=\"71f1aa49-fced-470f-8ea9-8865b9856098\")>,\n",
       " <selenium.webdriver.remote.webelement.WebElement (session=\"4abd02a4143bd604220890adeb3b7289\", element=\"7019ac56-430e-4ad6-925b-6da61e72afe9\")>,\n",
       " <selenium.webdriver.remote.webelement.WebElement (session=\"4abd02a4143bd604220890adeb3b7289\", element=\"36e68c8d-ba14-4af9-a1b1-5fd8ba1adfe0\")>,\n",
       " <selenium.webdriver.remote.webelement.WebElement (session=\"4abd02a4143bd604220890adeb3b7289\", element=\"c6f29918-9225-4a49-9d9c-b64435fc30b7\")>,\n",
       " <selenium.webdriver.remote.webelement.WebElement (session=\"4abd02a4143bd604220890adeb3b7289\", element=\"74543d13-5399-4cb8-8c59-9692d9be62f9\")>,\n",
       " <selenium.webdriver.remote.webelement.WebElement (session=\"4abd02a4143bd604220890adeb3b7289\", element=\"fb946f36-c531-4b51-858e-4f5a65f5e9ed\")>,\n",
       " <selenium.webdriver.remote.webelement.WebElement (session=\"4abd02a4143bd604220890adeb3b7289\", element=\"ca7a6666-393c-4a47-ac16-7825f1af5dd0\")>,\n",
       " <selenium.webdriver.remote.webelement.WebElement (session=\"4abd02a4143bd604220890adeb3b7289\", element=\"886d9f5d-26e4-4464-a3a8-cd7a83fd7dc3\")>,\n",
       " <selenium.webdriver.remote.webelement.WebElement (session=\"4abd02a4143bd604220890adeb3b7289\", element=\"296fde83-d14c-4aa1-b708-aac79cece319\")>,\n",
       " <selenium.webdriver.remote.webelement.WebElement (session=\"4abd02a4143bd604220890adeb3b7289\", element=\"6a7f365b-c4e5-45ca-9d96-55323e69d575\")>,\n",
       " <selenium.webdriver.remote.webelement.WebElement (session=\"4abd02a4143bd604220890adeb3b7289\", element=\"43f9373d-dbfa-42f5-8cb6-1a62ed9368aa\")>,\n",
       " <selenium.webdriver.remote.webelement.WebElement (session=\"4abd02a4143bd604220890adeb3b7289\", element=\"f14cb048-8d6a-43f7-9f51-0cf4727b4398\")>,\n",
       " <selenium.webdriver.remote.webelement.WebElement (session=\"4abd02a4143bd604220890adeb3b7289\", element=\"707f8c90-88ce-4706-b5d4-7eaa49d5ec9a\")>,\n",
       " <selenium.webdriver.remote.webelement.WebElement (session=\"4abd02a4143bd604220890adeb3b7289\", element=\"006d35df-291c-46da-a313-974e94d3997e\")>,\n",
       " <selenium.webdriver.remote.webelement.WebElement (session=\"4abd02a4143bd604220890adeb3b7289\", element=\"cc3d5e80-24c6-400e-990c-7ba6a7cf7553\")>,\n",
       " <selenium.webdriver.remote.webelement.WebElement (session=\"4abd02a4143bd604220890adeb3b7289\", element=\"13a5b4f6-a6fa-439f-a281-90f983951b70\")>]"
      ]
     },
     "execution_count": 395,
     "metadata": {},
     "output_type": "execute_result"
    }
   ],
   "source": [
    "title_tags2 = driver.find_elements_by_xpath(\"//a[@class='title fw500 ellipsis']\")\n",
    "title_tags2"
   ]
  },
  {
   "cell_type": "code",
   "execution_count": 396,
   "metadata": {},
   "outputs": [
    {
     "data": {
      "text/plain": [
       "['Sr. Data Scientist / Data Scientist For Bangalore & Kolkata Locations',\n",
       " 'Data Scientist',\n",
       " 'Senior Data Scientist - Python/Machine Learning Algorithms',\n",
       " 'Lead Data Scientist',\n",
       " 'SDE2 Data Scientist',\n",
       " 'SDE1 Data Scientist',\n",
       " 'Data Scientist',\n",
       " 'Data Scientist',\n",
       " 'Vice President Data Scientist',\n",
       " 'Data Scientist']"
      ]
     },
     "execution_count": 396,
     "metadata": {},
     "output_type": "execute_result"
    }
   ],
   "source": [
    "Job_Title2 = []\n",
    "for i in title_tags2:\n",
    "    title = i.text\n",
    "    Job_Title2.append(i.text)\n",
    "Job_Title2[0:10]"
   ]
  },
  {
   "cell_type": "code",
   "execution_count": 397,
   "metadata": {
    "scrolled": true
   },
   "outputs": [
    {
     "data": {
      "text/plain": [
       "[<selenium.webdriver.remote.webelement.WebElement (session=\"4abd02a4143bd604220890adeb3b7289\", element=\"e0839483-f49a-4556-84cb-2af982990e26\")>,\n",
       " <selenium.webdriver.remote.webelement.WebElement (session=\"4abd02a4143bd604220890adeb3b7289\", element=\"0738b3c3-eff2-4eee-a845-5f88a09965bc\")>,\n",
       " <selenium.webdriver.remote.webelement.WebElement (session=\"4abd02a4143bd604220890adeb3b7289\", element=\"2a008ba5-5f92-4874-9579-0435510d9bea\")>,\n",
       " <selenium.webdriver.remote.webelement.WebElement (session=\"4abd02a4143bd604220890adeb3b7289\", element=\"28ac354f-8084-433d-b88c-3e31ee9a3717\")>,\n",
       " <selenium.webdriver.remote.webelement.WebElement (session=\"4abd02a4143bd604220890adeb3b7289\", element=\"969800e5-fd74-46aa-9417-2c63caebacb9\")>,\n",
       " <selenium.webdriver.remote.webelement.WebElement (session=\"4abd02a4143bd604220890adeb3b7289\", element=\"94c5cf5e-e6c5-428d-b852-56c33096f5fb\")>,\n",
       " <selenium.webdriver.remote.webelement.WebElement (session=\"4abd02a4143bd604220890adeb3b7289\", element=\"db77bb48-6d92-4fab-8582-5152a02d923e\")>,\n",
       " <selenium.webdriver.remote.webelement.WebElement (session=\"4abd02a4143bd604220890adeb3b7289\", element=\"6fd65f22-8fdf-42a3-b219-459b996f7dda\")>,\n",
       " <selenium.webdriver.remote.webelement.WebElement (session=\"4abd02a4143bd604220890adeb3b7289\", element=\"fafb6890-3dcf-483f-9dce-81ef5de3ddfd\")>,\n",
       " <selenium.webdriver.remote.webelement.WebElement (session=\"4abd02a4143bd604220890adeb3b7289\", element=\"300d07ba-051e-4afe-8d51-bb8240a9713a\")>,\n",
       " <selenium.webdriver.remote.webelement.WebElement (session=\"4abd02a4143bd604220890adeb3b7289\", element=\"58a09e74-43c8-466d-a04c-ebba132032ba\")>,\n",
       " <selenium.webdriver.remote.webelement.WebElement (session=\"4abd02a4143bd604220890adeb3b7289\", element=\"8d2c4091-140c-4f18-92ad-f290b769da7d\")>,\n",
       " <selenium.webdriver.remote.webelement.WebElement (session=\"4abd02a4143bd604220890adeb3b7289\", element=\"ab474a51-9e20-4f24-b634-d394bc3e0e4c\")>,\n",
       " <selenium.webdriver.remote.webelement.WebElement (session=\"4abd02a4143bd604220890adeb3b7289\", element=\"f3e8fb01-5c7c-4a09-ac4d-fa99ca45acb3\")>,\n",
       " <selenium.webdriver.remote.webelement.WebElement (session=\"4abd02a4143bd604220890adeb3b7289\", element=\"9a7ef4e9-a3fe-4c48-88ce-4ed6bf6146d5\")>,\n",
       " <selenium.webdriver.remote.webelement.WebElement (session=\"4abd02a4143bd604220890adeb3b7289\", element=\"747ded0a-da70-45e1-ae7b-a49e51d68546\")>,\n",
       " <selenium.webdriver.remote.webelement.WebElement (session=\"4abd02a4143bd604220890adeb3b7289\", element=\"183fef7e-0e20-4b11-89f0-ad18df30cd56\")>,\n",
       " <selenium.webdriver.remote.webelement.WebElement (session=\"4abd02a4143bd604220890adeb3b7289\", element=\"2463e5c6-f814-4691-9b76-492ff31accee\")>,\n",
       " <selenium.webdriver.remote.webelement.WebElement (session=\"4abd02a4143bd604220890adeb3b7289\", element=\"81d40b30-14e5-439c-a1d1-e11e0da37904\")>,\n",
       " <selenium.webdriver.remote.webelement.WebElement (session=\"4abd02a4143bd604220890adeb3b7289\", element=\"f795b33c-21b9-457f-993c-a5bdcfc02345\")>]"
      ]
     },
     "execution_count": 397,
     "metadata": {},
     "output_type": "execute_result"
    }
   ],
   "source": [
    "loc_tags2 = driver.find_elements_by_xpath(\"//li[@class='fleft grey-text br2 placeHolderLi location']/span[1]\")\n",
    "loc_tags2"
   ]
  },
  {
   "cell_type": "code",
   "execution_count": 398,
   "metadata": {},
   "outputs": [
    {
     "data": {
      "text/plain": [
       "['Kolkata, Bangalore/Bengaluru',\n",
       " 'Hyderabad/Secunderabad, Pune, Bangalore/Bengaluru',\n",
       " 'Mumbai, Hyderabad/Secunderabad, Pune, Bangalore/Bengaluru',\n",
       " 'Bangalore/Bengaluru',\n",
       " 'Bangalore/Bengaluru',\n",
       " 'Bangalore/Bengaluru',\n",
       " 'Bangalore/Bengaluru',\n",
       " 'Pune, Bangalore/Bengaluru',\n",
       " 'Bangalore/Bengaluru',\n",
       " 'Bangalore/Bengaluru']"
      ]
     },
     "execution_count": 398,
     "metadata": {},
     "output_type": "execute_result"
    }
   ],
   "source": [
    "Location2 = []\n",
    "for i in loc_tags2:\n",
    "    locv = i.text\n",
    "    Location2.append(i.text)\n",
    "Location2[0:10]"
   ]
  },
  {
   "cell_type": "code",
   "execution_count": 399,
   "metadata": {
    "scrolled": true
   },
   "outputs": [
    {
     "data": {
      "text/plain": [
       "['mPokket',\n",
       " 'Amazon Development Centre (India) Pvt. Ltd.',\n",
       " 'Altimax Business Solutions',\n",
       " 'Huawei Technologies',\n",
       " 'Multi Recruit',\n",
       " 'Multi Recruit',\n",
       " 'epiFi Technologies',\n",
       " 'Nutanix India Technologies Private Limited',\n",
       " 'ExecBoardinAsia',\n",
       " 'Capco Technologies Pvt Ltd']"
      ]
     },
     "execution_count": 399,
     "metadata": {},
     "output_type": "execute_result"
    }
   ],
   "source": [
    "Com_tags2 = driver.find_elements_by_xpath(\"//div[@class='mt-7 companyInfo subheading lh16']/a[1]\")\n",
    "Com_tags2\n",
    "\n",
    "Company2 = []\n",
    "for i in Com_tags2:\n",
    "    comp = i.text\n",
    "    Company2.append(i.text)\n",
    "Company2[0:10]"
   ]
  },
  {
   "cell_type": "code",
   "execution_count": 400,
   "metadata": {},
   "outputs": [],
   "source": [
    "job_opening_urls = []\n",
    "\n",
    "url= driver.find_elements_by_xpath('//a[@class= \"title fw500 ellipsis\"]')\n",
    "for i in url[0:10]:\n",
    "    job_opening_urls.append(i.get_attribute('href'))"
   ]
  },
  {
   "cell_type": "code",
   "execution_count": 401,
   "metadata": {
    "scrolled": true
   },
   "outputs": [
    {
     "data": {
      "text/plain": [
       "['https://www.naukri.com/job-listings-sr-data-scientist-data-scientist-for-bangalore-kolkata-locations-mpokket-kolkata-bangalore-bengaluru-3-to-8-years-141021001893?src=jobsearchDesk&sid=16343759361388261&xp=1&px=1',\n",
       " 'https://www.naukri.com/job-listings-data-scientist-amazon-development-centre-india-pvt-ltd-hyderabad-secunderabad-pune-bangalore-bengaluru-7-to-11-years-141021001625?src=jobsearchDesk&sid=16343759361388261&xp=2&px=1',\n",
       " 'https://www.naukri.com/job-listings-senior-data-scientist-python-machine-learning-algorithms-altimax-business-solutions-mumbai-hyderabad-secunderabad-pune-bangalore-bengaluru-4-to-9-years-020921908794?src=jobsearchDesk&sid=16343759361388261&xp=3&px=1',\n",
       " 'https://www.naukri.com/job-listings-lead-data-scientist-huawei-technologies-india-pvt-ltd-bangalore-bengaluru-4-to-9-years-121021907623?src=jobsearchDesk&sid=16343759361388261&xp=4&px=1',\n",
       " 'https://www.naukri.com/job-listings-sde2-data-scientist-multi-recruit-bangalore-bengaluru-2-to-7-years-141021501578?src=jobsearchDesk&sid=16343759361388261&xp=5&px=1',\n",
       " 'https://www.naukri.com/job-listings-sde1-data-scientist-multi-recruit-bangalore-bengaluru-8-to-13-years-141021501577?src=jobsearchDesk&sid=16343759361388261&xp=6&px=1',\n",
       " 'https://www.naukri.com/job-listings-data-scientist-epifi-technologies-bangalore-bengaluru-3-to-5-years-141021501473?src=jobsearchDesk&sid=16343759361388261&xp=7&px=1',\n",
       " 'https://www.naukri.com/job-listings-data-scientist-nutanix-india-technologies-private-limited-pune-bangalore-bengaluru-4-to-9-years-141021500782?src=jobsearchDesk&sid=16343759361388261&xp=8&px=1',\n",
       " 'https://www.naukri.com/job-listings-vice-president-data-scientist-execboardinasia-bangalore-bengaluru-11-to-15-years-141021500866?src=jobsearchDesk&sid=16343759361388261&xp=9&px=1',\n",
       " 'https://www.naukri.com/job-listings-data-scientist-capco-technologies-pvt-ltd-bangalore-bengaluru-4-to-9-years-141021500034?src=jobsearchDesk&sid=16343759361388261&xp=10&px=1']"
      ]
     },
     "execution_count": 401,
     "metadata": {},
     "output_type": "execute_result"
    }
   ],
   "source": [
    "job_opening_urls"
   ]
  },
  {
   "cell_type": "code",
   "execution_count": 402,
   "metadata": {},
   "outputs": [],
   "source": [
    "job_description=[]\n",
    "for i in job_opening_urls:\n",
    "    driver.get(i)\n",
    "    time.sleep(5)\n",
    "    \n",
    "    try:\n",
    "        description = driver.find_element_by_xpath('/html/body/div[1]/main/div[2]/div[2]/section[2]/div[1]')    \n",
    "        job_description.append(description.text)\n",
    "    except:\n",
    "        job_description.append('-')"
   ]
  },
  {
   "cell_type": "code",
   "execution_count": 403,
   "metadata": {},
   "outputs": [
    {
     "data": {
      "text/plain": [
       "['Job Description:\\n1. Must have\\na. Programming – Python (Preferred) / R\\nb. ML Models – i. Regression – Linear, Logistic, Multinomial, Mixed effect\\nii. Classification – Bagging & Boosting (Random Forest), Decision tree, SVM\\niii. Clustering – K-Means, hierarchical, DB-Scan\\niv. Time series – ARIMA, SARIMA, ARIMAX, Holt-Winters, Multi TS (VAR), UCM\\nv. Neural Networks (Deep learning), Naive Bayes\\nc. Excel and SQL\\nd. Dimensionality Reduction – PCA, SVD etc.\\ne. Optimization Techniques – Linear programming, Gradient Descent, Genetic Algorithm\\nf. Cloud – Understanding of Azure / AWS offerings, Setting up ML pipeline of cloud\\nGood to have –\\na. Visualization – Tableau / Power BI / Looker / QlikView\\nb. Data management – HDFS, Spark, Advanced Excel\\nc. Agile Tools – Azure DevOps, JIRA\\nd.Pyspark\\ne. Big Data/Hive Database\\nf: IDE: Pycharm',\n",
       " '-',\n",
       " \"About The Job :\\n\\n- You will architect, code and deploy ML models (from scratch) to predict credit risk.\\n\\n- You will design, run, and analyze A/B and multivariate tests to test hypotheses aimed at optimizing user experience and portfolio risk.\\n\\n- You will perform data exploration and build statistical models on user behavior to discover opportunities for decreasing user defaults. And you must truly be excited about this part.\\n\\n- You'll use behavioral and social data to gain insights into how humans make financial choices\\n\\n- You will spend a lot of time in building out predictive features from super sparse data sources.\\n\\n- You'll continually acquire new data sources to develop a rich dataset that characterizes risk.\\n\\n- You will code, drink, breathe and live python, sklearn and pandas. It's good to have experience in these but not a necessity - as long as you're super comfortable in a language of your choice.\\n\\nAbout You :\\n\\n- You've strong computer science fundamentals\\n\\n- You've strong understanding of ML algorithms\\n\\n- Ideally, you have 2+ years of experience in using ML in the industry environment\\n\\n- You know how to run tests and understand their results from a statistical perspective\\n\\n- You love freedom and hate being micromanaged. You own products end to end\\n\\n- You have a strong desire to learn and use the latest machine learning algorithms\\n\\n- It will be great if you have one of the following to share - a kaggle or a github profile\\n\\n- Degree in statistics/quant/engineering from Tier-1 institutes.\\n\\nSkills:- Data Science, Python, Perl, Django, Machine Learning (ML) and Data Analytics\",\n",
       " 'We are looking for a Lead data scientist who will help us discover the information hidden in vast amounts of Ad Campaign data, and help us to optimize the campaign to improve the advertiser ROI and improve the overall consumer experience. Your primary focus will be in applying data mining techniques, doing statistical analysis, and building high quality prediction systems using Deep learning algorithms integrated with our products. Some the key area you will be working on spend recommendation, floor price prediction, CTR/CVR prediction, market funnel analysis and perdition of lead to conversion, etc.\\n\\nResponsibility:\\nAnalyze the data, develop insights and identify the opportunity to utilize the data to predict various Advertisement key indicators like CTR, CVR, Inventory and Develop prediction and optimization algorithms for campaign, look alike modeling, etc for Huawei Ads.\\nTakeup key challenges in AI-driven Smart Ad Serving Platform and focus on research and developing leading AI algorithms and productionize for Huawei Ads.\\nTakeup initiative in identifying the SOTA and finding key gaps in AI algorithms and develop a world leading AI algorithms for optimizing real-time Ad Serving engine. Identify and optimize the core modules such as Traffic Prediction, Optimization, Ad Targeting/Re-targeting, Ad Performance Optimization, Audience insights, Attribution, Bidding, re-ranking, and Diagnostics. Support hundreds of billions of ad requests per day, with efficiently cache technology.\\nTo build and enhance Ad platform features and Prediction capabilities in Huawei Ads Platform\\nOptimized Cost Per Mille; Optimized Cost Per Action; Optimized Cost Per Click and Cost per Click. OCPM, OCPA, OCPC.\\n\\nRequirements:\\n- Strong hands-on experience in implementing and validating big data algorithms and models including Deep Learning models like Seq2Seq/ GRU/ RNN/LSTM , Knowledge Graph, Massive Graph algorithms, etc.\\n- Programming experience with Python\\n- Able to validate existing models including Deep Learning models with large scale dataset and able to make changes to the models to achieve better performance\\n- AdServing domain Experience is an added advantage.',\n",
       " 'Use data to develop machine learning models that optimize decision making in Credit Risk, Fraud, Marketing, and Operations\\nImplement data pipelines, new features, and algorithms that are critical to our production models\\nCreate scalable strategies to deploy and execute your models\\nWrite well designed, testable, efficient code\\nIdentify valuable data sources and automate collection processes.\\nUndertake pre-processing of structured and unstructured data.\\nAnalyze large amounts of information to discover trends and patterns.\\nRequirements:\\n2+ years of experience in applied data science or engineering with a focus on machine learning\\nPython expertise with good knowledge of machine learning libraries, tools, techniques, and frameworks (e.g. pandas, sklearn, xgboost, lightgbm, logistic regression, random forest classifier, gradient boosting regressor etc)\\nStrong quantitative and programming skills with a product-driven sensibility\\n-',\n",
       " 'Use data to develop machine learning models that optimize decision making in Credit Risk, Fraud, Marketing, and Operations\\nImplement data pipelines, new features, and algorithms that are critical to our production models\\nCreate scalable strategies to deploy and execute your models\\nWrite well designed, testable, efficient code\\nIdentify valuable data sources and automate collection processes.\\nUndertake pre-processing of structured and unstructured data.\\nAnalyze large amounts of information to discover trends and patterns.\\nRequirements:\\n1+ years of experience in applied data science or engineering with a focus on machine learning\\nPython expertise with good knowledge of machine learning libraries, tools, techniques, and frameworks (e.g. pandas, sklearn, xgboost, lightgbm, logistic regression, random forest classifier, gradient boosting regressor etc)\\nStrong quantitative and programming skills with a product-driven sensibility\\n-',\n",
       " 'At epiFi you will :\\nResearch and build predictive models to help users make the best financial decisions\\nInfluence data-driven decisions through end-to-end ownership of experiments : from collecting and building hypothesesto establishing statistical significance on results\\nCollaborate closely with other functions on modeling ideas and building analytics\\nYou should apply if :\\nYou have at least 3 to 5 years of industry experience in data mining, machine learning, statistical analysis, and modeling\\nYou have a MS or PhD in Computer Science, Physics, Statistics, Applied Mathematics, or any quantitative disciplines\\nYou have have a keen interest in financial services and a passion for shipping high-quality consumer-facing products\\nYou are able to self-manage your priorities and deliverables while working in a fast-paced, startup environment\\nYou have a solid foundation in computer science and strong competencies in data structures, algorithms, and software design, expertise with statistical data analysis such as linear models, multivariate analysis, stochastic models, sampling methods\\nYou are experienced in one or more of the following areas: Machine Learning (ML) models, ML infrastructure, Natural Language Processing or Deep Learning\\nYou are proficient in one or more data-oriented programming languages / tools (e.g. Python, R, Pandas, Scikit-learn, Jupyter) and database languages (e.g. SQL)\\nYou have built and prototyped analysis pipelines iteratively to provide insights at scale, on tools such as Hive, Spark, AWS Redshift\\nYou have a spark that separates you from the crowd and ability to think out of the box and on your feet\\nYou possess multi-dimensional skills that make you a valuable co-worker in a fast, changing and ambiguous environment\\nYou have the ability to learn other coding languages as needed real quick\\nYou are comfortable in working with a team that deals with ambiguity every day\\nYou can articulate complicated technical concepts clearly\\nWed also love to see :\\nInteresting hobby projects, open-source contributions, etc\\nSharing of knowledge - via either formal mentoring, reviewing code, reviewing design documents, providing technical talks, teaching classes, or as a consultant on projects',\n",
       " 'Objectives of this Role\\nCollaborate with product design and engineering to develop an understanding of needs\\nResearch and devise innovative statistical models for data analysis\\nCommunicate findings to all stakeholders\\nEnable smarter business processes and implement analytics for meaningful insights\\nKeep current with technical skillsets and industry developments\\nResponsibilities\\nWork as the lead data strategist, identifying and integrating new datasets that can be leveraged through our product capabilities and work closely with the Product Support Organization to strategize and execute the development of new data products and maintain existing ones\\nExecute analytical experiments methodically to help solve various problems and make a true impact across various domains and industries\\nIdentify relevant data sources and sets to mine for client business needs, and collect large structured and unstructured datasets and variables\\nDevise and utilize algorithms and models to mine big data stores, perform data and error analysis to improve models, and clean and validate data for uniformity and accuracy\\nAnalyze data for trends and patterns, and Interpret data with a clear objective in mind\\nImplement analytical models into production by collaborating with software developers and machine learning engineers.\\nCommunicate analytic solutions to stakeholders and implement improvements as needed\\nSkills and Qualifications\\nBachelor s degree in statistics, applied mathematics, or related discipline\\n7+ years experience in data science\\nProficiency with data mining, mathematics, and statistical analysis\\nAdvanced predictive modeling experience\\nExperience with Excel, PowerPoint, Tableau, SQL, and proficient in one of the programming languages (i.e., Python/R/Scala/SAS)\\nPreferred Qualifications\\nMaster s degree in stats, applied math, or related discipline\\nExperience in Natural Language Processing (NLP) algorithms, recommendation engine will be a plus.',\n",
       " 'This role will be responsible for all aspects of software development, testing and ensuring compatibility with enterprise and solutions architecture by harnessing modern development technologies.\\nThe position is for a Vice President within the Asset and Wealth Management Technology within the newly formed AI/ML - Data Science Intelligent Decisions team. The team is part of the Client Services Ops and Technology team and are responsible for system utilized by Client Advisors and WM Operations. The team is envisioning to define solutions helping Ops to move from Spreadsheets and heritage system to more AI based solutions.\\n\\nThe team is looking for a hands-on senior software manager to build a new team from scratch and lead a small team of 4-5 data scientists. This position will give you immense opportunity to work on some latest technologies. The role will also provide a rich functional experience and an excellent platform to expand your knowledge on the corporate action domain and bring exciting changes to the existing platform.\\nResponsibilities Include\\nAs a member of a diverse team, you will participate in the full engineering life cycle which includes designing, developing, optimizing, and deploying new software solutions\\nLead and continue to build out a team of Data Scientists in the region\\nWithin the client services space you would be required to deep dive into the customer s problem and identifying use cases that could represent an opportunity for transformational or disruptive innovation using the Machine learning models.\\nYou will partner with the firm wide Data Science, Machine Learning, and Platform Engineering teams to develop and deploy production quality code and help establish a governance for the sustained performance and outcome of developed AI/Model models\\nLead recruiting and onboarding team members directly manage 5 - 10 team members\\nFrom India you would be responsible for all the model s lifecycle management, governance, risk assessment and periodic recertification along with the central risk teams and competent authorities.\\nYou would be required to not only do PoC s but also build out project charters and own end to end responsibilities for deploying the models into production.',\n",
       " 'We are/have:\\nExperts in banking and payments, capital markets and wealth and asset management\\nDeep knowledge in financial services offering, including e.g. Finance, Risk and Compliance, Financial Crime, Core Banking etc.\\nCommitted to growing our business and hiring the best talent to help us get there Focused on maintaining our nimble, agile and entrepreneurial culture\\nCapco is looking for hardworking, innovative and creative people to join our team. Must possess strong relationship management skills and be able to manage requirements and testing across Ops and IT teams both cross-division and globally. Role is focused on projects to support the development of regulatory/industry driven changes.\\nRole Description\\nThis role provides regulatory data analytics using data from different geography. The primary responsibilities would be:\\nExperience in data science\\nExperience in marketing analytics is a plus\\nExcellent analytical skills and commercial acumen\\nGood understanding of the control requirements surrounding data handling\\nStrong self-starter with strong change delivery skills who enjoys the challenge of delivering change within tight deadlines\\nStrong verbal and written communication skills\\nAbility to manage multiple priorities\\nKnowledge of and experience using data models and data dictionaries in a Banking and Financial Markets context\\nPreferable knowledge and experience in Data Quality Governance\\nCan write SQL queries, Scala knowledge preferable and navigate data bases especially Hive, CMD, Putty, Note++\\nExperience of using and flattening XML\\nExperience of big data programmes preferable\\nEnthusiastic and energetic problem solver to join an ambitious team\\nBusiness analysis skills, defining and understanding requirements\\nAttention to detail\\nGood knowledge of SDLC and formal Agile processes, a bias towards TDD and a willingness to test products as part of the delivery cycle\\nAbility to communicate effectively in a multi-programme environment across a range of stakeholders']"
      ]
     },
     "execution_count": 403,
     "metadata": {},
     "output_type": "execute_result"
    }
   ],
   "source": [
    "job_description"
   ]
  },
  {
   "cell_type": "code",
   "execution_count": 404,
   "metadata": {},
   "outputs": [
    {
     "data": {
      "text/html": [
       "<div>\n",
       "<style scoped>\n",
       "    .dataframe tbody tr th:only-of-type {\n",
       "        vertical-align: middle;\n",
       "    }\n",
       "\n",
       "    .dataframe tbody tr th {\n",
       "        vertical-align: top;\n",
       "    }\n",
       "\n",
       "    .dataframe thead th {\n",
       "        text-align: right;\n",
       "    }\n",
       "</style>\n",
       "<table border=\"1\" class=\"dataframe\">\n",
       "  <thead>\n",
       "    <tr style=\"text-align: right;\">\n",
       "      <th></th>\n",
       "      <th>Job Title</th>\n",
       "      <th>Location</th>\n",
       "      <th>Company</th>\n",
       "      <th>Job Description</th>\n",
       "    </tr>\n",
       "  </thead>\n",
       "  <tbody>\n",
       "    <tr>\n",
       "      <th>1</th>\n",
       "      <td>Sr. Data Scientist / Data Scientist For Bangal...</td>\n",
       "      <td>Kolkata, Bangalore/Bengaluru</td>\n",
       "      <td>mPokket</td>\n",
       "      <td>Job Description:\\n1. Must have\\na. Programming...</td>\n",
       "    </tr>\n",
       "    <tr>\n",
       "      <th>2</th>\n",
       "      <td>Data Scientist</td>\n",
       "      <td>Hyderabad/Secunderabad, Pune, Bangalore/Bengaluru</td>\n",
       "      <td>Amazon Development Centre (India) Pvt. Ltd.</td>\n",
       "      <td>-</td>\n",
       "    </tr>\n",
       "    <tr>\n",
       "      <th>3</th>\n",
       "      <td>Senior Data Scientist - Python/Machine Learnin...</td>\n",
       "      <td>Mumbai, Hyderabad/Secunderabad, Pune, Bangalor...</td>\n",
       "      <td>Altimax Business Solutions</td>\n",
       "      <td>About The Job :\\n\\n- You will architect, code ...</td>\n",
       "    </tr>\n",
       "    <tr>\n",
       "      <th>4</th>\n",
       "      <td>Lead Data Scientist</td>\n",
       "      <td>Bangalore/Bengaluru</td>\n",
       "      <td>Huawei Technologies</td>\n",
       "      <td>We are looking for a Lead data scientist who w...</td>\n",
       "    </tr>\n",
       "    <tr>\n",
       "      <th>5</th>\n",
       "      <td>SDE2 Data Scientist</td>\n",
       "      <td>Bangalore/Bengaluru</td>\n",
       "      <td>Multi Recruit</td>\n",
       "      <td>Use data to develop machine learning models th...</td>\n",
       "    </tr>\n",
       "    <tr>\n",
       "      <th>6</th>\n",
       "      <td>SDE1 Data Scientist</td>\n",
       "      <td>Bangalore/Bengaluru</td>\n",
       "      <td>Multi Recruit</td>\n",
       "      <td>Use data to develop machine learning models th...</td>\n",
       "    </tr>\n",
       "    <tr>\n",
       "      <th>7</th>\n",
       "      <td>Data Scientist</td>\n",
       "      <td>Bangalore/Bengaluru</td>\n",
       "      <td>epiFi Technologies</td>\n",
       "      <td>At epiFi you will :\\nResearch and build predic...</td>\n",
       "    </tr>\n",
       "    <tr>\n",
       "      <th>8</th>\n",
       "      <td>Data Scientist</td>\n",
       "      <td>Pune, Bangalore/Bengaluru</td>\n",
       "      <td>Nutanix India Technologies Private Limited</td>\n",
       "      <td>Objectives of this Role\\nCollaborate with prod...</td>\n",
       "    </tr>\n",
       "    <tr>\n",
       "      <th>9</th>\n",
       "      <td>Vice President Data Scientist</td>\n",
       "      <td>Bangalore/Bengaluru</td>\n",
       "      <td>ExecBoardinAsia</td>\n",
       "      <td>This role will be responsible for all aspects ...</td>\n",
       "    </tr>\n",
       "    <tr>\n",
       "      <th>10</th>\n",
       "      <td>Data Scientist</td>\n",
       "      <td>Bangalore/Bengaluru</td>\n",
       "      <td>Capco Technologies Pvt Ltd</td>\n",
       "      <td>We are/have:\\nExperts in banking and payments,...</td>\n",
       "    </tr>\n",
       "  </tbody>\n",
       "</table>\n",
       "</div>"
      ],
      "text/plain": [
       "                                            Job Title  \\\n",
       "1   Sr. Data Scientist / Data Scientist For Bangal...   \n",
       "2                                      Data Scientist   \n",
       "3   Senior Data Scientist - Python/Machine Learnin...   \n",
       "4                                 Lead Data Scientist   \n",
       "5                                 SDE2 Data Scientist   \n",
       "6                                 SDE1 Data Scientist   \n",
       "7                                      Data Scientist   \n",
       "8                                      Data Scientist   \n",
       "9                       Vice President Data Scientist   \n",
       "10                                     Data Scientist   \n",
       "\n",
       "                                             Location  \\\n",
       "1                        Kolkata, Bangalore/Bengaluru   \n",
       "2   Hyderabad/Secunderabad, Pune, Bangalore/Bengaluru   \n",
       "3   Mumbai, Hyderabad/Secunderabad, Pune, Bangalor...   \n",
       "4                                 Bangalore/Bengaluru   \n",
       "5                                 Bangalore/Bengaluru   \n",
       "6                                 Bangalore/Bengaluru   \n",
       "7                                 Bangalore/Bengaluru   \n",
       "8                           Pune, Bangalore/Bengaluru   \n",
       "9                                 Bangalore/Bengaluru   \n",
       "10                                Bangalore/Bengaluru   \n",
       "\n",
       "                                        Company  \\\n",
       "1                                       mPokket   \n",
       "2   Amazon Development Centre (India) Pvt. Ltd.   \n",
       "3                    Altimax Business Solutions   \n",
       "4                           Huawei Technologies   \n",
       "5                                 Multi Recruit   \n",
       "6                                 Multi Recruit   \n",
       "7                            epiFi Technologies   \n",
       "8    Nutanix India Technologies Private Limited   \n",
       "9                               ExecBoardinAsia   \n",
       "10                   Capco Technologies Pvt Ltd   \n",
       "\n",
       "                                      Job Description  \n",
       "1   Job Description:\\n1. Must have\\na. Programming...  \n",
       "2                                                   -  \n",
       "3   About The Job :\\n\\n- You will architect, code ...  \n",
       "4   We are looking for a Lead data scientist who w...  \n",
       "5   Use data to develop machine learning models th...  \n",
       "6   Use data to develop machine learning models th...  \n",
       "7   At epiFi you will :\\nResearch and build predic...  \n",
       "8   Objectives of this Role\\nCollaborate with prod...  \n",
       "9   This role will be responsible for all aspects ...  \n",
       "10  We are/have:\\nExperts in banking and payments,...  "
      ]
     },
     "execution_count": 404,
     "metadata": {},
     "output_type": "execute_result"
    }
   ],
   "source": [
    "Naukri_Data2=pd.DataFrame({})\n",
    "Naukri_Data2['Job Title']=Job_Title2[0:10]\n",
    "Naukri_Data2['Location']=Location2[0:10]\n",
    "Naukri_Data2['Company']=Company2[0:10]\n",
    "Naukri_Data2['Job Description']=job_description[0:10]\n",
    "Naukri_Data2.index = np.arange(1, len(Naukri_Data2)+1)\n",
    "Naukri_Data2"
   ]
  },
  {
   "cell_type": "code",
   "execution_count": 405,
   "metadata": {},
   "outputs": [],
   "source": [
    "driver.close()"
   ]
  },
  {
   "cell_type": "markdown",
   "metadata": {},
   "source": [
    "# Q3: In this question you have to scrape data using the filters available on the webpage as shown below:\n",
    "You have to use the location and salary filter.\n",
    "You have to scrape data for “Data Scientist” designation for first 10 job results.\n",
    "You have to scrape the job-title, job-location, company_name, experience_required.\n",
    "The location filter to be used is “Delhi/NCR”\n",
    "The salary filter to be used is “3-6” lakhs\n",
    "The task will be done as shown in the below steps:\n",
    "1. first get the webpage https://www.naukri.com/\n",
    "2. Enter “Data Scientist” in “Skill,Designations,Companies” field .\n",
    "3. Then click the search button.\n",
    "4. Then apply the location filter and salary filter by checking the respective boxes\n",
    "4. Then scrape the data for the first 10 jobs results you get.\n",
    "5. Finally create a dataframe of the scraped data.\n",
    "Note- All of the above steps have to be done in code. No step is to be done manually."
   ]
  },
  {
   "cell_type": "code",
   "execution_count": 406,
   "metadata": {},
   "outputs": [
    {
     "data": {
      "text/plain": [
       "<selenium.webdriver.chrome.webdriver.WebDriver (session=\"d7d732a5008bfe37f45e35eb82b7bdd6\")>"
      ]
     },
     "execution_count": 406,
     "metadata": {},
     "output_type": "execute_result"
    }
   ],
   "source": [
    "driver = webdriver.Chrome(executable_path='/Users/rahulmore/chromedriver')\n",
    "driver"
   ]
  },
  {
   "cell_type": "code",
   "execution_count": 407,
   "metadata": {},
   "outputs": [],
   "source": [
    "url3 = driver.get('https://www.naukri.com/browse-jobs')"
   ]
  },
  {
   "cell_type": "code",
   "execution_count": 408,
   "metadata": {},
   "outputs": [],
   "source": [
    "job3 = driver.find_element_by_xpath(\"//input[@placeholder='Skills, Designations, Companies']\")\n",
    "job3.send_keys('Data Scientist')\n",
    "time.sleep(1)\n",
    "\n",
    "search3 = driver.find_element_by_xpath(\"//button[@id='qsbFormBtn']\")\n",
    "search3.click()\n",
    "\n",
    "time.sleep(10)"
   ]
  },
  {
   "cell_type": "code",
   "execution_count": 409,
   "metadata": {},
   "outputs": [],
   "source": [
    "chatbot = driver.find_element_by_xpath(\"//div[@class='crossIcon chatBot chatBot-ic-cross']\")\n",
    "\n",
    "try:\n",
    "    chatbot.click()\n",
    "except:\n",
    "    pass"
   ]
  },
  {
   "cell_type": "code",
   "execution_count": 410,
   "metadata": {},
   "outputs": [],
   "source": [
    "loc = driver.find_element_by_xpath(\"//span[@title = 'Delhi / NCR']\")\n",
    "loc.click()\n",
    "time.sleep(2)\n",
    "\n",
    "sal = driver.find_element_by_xpath(\"//span[@title = '3-6 Lakhs']\")\n",
    "sal.click()\n",
    "\n",
    "time.sleep(2)"
   ]
  },
  {
   "cell_type": "code",
   "execution_count": 411,
   "metadata": {},
   "outputs": [
    {
     "data": {
      "text/plain": [
       "[<selenium.webdriver.remote.webelement.WebElement (session=\"d7d732a5008bfe37f45e35eb82b7bdd6\", element=\"211c93c1-ab84-4b89-91f3-0312bb0f2e7c\")>,\n",
       " <selenium.webdriver.remote.webelement.WebElement (session=\"d7d732a5008bfe37f45e35eb82b7bdd6\", element=\"4b048482-33f9-4cf4-bca9-8830b01f0177\")>,\n",
       " <selenium.webdriver.remote.webelement.WebElement (session=\"d7d732a5008bfe37f45e35eb82b7bdd6\", element=\"5425d32c-b776-439e-bbf4-19d592d5f2d0\")>,\n",
       " <selenium.webdriver.remote.webelement.WebElement (session=\"d7d732a5008bfe37f45e35eb82b7bdd6\", element=\"0cee299b-d7d2-41ea-bf38-cb152057dfce\")>,\n",
       " <selenium.webdriver.remote.webelement.WebElement (session=\"d7d732a5008bfe37f45e35eb82b7bdd6\", element=\"293adcba-5e84-4a20-a761-00ffebab91d4\")>,\n",
       " <selenium.webdriver.remote.webelement.WebElement (session=\"d7d732a5008bfe37f45e35eb82b7bdd6\", element=\"0a90519b-af67-4e81-8e25-cd8eba845b53\")>,\n",
       " <selenium.webdriver.remote.webelement.WebElement (session=\"d7d732a5008bfe37f45e35eb82b7bdd6\", element=\"02d8c854-5de2-4353-9e65-6e747f8998d9\")>,\n",
       " <selenium.webdriver.remote.webelement.WebElement (session=\"d7d732a5008bfe37f45e35eb82b7bdd6\", element=\"840ae797-c8af-425c-96a9-125fc1428a53\")>,\n",
       " <selenium.webdriver.remote.webelement.WebElement (session=\"d7d732a5008bfe37f45e35eb82b7bdd6\", element=\"3433bc12-c6ad-4e6f-8587-fb7fcd8c7ef6\")>,\n",
       " <selenium.webdriver.remote.webelement.WebElement (session=\"d7d732a5008bfe37f45e35eb82b7bdd6\", element=\"b0785f13-5f4f-42ce-af15-81f677e83dc2\")>]"
      ]
     },
     "execution_count": 411,
     "metadata": {},
     "output_type": "execute_result"
    }
   ],
   "source": [
    "title_tags3 = driver.find_elements_by_xpath(\"//a[@class = 'title fw500 ellipsis']\")\n",
    "title_tags3[0:10]"
   ]
  },
  {
   "cell_type": "code",
   "execution_count": 412,
   "metadata": {},
   "outputs": [
    {
     "data": {
      "text/plain": [
       "['Data Scientist',\n",
       " 'Job Opportunity || Data Scientist || HCL Technologies',\n",
       " 'Data Scientist',\n",
       " 'Data Scientist',\n",
       " 'Data Scientist I/II/III',\n",
       " 'Associate Data Scientist',\n",
       " 'Data Scientist',\n",
       " 'Data Scientist Internship',\n",
       " 'Data Scientist',\n",
       " 'Data Scientist']"
      ]
     },
     "execution_count": 412,
     "metadata": {},
     "output_type": "execute_result"
    }
   ],
   "source": [
    "Title3 = []\n",
    "\n",
    "for i in title_tags3:\n",
    "    t = i.text\n",
    "    Title3.append(i.text)\n",
    "Title3[0:10]"
   ]
  },
  {
   "cell_type": "code",
   "execution_count": 413,
   "metadata": {},
   "outputs": [
    {
     "data": {
      "text/plain": [
       "[<selenium.webdriver.remote.webelement.WebElement (session=\"d7d732a5008bfe37f45e35eb82b7bdd6\", element=\"40237e53-f1a7-410f-836d-2c254f4c5c9f\")>,\n",
       " <selenium.webdriver.remote.webelement.WebElement (session=\"d7d732a5008bfe37f45e35eb82b7bdd6\", element=\"7077f80a-1eba-48fe-af8b-e9f662473ffb\")>,\n",
       " <selenium.webdriver.remote.webelement.WebElement (session=\"d7d732a5008bfe37f45e35eb82b7bdd6\", element=\"88cc2605-7ed2-4ea9-ad74-260ac0c68074\")>,\n",
       " <selenium.webdriver.remote.webelement.WebElement (session=\"d7d732a5008bfe37f45e35eb82b7bdd6\", element=\"ced43286-1342-4883-9853-4eb76417a45f\")>,\n",
       " <selenium.webdriver.remote.webelement.WebElement (session=\"d7d732a5008bfe37f45e35eb82b7bdd6\", element=\"d8d6ce77-5e57-400f-894c-83d8b2838c13\")>,\n",
       " <selenium.webdriver.remote.webelement.WebElement (session=\"d7d732a5008bfe37f45e35eb82b7bdd6\", element=\"c8913b6c-ea49-4f8e-951d-0fdef1d9b4b1\")>,\n",
       " <selenium.webdriver.remote.webelement.WebElement (session=\"d7d732a5008bfe37f45e35eb82b7bdd6\", element=\"1f0897ee-cf29-4e4e-bb09-5208f0edf225\")>,\n",
       " <selenium.webdriver.remote.webelement.WebElement (session=\"d7d732a5008bfe37f45e35eb82b7bdd6\", element=\"f8c28580-be7a-4772-8df7-8d48f30447e5\")>,\n",
       " <selenium.webdriver.remote.webelement.WebElement (session=\"d7d732a5008bfe37f45e35eb82b7bdd6\", element=\"ae4bb191-941c-47b0-bc2f-0a12728ab77f\")>,\n",
       " <selenium.webdriver.remote.webelement.WebElement (session=\"d7d732a5008bfe37f45e35eb82b7bdd6\", element=\"af047bd4-ce84-4b3e-b5a9-102bac36e6cf\")>]"
      ]
     },
     "execution_count": 413,
     "metadata": {},
     "output_type": "execute_result"
    }
   ],
   "source": [
    "Com_tags3 = driver.find_elements_by_xpath(\"//div[@class = 'mt-7 companyInfo subheading lh16']/a[1]\")\n",
    "Com_tags3[0:10]"
   ]
  },
  {
   "cell_type": "code",
   "execution_count": 414,
   "metadata": {},
   "outputs": [
    {
     "data": {
      "text/plain": [
       "['EXL Services.com ( I ) Pvt. Ltd.',\n",
       " 'HCL Technologies',\n",
       " 'Newgen Software Technologies Ltd.',\n",
       " 'Hexagon Geosystems Services India P.Ltd.',\n",
       " 'OLX India Pvt Ltd',\n",
       " 'Optum Global Solutions (India) Private Limited',\n",
       " 'Milliman India Pvt Ltd',\n",
       " 'iHackers Inc',\n",
       " 'lericon infomatics pvt.ltd',\n",
       " 'Fractal Analytics']"
      ]
     },
     "execution_count": 414,
     "metadata": {},
     "output_type": "execute_result"
    }
   ],
   "source": [
    "Company3 = []\n",
    "\n",
    "for i in Com_tags3:\n",
    "    loca = i.text\n",
    "    Company3.append(i.text)\n",
    "    \n",
    "Company3[0:10]"
   ]
  },
  {
   "cell_type": "code",
   "execution_count": 415,
   "metadata": {
    "scrolled": true
   },
   "outputs": [
    {
     "data": {
      "text/plain": [
       "[<selenium.webdriver.remote.webelement.WebElement (session=\"d7d732a5008bfe37f45e35eb82b7bdd6\", element=\"7fcccce3-335c-4d37-ae47-600153104b57\")>,\n",
       " <selenium.webdriver.remote.webelement.WebElement (session=\"d7d732a5008bfe37f45e35eb82b7bdd6\", element=\"02e2d495-895a-4a8e-a640-a567a68b1dfd\")>,\n",
       " <selenium.webdriver.remote.webelement.WebElement (session=\"d7d732a5008bfe37f45e35eb82b7bdd6\", element=\"65c3c444-70f0-4a67-94b3-91eb28b3e349\")>,\n",
       " <selenium.webdriver.remote.webelement.WebElement (session=\"d7d732a5008bfe37f45e35eb82b7bdd6\", element=\"a2c84e8c-d380-4644-b588-0ad77365f03b\")>,\n",
       " <selenium.webdriver.remote.webelement.WebElement (session=\"d7d732a5008bfe37f45e35eb82b7bdd6\", element=\"69d85bfe-18ec-4524-bcc8-e96bb1c40f6a\")>,\n",
       " <selenium.webdriver.remote.webelement.WebElement (session=\"d7d732a5008bfe37f45e35eb82b7bdd6\", element=\"d2310832-19f7-45e5-b261-5a7f5e8dd99b\")>,\n",
       " <selenium.webdriver.remote.webelement.WebElement (session=\"d7d732a5008bfe37f45e35eb82b7bdd6\", element=\"b2e7e8d5-1567-433f-b952-e64965cc2e97\")>,\n",
       " <selenium.webdriver.remote.webelement.WebElement (session=\"d7d732a5008bfe37f45e35eb82b7bdd6\", element=\"9fd04ea8-cd90-49b2-927d-63dd6cfab930\")>,\n",
       " <selenium.webdriver.remote.webelement.WebElement (session=\"d7d732a5008bfe37f45e35eb82b7bdd6\", element=\"17712b58-1f9d-404d-a091-d38fdcdb5c9d\")>,\n",
       " <selenium.webdriver.remote.webelement.WebElement (session=\"d7d732a5008bfe37f45e35eb82b7bdd6\", element=\"1514657e-3460-421b-a0b8-fd89278b058c\")>]"
      ]
     },
     "execution_count": 415,
     "metadata": {},
     "output_type": "execute_result"
    }
   ],
   "source": [
    "Loc_tags3 = driver.find_elements_by_xpath(\"//ul[@class = 'mt-7']/li[3]/span\")\n",
    "Loc_tags3[0:10]"
   ]
  },
  {
   "cell_type": "code",
   "execution_count": 416,
   "metadata": {},
   "outputs": [
    {
     "data": {
      "text/plain": [
       "['Gurgaon/Gurugram, Bangalore/Bengaluru',\n",
       " 'Delhi / NCR',\n",
       " 'Noida',\n",
       " 'Gurgaon/Gurugram, Bangalore/Bengaluru',\n",
       " 'Gurgaon/Gurugram',\n",
       " 'Noida',\n",
       " 'Gurgaon/Gurugram',\n",
       " 'New Delhi',\n",
       " 'Mumbai, Delhi / NCR',\n",
       " 'Mumbai, Gurgaon/Gurugram, Bangalore/Bengaluru']"
      ]
     },
     "execution_count": 416,
     "metadata": {},
     "output_type": "execute_result"
    }
   ],
   "source": [
    "Location3 = []\n",
    "\n",
    "for i in Loc_tags3:\n",
    "    a = i.text\n",
    "    Location3.append(i.text)\n",
    "    \n",
    "Location3[0:10]"
   ]
  },
  {
   "cell_type": "code",
   "execution_count": 417,
   "metadata": {},
   "outputs": [
    {
     "data": {
      "text/plain": [
       "[<selenium.webdriver.remote.webelement.WebElement (session=\"d7d732a5008bfe37f45e35eb82b7bdd6\", element=\"e732b7a4-671d-45e4-b70f-3d1064d27133\")>,\n",
       " <selenium.webdriver.remote.webelement.WebElement (session=\"d7d732a5008bfe37f45e35eb82b7bdd6\", element=\"5913a098-2c52-4287-9512-cd8a49f83737\")>,\n",
       " <selenium.webdriver.remote.webelement.WebElement (session=\"d7d732a5008bfe37f45e35eb82b7bdd6\", element=\"ddb95790-803f-4dda-8d19-6b2e70bbd4a2\")>,\n",
       " <selenium.webdriver.remote.webelement.WebElement (session=\"d7d732a5008bfe37f45e35eb82b7bdd6\", element=\"1e37f7b7-eda2-4881-a906-8d7d2504d329\")>,\n",
       " <selenium.webdriver.remote.webelement.WebElement (session=\"d7d732a5008bfe37f45e35eb82b7bdd6\", element=\"3021381a-09fa-41a6-896d-0d7af5381928\")>,\n",
       " <selenium.webdriver.remote.webelement.WebElement (session=\"d7d732a5008bfe37f45e35eb82b7bdd6\", element=\"c1c30f35-f1ee-499e-87e2-53fd4af75ce2\")>,\n",
       " <selenium.webdriver.remote.webelement.WebElement (session=\"d7d732a5008bfe37f45e35eb82b7bdd6\", element=\"37f99031-11c5-4500-9418-140f035b6ab6\")>,\n",
       " <selenium.webdriver.remote.webelement.WebElement (session=\"d7d732a5008bfe37f45e35eb82b7bdd6\", element=\"fac2f199-d967-4f83-b427-7ecab9561464\")>,\n",
       " <selenium.webdriver.remote.webelement.WebElement (session=\"d7d732a5008bfe37f45e35eb82b7bdd6\", element=\"157dc701-9c88-4980-bdea-40d0118c5773\")>,\n",
       " <selenium.webdriver.remote.webelement.WebElement (session=\"d7d732a5008bfe37f45e35eb82b7bdd6\", element=\"306ef15c-40b2-493f-8a1d-0a7e9d27ac60\")>]"
      ]
     },
     "execution_count": 417,
     "metadata": {},
     "output_type": "execute_result"
    }
   ],
   "source": [
    "ex_tags3 = driver.find_elements_by_xpath('//ul[@class = \"mt-7\"]/li[1]/span')\n",
    "ex_tags3[0:10]"
   ]
  },
  {
   "cell_type": "code",
   "execution_count": 418,
   "metadata": {},
   "outputs": [
    {
     "data": {
      "text/plain": [
       "['3-5 Yrs',\n",
       " '4-7 Yrs',\n",
       " '2-5 Yrs',\n",
       " '6-11 Yrs',\n",
       " '3-6 Yrs',\n",
       " '2-7 Yrs',\n",
       " '2-5 Yrs',\n",
       " '0-1 Yrs',\n",
       " '3-5 Yrs',\n",
       " '3-7 Yrs']"
      ]
     },
     "execution_count": 418,
     "metadata": {},
     "output_type": "execute_result"
    }
   ],
   "source": [
    "Experience_Required = []\n",
    "\n",
    "for i in ex_tags3:\n",
    "    exep = i.text\n",
    "    Experience_Required.append(i.text)\n",
    "\n",
    "Experience_Required[0:10]"
   ]
  },
  {
   "cell_type": "code",
   "execution_count": 419,
   "metadata": {},
   "outputs": [
    {
     "data": {
      "text/html": [
       "<div>\n",
       "<style scoped>\n",
       "    .dataframe tbody tr th:only-of-type {\n",
       "        vertical-align: middle;\n",
       "    }\n",
       "\n",
       "    .dataframe tbody tr th {\n",
       "        vertical-align: top;\n",
       "    }\n",
       "\n",
       "    .dataframe thead th {\n",
       "        text-align: right;\n",
       "    }\n",
       "</style>\n",
       "<table border=\"1\" class=\"dataframe\">\n",
       "  <thead>\n",
       "    <tr style=\"text-align: right;\">\n",
       "      <th></th>\n",
       "      <th>Job Title</th>\n",
       "      <th>Location</th>\n",
       "      <th>Company</th>\n",
       "      <th>Experience Required</th>\n",
       "    </tr>\n",
       "  </thead>\n",
       "  <tbody>\n",
       "    <tr>\n",
       "      <th>1</th>\n",
       "      <td>Sr. Data Scientist / Data Scientist For Bangal...</td>\n",
       "      <td>Kolkata, Bangalore/Bengaluru</td>\n",
       "      <td>mPokket</td>\n",
       "      <td>3-5 Yrs</td>\n",
       "    </tr>\n",
       "    <tr>\n",
       "      <th>2</th>\n",
       "      <td>Data Scientist</td>\n",
       "      <td>Hyderabad/Secunderabad, Pune, Bangalore/Bengaluru</td>\n",
       "      <td>Amazon Development Centre (India) Pvt. Ltd.</td>\n",
       "      <td>4-7 Yrs</td>\n",
       "    </tr>\n",
       "    <tr>\n",
       "      <th>3</th>\n",
       "      <td>Senior Data Scientist - Python/Machine Learnin...</td>\n",
       "      <td>Mumbai, Hyderabad/Secunderabad, Pune, Bangalor...</td>\n",
       "      <td>Altimax Business Solutions</td>\n",
       "      <td>2-5 Yrs</td>\n",
       "    </tr>\n",
       "    <tr>\n",
       "      <th>4</th>\n",
       "      <td>Lead Data Scientist</td>\n",
       "      <td>Bangalore/Bengaluru</td>\n",
       "      <td>Huawei Technologies</td>\n",
       "      <td>6-11 Yrs</td>\n",
       "    </tr>\n",
       "    <tr>\n",
       "      <th>5</th>\n",
       "      <td>SDE2 Data Scientist</td>\n",
       "      <td>Bangalore/Bengaluru</td>\n",
       "      <td>Multi Recruit</td>\n",
       "      <td>3-6 Yrs</td>\n",
       "    </tr>\n",
       "    <tr>\n",
       "      <th>6</th>\n",
       "      <td>SDE1 Data Scientist</td>\n",
       "      <td>Bangalore/Bengaluru</td>\n",
       "      <td>Multi Recruit</td>\n",
       "      <td>2-7 Yrs</td>\n",
       "    </tr>\n",
       "    <tr>\n",
       "      <th>7</th>\n",
       "      <td>Data Scientist</td>\n",
       "      <td>Bangalore/Bengaluru</td>\n",
       "      <td>epiFi Technologies</td>\n",
       "      <td>2-5 Yrs</td>\n",
       "    </tr>\n",
       "    <tr>\n",
       "      <th>8</th>\n",
       "      <td>Data Scientist</td>\n",
       "      <td>Pune, Bangalore/Bengaluru</td>\n",
       "      <td>Nutanix India Technologies Private Limited</td>\n",
       "      <td>0-1 Yrs</td>\n",
       "    </tr>\n",
       "    <tr>\n",
       "      <th>9</th>\n",
       "      <td>Vice President Data Scientist</td>\n",
       "      <td>Bangalore/Bengaluru</td>\n",
       "      <td>ExecBoardinAsia</td>\n",
       "      <td>3-5 Yrs</td>\n",
       "    </tr>\n",
       "    <tr>\n",
       "      <th>10</th>\n",
       "      <td>Data Scientist</td>\n",
       "      <td>Bangalore/Bengaluru</td>\n",
       "      <td>Capco Technologies Pvt Ltd</td>\n",
       "      <td>3-7 Yrs</td>\n",
       "    </tr>\n",
       "  </tbody>\n",
       "</table>\n",
       "</div>"
      ],
      "text/plain": [
       "                                            Job Title  \\\n",
       "1   Sr. Data Scientist / Data Scientist For Bangal...   \n",
       "2                                      Data Scientist   \n",
       "3   Senior Data Scientist - Python/Machine Learnin...   \n",
       "4                                 Lead Data Scientist   \n",
       "5                                 SDE2 Data Scientist   \n",
       "6                                 SDE1 Data Scientist   \n",
       "7                                      Data Scientist   \n",
       "8                                      Data Scientist   \n",
       "9                       Vice President Data Scientist   \n",
       "10                                     Data Scientist   \n",
       "\n",
       "                                             Location  \\\n",
       "1                        Kolkata, Bangalore/Bengaluru   \n",
       "2   Hyderabad/Secunderabad, Pune, Bangalore/Bengaluru   \n",
       "3   Mumbai, Hyderabad/Secunderabad, Pune, Bangalor...   \n",
       "4                                 Bangalore/Bengaluru   \n",
       "5                                 Bangalore/Bengaluru   \n",
       "6                                 Bangalore/Bengaluru   \n",
       "7                                 Bangalore/Bengaluru   \n",
       "8                           Pune, Bangalore/Bengaluru   \n",
       "9                                 Bangalore/Bengaluru   \n",
       "10                                Bangalore/Bengaluru   \n",
       "\n",
       "                                        Company Experience Required  \n",
       "1                                       mPokket             3-5 Yrs  \n",
       "2   Amazon Development Centre (India) Pvt. Ltd.             4-7 Yrs  \n",
       "3                    Altimax Business Solutions             2-5 Yrs  \n",
       "4                           Huawei Technologies            6-11 Yrs  \n",
       "5                                 Multi Recruit             3-6 Yrs  \n",
       "6                                 Multi Recruit             2-7 Yrs  \n",
       "7                            epiFi Technologies             2-5 Yrs  \n",
       "8    Nutanix India Technologies Private Limited             0-1 Yrs  \n",
       "9                               ExecBoardinAsia             3-5 Yrs  \n",
       "10                   Capco Technologies Pvt Ltd             3-7 Yrs  "
      ]
     },
     "execution_count": 419,
     "metadata": {},
     "output_type": "execute_result"
    }
   ],
   "source": [
    "Naukri_Data3=pd.DataFrame({})\n",
    "Naukri_Data3['Job Title']=Job_Title2[0:10]\n",
    "Naukri_Data3['Location']=Location2[0:10]\n",
    "Naukri_Data3['Company']=Company2[0:10]\n",
    "Naukri_Data3['Experience Required']=Experience_Required[0:10]\n",
    "Naukri_Data3.index = np.arange(1, len(Naukri_Data3)+1)\n",
    "Naukri_Data3"
   ]
  },
  {
   "cell_type": "code",
   "execution_count": 420,
   "metadata": {},
   "outputs": [],
   "source": [
    "driver.close()"
   ]
  },
  {
   "cell_type": "markdown",
   "metadata": {},
   "source": [
    "# Q6 : Scrape data of first 100 sunglasses listings on flipkart.com. You have to scrape four attributes:\n",
    "1. Brand\n",
    "2. Product Description\n",
    "3. Price\n",
    "4. Discount %\n",
    "The attributes which you have to scrape is ticked marked in the below image.\n",
    "To scrape the data you have to go through following steps:\n",
    "1. Go to flipkart webpage by url https://www.flipkart.com/\n",
    "2. Enter “sunglasses” in the search field where “search for products, brands and more” is written and click the search icon\n",
    "3. after that you will reach to a webpage having a lot of sunglasses. From this page you can scrap the required data as usual.\n",
    "4. after scraping data from the first page, go to the “Next” Button at the bottom of the page , then click on it\n",
    "5. Now scrape data from this page as usual\n",
    "6. repeat this until you get data for 100 sunglasses.\n",
    "   Note that all of the above steps have to be done by coding only and not manually."
   ]
  },
  {
   "cell_type": "code",
   "execution_count": 421,
   "metadata": {},
   "outputs": [
    {
     "data": {
      "text/plain": [
       "<selenium.webdriver.chrome.webdriver.WebDriver (session=\"f15828e073caa38882c5538b34ed007c\")>"
      ]
     },
     "execution_count": 421,
     "metadata": {},
     "output_type": "execute_result"
    }
   ],
   "source": [
    "driver = webdriver.Chrome(executable_path='/Users/rahulmore/chromedriver')\n",
    "driver"
   ]
  },
  {
   "cell_type": "code",
   "execution_count": 422,
   "metadata": {},
   "outputs": [],
   "source": [
    "url6 = driver.get('https://www.flipkart.com/')"
   ]
  },
  {
   "cell_type": "code",
   "execution_count": 423,
   "metadata": {},
   "outputs": [],
   "source": [
    "login = driver.find_element_by_xpath('//button[@class = \"_2KpZ6l _2doB4z\"]')\n",
    "try:\n",
    "    login.click()\n",
    "except:\n",
    "    pass"
   ]
  },
  {
   "cell_type": "code",
   "execution_count": 424,
   "metadata": {},
   "outputs": [],
   "source": [
    "search = driver.find_element_by_xpath('//input[@title = \"Search for products, brands and more\"]')\n",
    "search.send_keys('sunglasses')\n",
    "time.sleep(1)\n",
    "\n",
    "search2 = driver.find_element_by_xpath('//button[@type = \"submit\"]')\n",
    "search2.click()\n",
    "\n",
    "time.sleep(3)"
   ]
  },
  {
   "cell_type": "code",
   "execution_count": 425,
   "metadata": {
    "scrolled": true
   },
   "outputs": [
    {
     "data": {
      "text/plain": [
       "['VINCENT CHASE',\n",
       " 'VINCENT CHASE',\n",
       " 'PIRASO',\n",
       " 'Fastrack',\n",
       " 'PIRASO',\n",
       " 'Elligator',\n",
       " 'SHAAH COLLECTIONS',\n",
       " 'ROYAL SON',\n",
       " 'ROZZETTA CRAFT',\n",
       " 'PIRASO',\n",
       " 'New Specs',\n",
       " 'ROZZETTA CRAFT',\n",
       " 'kingsunglasses',\n",
       " 'Elligator',\n",
       " 'GANSTA',\n",
       " 'VINCENT CHASE',\n",
       " 'Rich Club',\n",
       " 'Fastrack',\n",
       " 'NuVew',\n",
       " 'VINCENT CHASE',\n",
       " 'PHENOMENAL',\n",
       " 'Fastrack',\n",
       " 'Singco India',\n",
       " 'VINCENT CHASE',\n",
       " 'SHAAH COLLECTIONS',\n",
       " 'SHAAH COLLECTIONS',\n",
       " 'Fastrack',\n",
       " 'VINCENT CHASE',\n",
       " 'Silver Kartz',\n",
       " 'GANSTA',\n",
       " 'kingsunglasses',\n",
       " 'VINCENT CHASE',\n",
       " 'Fastrack',\n",
       " 'SUNBEE',\n",
       " 'PIRASO',\n",
       " 'VINCENT CHASE',\n",
       " 'Fastrack',\n",
       " 'NuVew',\n",
       " 'NuVew',\n",
       " 'Villain']"
      ]
     },
     "execution_count": 425,
     "metadata": {},
     "output_type": "execute_result"
    }
   ],
   "source": [
    "brand1 = driver.find_elements_by_xpath('//div[@class = \"_2WkVRV\"]')\n",
    "brand1\n",
    "time.sleep(2)\n",
    "\n",
    "Brand1 = []\n",
    "for i in brand1:\n",
    "    b1 = i.text\n",
    "    Brand1.append(i.text)\n",
    "Brand1"
   ]
  },
  {
   "cell_type": "code",
   "execution_count": 426,
   "metadata": {
    "scrolled": true
   },
   "outputs": [
    {
     "data": {
      "text/plain": [
       "['Polarized, UV Protection Wayfarer Sunglasses (57)',\n",
       " 'Polarized, UV Protection Wayfarer Sunglasses (53)',\n",
       " 'UV Protection Aviator Sunglasses (54)',\n",
       " 'UV Protection Wayfarer Sunglasses (Free Size)',\n",
       " 'UV Protection Aviator Sunglasses (54)',\n",
       " 'UV Protection Round Sunglasses (54)',\n",
       " 'UV Protection, Polarized, Mirrored Rectangular Sunglass...',\n",
       " 'Gradient, UV Protection Cat-eye, Over-sized Sunglasses ...',\n",
       " 'UV Protection Retro Square Sunglasses (Free Size)',\n",
       " 'UV Protection Aviator Sunglasses (54)',\n",
       " 'Mirrored, UV Protection, Riding Glasses, Others Round S...',\n",
       " 'UV Protection, Gradient Round Sunglasses (Free Size)',\n",
       " 'Mirrored, UV Protection Wayfarer Sunglasses (Free Size)',\n",
       " 'UV Protection Round Sunglasses (55)',\n",
       " 'UV Protection Aviator Sunglasses (57)',\n",
       " 'Polarized, UV Protection Aviator Sunglasses (58)',\n",
       " 'Polarized Round Sunglasses (48)',\n",
       " 'UV Protection Aviator Sunglasses (Free Size)',\n",
       " 'UV Protection, Night Vision, Riding Glasses Sports Sung...',\n",
       " 'UV Protection Aviator Sunglasses (Free Size)',\n",
       " 'UV Protection Retro Square Sunglasses (Free Size)',\n",
       " 'Gradient, UV Protection Wayfarer Sunglasses (Free Size)',\n",
       " 'UV Protection, Riding Glasses, Others Aviator, Wayfarer...',\n",
       " 'UV Protection Aviator Sunglasses (Free Size)',\n",
       " 'UV Protection Round Sunglasses (Free Size)',\n",
       " 'UV Protection, Polarized, Mirrored Rectangular Sunglass...',\n",
       " 'UV Protection Shield Sunglasses (Free Size)',\n",
       " 'by Lenskart UV Protection Wayfarer Sunglasses (51)',\n",
       " 'UV Protection Oval Sunglasses (56)',\n",
       " 'UV Protection, Night Vision, Riding Glasses Aviator Sun...',\n",
       " 'UV Protection Round Sunglasses (54)',\n",
       " 'Polarized, UV Protection Wayfarer Sunglasses (53)',\n",
       " 'UV Protection Rectangular Sunglasses (Free Size)',\n",
       " 'UV Protection, Polarized, Mirrored Wayfarer Sunglasses ...',\n",
       " 'UV Protection Aviator Sunglasses (58)',\n",
       " 'by Lenskart UV Protection Rectangular Sunglasses (54)',\n",
       " 'Mirrored, UV Protection Wayfarer Sunglasses (Free Size)',\n",
       " 'UV Protection Sports Sunglasses (62)',\n",
       " 'UV Protection, Mirrored Aviator Sunglasses (58)',\n",
       " 'Others Wayfarer Sunglasses (Free Size)']"
      ]
     },
     "execution_count": 426,
     "metadata": {},
     "output_type": "execute_result"
    }
   ],
   "source": [
    "des2 = driver.find_elements_by_xpath('//a[@class = \"IRpwTa\"]')\n",
    "\n",
    "Description = []\n",
    "for i in des2:\n",
    "    c2 = i.text\n",
    "    Description.append(i.text)\n",
    "Description"
   ]
  },
  {
   "cell_type": "code",
   "execution_count": 427,
   "metadata": {
    "scrolled": true
   },
   "outputs": [
    {
     "data": {
      "text/plain": [
       "['₹799',\n",
       " '₹639',\n",
       " '₹200',\n",
       " '₹758',\n",
       " '₹200',\n",
       " '₹295',\n",
       " '₹198',\n",
       " '₹559',\n",
       " '₹499',\n",
       " '₹200',\n",
       " '₹299',\n",
       " '₹359',\n",
       " '₹284',\n",
       " '₹266',\n",
       " '₹239',\n",
       " '₹799',\n",
       " '₹199',\n",
       " '₹546',\n",
       " '₹216',\n",
       " '₹999',\n",
       " '₹379',\n",
       " '₹509',\n",
       " '₹229',\n",
       " '₹999',\n",
       " '₹331',\n",
       " '₹215',\n",
       " '₹879',\n",
       " '₹999',\n",
       " '₹224',\n",
       " '₹248',\n",
       " '₹213',\n",
       " '₹799',\n",
       " '₹513',\n",
       " '₹265',\n",
       " '₹319',\n",
       " '₹639',\n",
       " '₹738',\n",
       " '₹291',\n",
       " '₹185',\n",
       " '₹599']"
      ]
     },
     "execution_count": 427,
     "metadata": {},
     "output_type": "execute_result"
    }
   ],
   "source": [
    "pri = driver.find_elements_by_xpath('//div[@class = \"_30jeq3\"]')\n",
    "\n",
    "Price = []\n",
    "for i in pri:\n",
    "    d = i.text\n",
    "    Price.append(i.text)\n",
    "Price"
   ]
  },
  {
   "cell_type": "code",
   "execution_count": 428,
   "metadata": {
    "scrolled": true
   },
   "outputs": [
    {
     "data": {
      "text/plain": [
       "['60% off',\n",
       " '68% off',\n",
       " '87% off',\n",
       " '15% off',\n",
       " '87% off',\n",
       " '88% off',\n",
       " '88% off',\n",
       " '62% off',\n",
       " '77% off',\n",
       " '87% off',\n",
       " '81% off',\n",
       " '82% off',\n",
       " '89% off',\n",
       " '86% off',\n",
       " '88% off',\n",
       " '68% off',\n",
       " '60% off',\n",
       " '31% off',\n",
       " '72% off',\n",
       " '50% off',\n",
       " '81% off',\n",
       " '36% off',\n",
       " '67% off',\n",
       " '50% off',\n",
       " '80% off',\n",
       " '78% off',\n",
       " '2% off',\n",
       " '50% off',\n",
       " '81% off',\n",
       " '87% off',\n",
       " '80% off',\n",
       " '60% off',\n",
       " '35% off',\n",
       " '73% off',\n",
       " '87% off',\n",
       " '68% off',\n",
       " '26% off',\n",
       " '76% off',\n",
       " '78% off',\n",
       " '40% off']"
      ]
     },
     "execution_count": 428,
     "metadata": {},
     "output_type": "execute_result"
    }
   ],
   "source": [
    "dis = driver.find_elements_by_xpath('//div[@class = \"_3Ay6Sb\"]/span')\n",
    "\n",
    "Discount = []\n",
    "for i in dis:\n",
    "    e = i.text\n",
    "    Discount.append(i.text)\n",
    "Discount"
   ]
  },
  {
   "cell_type": "code",
   "execution_count": 429,
   "metadata": {},
   "outputs": [],
   "source": [
    "nex = driver.find_element_by_xpath('//a[@class = \"_1LKTO3\"]')\n",
    "nex.click()\n",
    "time.sleep(2)"
   ]
  },
  {
   "cell_type": "code",
   "execution_count": 430,
   "metadata": {
    "scrolled": true
   },
   "outputs": [
    {
     "data": {
      "text/plain": [
       "['GANSTA',\n",
       " 'PHENOMENAL',\n",
       " 'Singco India',\n",
       " 'ROYAL SON',\n",
       " 'hipe',\n",
       " 'ROZZETTA CRAFT',\n",
       " 'ROYAL SON',\n",
       " 'ROYAL SON',\n",
       " 'Silver Kartz',\n",
       " 'ROYAL SON',\n",
       " 'GANSTA',\n",
       " 'ROZZETTA CRAFT',\n",
       " 'Fastrack',\n",
       " 'Singco India',\n",
       " 'Fastrack',\n",
       " 'ROYAL SON',\n",
       " 'Fastrack',\n",
       " 'ROZZETTA CRAFT',\n",
       " 'GANSTA',\n",
       " 'ROZZETTA CRAFT',\n",
       " 'Fastrack',\n",
       " 'hipe',\n",
       " 'PHENOMENAL',\n",
       " 'ROZZETTA CRAFT',\n",
       " 'Elligator',\n",
       " 'kingsunglasses',\n",
       " 'povty',\n",
       " 'ROYAL SON',\n",
       " 'New Specs',\n",
       " 'GANSTA',\n",
       " 'ROYAL SON',\n",
       " 'ROZZETTA CRAFT',\n",
       " 'NuVew',\n",
       " 'Fastrack',\n",
       " 'ROYAL SON',\n",
       " 'ROZZETTA CRAFT',\n",
       " 'ROZZETTA CRAFT',\n",
       " 'ROYAL SON',\n",
       " 'GANSTA',\n",
       " 'ROZZETTA CRAFT']"
      ]
     },
     "execution_count": 430,
     "metadata": {},
     "output_type": "execute_result"
    }
   ],
   "source": [
    "brand2 = driver.find_elements_by_xpath('//div[@class = \"_2WkVRV\"]')\n",
    "brand2\n",
    "\n",
    "Brand2 = []\n",
    "for i in brand2:\n",
    "    bd = i.text\n",
    "    Brand2.append(i.text)\n",
    "Brand2"
   ]
  },
  {
   "cell_type": "code",
   "execution_count": 431,
   "metadata": {
    "scrolled": true
   },
   "outputs": [
    {
     "data": {
      "text/plain": [
       "['UV Protection, Riding Glasses Wayfarer Sunglasses (53)',\n",
       " 'UV Protection, Mirrored Retro Square Sunglasses (53)',\n",
       " 'UV Protection Aviator Sunglasses (Free Size)',\n",
       " 'Polarized Wrap-around Sunglasses (66)',\n",
       " 'Mirrored, UV Protection, Gradient Round Sunglasses (55)',\n",
       " 'UV Protection, Gradient Rectangular Sunglasses (Free Si...',\n",
       " 'Mirrored Aviator Sunglasses (55)',\n",
       " 'UV Protection Over-sized Sunglasses (60)',\n",
       " 'UV Protection Wayfarer Sunglasses (Free Size)',\n",
       " 'Polarized, UV Protection Aviator Sunglasses (58)',\n",
       " 'UV Protection Aviator Sunglasses (57)',\n",
       " 'UV Protection, Riding Glasses Rectangular Sunglasses (F...',\n",
       " 'UV Protection Aviator Sunglasses (Free Size)',\n",
       " 'UV Protection Round Sunglasses (Free Size)',\n",
       " 'Gradient, UV Protection Wayfarer Sunglasses (Free Size)',\n",
       " 'UV Protection, Gradient Butterfly Sunglasses (60)',\n",
       " 'UV Protection Wayfarer Sunglasses (Free Size)',\n",
       " 'UV Protection, Gradient Rectangular Sunglasses (Free Si...',\n",
       " 'UV Protection, Mirrored Wayfarer Sunglasses (53)',\n",
       " 'Gradient, UV Protection Round Sunglasses (Free Size)',\n",
       " 'UV Protection Wayfarer Sunglasses (Free Size)',\n",
       " 'UV Protection, Gradient, Mirrored, Riding Glasses Aviat...',\n",
       " 'UV Protection Round Sunglasses (53)',\n",
       " 'UV Protection, UV Protection Retro Square Sunglasses (F...',\n",
       " 'UV Protection Round Sunglasses (53)',\n",
       " 'Mirrored, UV Protection Wayfarer, Wayfarer, Wayfarer, W...',\n",
       " 'UV Protection Wayfarer Sunglasses (Free Size)',\n",
       " 'UV Protection, Polarized Aviator Sunglasses (60)',\n",
       " 'UV Protection Rectangular Sunglasses (Free Size)',\n",
       " 'UV Protection, Gradient Wayfarer Sunglasses (53)',\n",
       " 'UV Protection, Gradient Wayfarer Sunglasses (55)',\n",
       " 'Gradient Round Sunglasses (Free Size)',\n",
       " 'UV Protection, Mirrored Sports Sunglasses (62)',\n",
       " 'UV Protection Aviator Sunglasses (58)',\n",
       " 'UV Protection Round Sunglasses (50)',\n",
       " 'UV Protection Retro Square Sunglasses (Free Size)',\n",
       " 'UV Protection, Gradient Retro Square Sunglasses (Free S...',\n",
       " 'UV Protection, Gradient Butterfly Sunglasses (52)',\n",
       " 'UV Protection Rectangular Sunglasses (60)',\n",
       " 'UV Protection, Gradient Retro Square Sunglasses (Free S...']"
      ]
     },
     "execution_count": 431,
     "metadata": {},
     "output_type": "execute_result"
    }
   ],
   "source": [
    "des2 = driver.find_elements_by_xpath('//a[@class = \"IRpwTa\"]')\n",
    "\n",
    "Description2 = []\n",
    "for i in des2:\n",
    "    c2 = i.text\n",
    "    Description2.append(i.text)\n",
    "Description2"
   ]
  },
  {
   "cell_type": "code",
   "execution_count": 432,
   "metadata": {
    "scrolled": true
   },
   "outputs": [
    {
     "data": {
      "text/plain": [
       "['₹209',\n",
       " '₹319',\n",
       " '₹362',\n",
       " '₹524',\n",
       " '₹210',\n",
       " '₹404',\n",
       " '₹319',\n",
       " '₹559',\n",
       " '₹194',\n",
       " '₹599',\n",
       " '₹207',\n",
       " '₹449',\n",
       " '₹689',\n",
       " '₹183',\n",
       " '₹652',\n",
       " '₹524',\n",
       " '₹689',\n",
       " '₹399',\n",
       " '₹199',\n",
       " '₹359',\n",
       " '₹649',\n",
       " '₹233',\n",
       " '₹236',\n",
       " '₹349',\n",
       " '₹233',\n",
       " '₹284',\n",
       " '₹349',\n",
       " '₹561',\n",
       " '₹217',\n",
       " '₹279',\n",
       " '₹183',\n",
       " '₹359',\n",
       " '₹273',\n",
       " '₹1,059',\n",
       " '₹319',\n",
       " '₹499',\n",
       " '₹359',\n",
       " '₹524',\n",
       " '₹186',\n",
       " '₹359']"
      ]
     },
     "execution_count": 432,
     "metadata": {},
     "output_type": "execute_result"
    }
   ],
   "source": [
    "pri2 = driver.find_elements_by_xpath('//div[@class = \"_30jeq3\"]')\n",
    "\n",
    "Price2 = []\n",
    "for i in pri2:\n",
    "    d2 = i.text\n",
    "    Price2.append(i.text)\n",
    "Price2"
   ]
  },
  {
   "cell_type": "code",
   "execution_count": 433,
   "metadata": {
    "scrolled": true
   },
   "outputs": [
    {
     "data": {
      "text/plain": [
       "['88% off',\n",
       " '84% off',\n",
       " '69% off',\n",
       " '73% off',\n",
       " '85% off',\n",
       " '79% off',\n",
       " '78% off',\n",
       " '72% off',\n",
       " '87% off',\n",
       " '70% off',\n",
       " '80% off',\n",
       " '79% off',\n",
       " '23% off',\n",
       " '81% off',\n",
       " '18% off',\n",
       " '73% off',\n",
       " '23% off',\n",
       " '82% off',\n",
       " '80% off',\n",
       " '82% off',\n",
       " '18% off',\n",
       " '76% off',\n",
       " '89% off',\n",
       " '80% off',\n",
       " '90% off',\n",
       " '81% off',\n",
       " '65% off',\n",
       " '71% off',\n",
       " '88% off',\n",
       " '86% off',\n",
       " '81% off',\n",
       " '90% off',\n",
       " '78% off',\n",
       " '18% off',\n",
       " '78% off',\n",
       " '77% off',\n",
       " '82% off',\n",
       " '73% off',\n",
       " '85% off',\n",
       " '82% off']"
      ]
     },
     "execution_count": 433,
     "metadata": {},
     "output_type": "execute_result"
    }
   ],
   "source": [
    "dis2 = driver.find_elements_by_xpath('//div[@class = \"_3Ay6Sb\"]/span')\n",
    "\n",
    "Discount2 = []\n",
    "for i in dis2:\n",
    "    e2 = i.text\n",
    "    Discount2.append(i.text)\n",
    "Discount2"
   ]
  },
  {
   "cell_type": "code",
   "execution_count": 434,
   "metadata": {},
   "outputs": [],
   "source": [
    "nex2 = driver.find_element_by_xpath('//nav[@class = \"yFHi8N\"]/a[12]')\n",
    "nex2.click()\n",
    "time.sleep(2)"
   ]
  },
  {
   "cell_type": "code",
   "execution_count": 435,
   "metadata": {
    "scrolled": true
   },
   "outputs": [
    {
     "data": {
      "text/plain": [
       "['Fastrack',\n",
       " 'Fastrack',\n",
       " 'elegante',\n",
       " 'VINCENT CHASE',\n",
       " 'Fastrack',\n",
       " 'PIRASO',\n",
       " 'ROZZETTA CRAFT',\n",
       " 'ROYAL SON',\n",
       " 'AISLIN',\n",
       " 'Silver Kartz',\n",
       " 'HIPPON',\n",
       " 'ROYAL SON',\n",
       " 'IDEE',\n",
       " 'ROYAL SON',\n",
       " 'Fastrack',\n",
       " 'ROZZETTA CRAFT',\n",
       " 'kingsunglasses',\n",
       " 'ROYAL SON',\n",
       " 'kingsunglasses',\n",
       " 'ROYAL SON',\n",
       " 'Fastrack',\n",
       " 'AISLIN',\n",
       " 'DEIXELS',\n",
       " 'ROYAL SON',\n",
       " 'ROYAL SON',\n",
       " 'ROZZETTA CRAFT',\n",
       " 'Fastrack',\n",
       " 'ROYAL SON',\n",
       " 'WROGN',\n",
       " 'IDEE',\n",
       " 'PIRASO',\n",
       " 'ROZZETTA CRAFT',\n",
       " 'Fastrack',\n",
       " 'Rich Club',\n",
       " 'Silver Kartz',\n",
       " 'ROYAL SON',\n",
       " 'ROZZETTA CRAFT',\n",
       " 'Fastrack',\n",
       " 'PHENOMENAL',\n",
       " 'ROYAL SON']"
      ]
     },
     "execution_count": 435,
     "metadata": {},
     "output_type": "execute_result"
    }
   ],
   "source": [
    "brand3 = driver.find_elements_by_xpath('//div[@class = \"_2WkVRV\"]')\n",
    "brand3\n",
    "\n",
    "Brand3 = []\n",
    "for i in brand3:\n",
    "    bde = i.text\n",
    "    Brand3.append(i.text)\n",
    "Brand3"
   ]
  },
  {
   "cell_type": "code",
   "execution_count": 436,
   "metadata": {
    "scrolled": true
   },
   "outputs": [
    {
     "data": {
      "text/plain": [
       "['UV Protection Aviator Sunglasses (58)',\n",
       " 'UV Protection Rectangular Sunglasses (59)',\n",
       " 'Mirrored Round Sunglasses (Free Size)',\n",
       " 'UV Protection Aviator Sunglasses (53)',\n",
       " 'Gradient, UV Protection Wayfarer Sunglasses (Free Size)',\n",
       " 'UV Protection Aviator Sunglasses (Free Size)',\n",
       " 'UV Protection Retro Square Sunglasses (Free Size)',\n",
       " 'Polarized, UV Protection Aviator Sunglasses (58)',\n",
       " 'UV Protection, Gradient Butterfly, Retro Square Sunglas...',\n",
       " 'UV Protection Oval Sunglasses (56)',\n",
       " 'UV Protection Wayfarer Sunglasses (55)',\n",
       " 'Mirrored Aviator Sunglasses (55)',\n",
       " 'UV Protection Wayfarer Sunglasses (18)',\n",
       " 'UV Protection Rectangular Sunglasses (58)',\n",
       " 'UV Protection Wayfarer Sunglasses (55)',\n",
       " 'Mirrored, UV Protection Round Sunglasses (Free Size)',\n",
       " 'UV Protection, Riding Glasses, Mirrored Wayfarer Sungla...',\n",
       " 'Polarized, UV Protection Aviator Sunglasses (58)',\n",
       " 'Mirrored, UV Protection Wayfarer Sunglasses (Free Size)',\n",
       " 'Polarized, UV Protection Retro Square Sunglasses (53)',\n",
       " 'UV Protection Wayfarer Sunglasses (Free Size)',\n",
       " 'Toughened Glass Lens, UV Protection Aviator Sunglasses ...',\n",
       " 'UV Protection Aviator, Wayfarer Sunglasses (Free Size)',\n",
       " 'UV Protection Over-sized Sunglasses (62)',\n",
       " 'UV Protection Retro Square Sunglasses (88)',\n",
       " 'UV Protection, Gradient Round Sunglasses (Free Size)',\n",
       " 'UV Protection Oval Sunglasses (Free Size)',\n",
       " 'UV Protection Over-sized Sunglasses (65)',\n",
       " 'Polarized Oval Sunglasses (55)',\n",
       " 'Mirrored, UV Protection Aviator Sunglasses (18)',\n",
       " 'UV Protection Butterfly Sunglasses (65)',\n",
       " 'UV Protection Retro Square Sunglasses (Free Size)',\n",
       " 'UV Protection Wayfarer Sunglasses (Free Size)',\n",
       " 'UV Protection, Others Round Sunglasses (48)',\n",
       " 'UV Protection Aviator Sunglasses (88)',\n",
       " 'UV Protection, Gradient Over-sized Sunglasses (59)',\n",
       " 'UV Protection Rectangular Sunglasses (Free Size)',\n",
       " 'UV Protection Aviator Sunglasses (Free Size)',\n",
       " 'UV Protection, Mirrored Retro Square Sunglasses (53)',\n",
       " 'UV Protection, Gradient Butterfly Sunglasses (57)']"
      ]
     },
     "execution_count": 436,
     "metadata": {},
     "output_type": "execute_result"
    }
   ],
   "source": [
    "des3 = driver.find_elements_by_xpath('//a[@class = \"IRpwTa\"]')\n",
    "\n",
    "Description3 = []\n",
    "for i in des3:\n",
    "    c3 = i.text\n",
    "    Description3.append(i.text)\n",
    "Description3"
   ]
  },
  {
   "cell_type": "code",
   "execution_count": 437,
   "metadata": {
    "scrolled": true
   },
   "outputs": [
    {
     "data": {
      "text/plain": [
       "['₹1,085',\n",
       " '₹1,059',\n",
       " '₹359',\n",
       " '₹999',\n",
       " '₹619',\n",
       " '₹279',\n",
       " '₹499',\n",
       " '₹639',\n",
       " '₹459',\n",
       " '₹224',\n",
       " '₹257',\n",
       " '₹319',\n",
       " '₹2,050',\n",
       " '₹399',\n",
       " '₹751',\n",
       " '₹359',\n",
       " '₹217',\n",
       " '₹599',\n",
       " '₹284',\n",
       " '₹524',\n",
       " '₹733',\n",
       " '₹640',\n",
       " '₹229',\n",
       " '₹559',\n",
       " '₹479',\n",
       " '₹359',\n",
       " '₹1,970',\n",
       " '₹559',\n",
       " '₹1,040',\n",
       " '₹2,450',\n",
       " '₹426',\n",
       " '₹401',\n",
       " '₹797',\n",
       " '₹299',\n",
       " '₹201',\n",
       " '₹559',\n",
       " '₹398',\n",
       " '₹759',\n",
       " '₹319',\n",
       " '₹559']"
      ]
     },
     "execution_count": 437,
     "metadata": {},
     "output_type": "execute_result"
    }
   ],
   "source": [
    "pri3 = driver.find_elements_by_xpath('//div[@class = \"_30jeq3\"]')\n",
    "\n",
    "Price3 = []\n",
    "for i in pri3:\n",
    "    d3 = i.text\n",
    "    Price3.append(i.text)\n",
    "Price3"
   ]
  },
  {
   "cell_type": "code",
   "execution_count": 438,
   "metadata": {
    "scrolled": true
   },
   "outputs": [
    {
     "data": {
      "text/plain": [
       "['16% off',\n",
       " '18% off',\n",
       " '82% off',\n",
       " '50% off',\n",
       " '22% off',\n",
       " '82% off',\n",
       " '77% off',\n",
       " '68% off',\n",
       " '69% off',\n",
       " '81% off',\n",
       " '78% off',\n",
       " '78% off',\n",
       " '73% off',\n",
       " '16% off',\n",
       " '75% off',\n",
       " '81% off',\n",
       " '70% off',\n",
       " '89% off',\n",
       " '73% off',\n",
       " '18% off',\n",
       " '82% off',\n",
       " '80% off',\n",
       " '62% off',\n",
       " '76% off',\n",
       " '82% off',\n",
       " '1% off',\n",
       " '62% off',\n",
       " '67% off',\n",
       " '83% off',\n",
       " '75% off',\n",
       " '11% off',\n",
       " '62% off',\n",
       " '83% off',\n",
       " '72% off',\n",
       " '73% off',\n",
       " '15% off',\n",
       " '84% off',\n",
       " '72% off']"
      ]
     },
     "execution_count": 438,
     "metadata": {},
     "output_type": "execute_result"
    }
   ],
   "source": [
    "dis3 = driver.find_elements_by_xpath('//div[@class = \"_3Ay6Sb\"]/span')\n",
    "\n",
    "Discount3 = []\n",
    "for i in dis3:\n",
    "    e3 = i.text\n",
    "    Discount3.append(i.text)\n",
    "Discount3"
   ]
  },
  {
   "cell_type": "code",
   "execution_count": 439,
   "metadata": {},
   "outputs": [],
   "source": [
    "Final_Brand = Brand1+Brand2+Brand3\n",
    "Final_Description = Description+Description2+Description3\n",
    "Final_price = Price+Price2+Price3\n",
    "Final_discount = Discount+Discount2+Discount3"
   ]
  },
  {
   "cell_type": "code",
   "execution_count": 440,
   "metadata": {},
   "outputs": [
    {
     "data": {
      "text/html": [
       "<div>\n",
       "<style scoped>\n",
       "    .dataframe tbody tr th:only-of-type {\n",
       "        vertical-align: middle;\n",
       "    }\n",
       "\n",
       "    .dataframe tbody tr th {\n",
       "        vertical-align: top;\n",
       "    }\n",
       "\n",
       "    .dataframe thead th {\n",
       "        text-align: right;\n",
       "    }\n",
       "</style>\n",
       "<table border=\"1\" class=\"dataframe\">\n",
       "  <thead>\n",
       "    <tr style=\"text-align: right;\">\n",
       "      <th></th>\n",
       "      <th>Brand</th>\n",
       "      <th>Description</th>\n",
       "      <th>Discount</th>\n",
       "      <th>Price</th>\n",
       "    </tr>\n",
       "  </thead>\n",
       "  <tbody>\n",
       "    <tr>\n",
       "      <th>1</th>\n",
       "      <td>VINCENT CHASE</td>\n",
       "      <td>Polarized, UV Protection Wayfarer Sunglasses (57)</td>\n",
       "      <td>60% off</td>\n",
       "      <td>₹799</td>\n",
       "    </tr>\n",
       "    <tr>\n",
       "      <th>2</th>\n",
       "      <td>VINCENT CHASE</td>\n",
       "      <td>Polarized, UV Protection Wayfarer Sunglasses (53)</td>\n",
       "      <td>68% off</td>\n",
       "      <td>₹639</td>\n",
       "    </tr>\n",
       "    <tr>\n",
       "      <th>3</th>\n",
       "      <td>PIRASO</td>\n",
       "      <td>UV Protection Aviator Sunglasses (54)</td>\n",
       "      <td>87% off</td>\n",
       "      <td>₹200</td>\n",
       "    </tr>\n",
       "    <tr>\n",
       "      <th>4</th>\n",
       "      <td>Fastrack</td>\n",
       "      <td>UV Protection Wayfarer Sunglasses (Free Size)</td>\n",
       "      <td>15% off</td>\n",
       "      <td>₹758</td>\n",
       "    </tr>\n",
       "    <tr>\n",
       "      <th>5</th>\n",
       "      <td>PIRASO</td>\n",
       "      <td>UV Protection Aviator Sunglasses (54)</td>\n",
       "      <td>87% off</td>\n",
       "      <td>₹200</td>\n",
       "    </tr>\n",
       "    <tr>\n",
       "      <th>...</th>\n",
       "      <td>...</td>\n",
       "      <td>...</td>\n",
       "      <td>...</td>\n",
       "      <td>...</td>\n",
       "    </tr>\n",
       "    <tr>\n",
       "      <th>96</th>\n",
       "      <td>ROZZETTA CRAFT</td>\n",
       "      <td>Mirrored, UV Protection Round Sunglasses (Free...</td>\n",
       "      <td>81% off</td>\n",
       "      <td>₹359</td>\n",
       "    </tr>\n",
       "    <tr>\n",
       "      <th>97</th>\n",
       "      <td>kingsunglasses</td>\n",
       "      <td>UV Protection, Riding Glasses, Mirrored Wayfar...</td>\n",
       "      <td>70% off</td>\n",
       "      <td>₹217</td>\n",
       "    </tr>\n",
       "    <tr>\n",
       "      <th>98</th>\n",
       "      <td>ROYAL SON</td>\n",
       "      <td>Polarized, UV Protection Aviator Sunglasses (58)</td>\n",
       "      <td>89% off</td>\n",
       "      <td>₹599</td>\n",
       "    </tr>\n",
       "    <tr>\n",
       "      <th>99</th>\n",
       "      <td>kingsunglasses</td>\n",
       "      <td>Mirrored, UV Protection Wayfarer Sunglasses (F...</td>\n",
       "      <td>73% off</td>\n",
       "      <td>₹284</td>\n",
       "    </tr>\n",
       "    <tr>\n",
       "      <th>100</th>\n",
       "      <td>ROYAL SON</td>\n",
       "      <td>Polarized, UV Protection Retro Square Sunglass...</td>\n",
       "      <td>18% off</td>\n",
       "      <td>₹524</td>\n",
       "    </tr>\n",
       "  </tbody>\n",
       "</table>\n",
       "<p>100 rows × 4 columns</p>\n",
       "</div>"
      ],
      "text/plain": [
       "              Brand                                        Description  \\\n",
       "1     VINCENT CHASE  Polarized, UV Protection Wayfarer Sunglasses (57)   \n",
       "2     VINCENT CHASE  Polarized, UV Protection Wayfarer Sunglasses (53)   \n",
       "3            PIRASO              UV Protection Aviator Sunglasses (54)   \n",
       "4          Fastrack      UV Protection Wayfarer Sunglasses (Free Size)   \n",
       "5            PIRASO              UV Protection Aviator Sunglasses (54)   \n",
       "..              ...                                                ...   \n",
       "96   ROZZETTA CRAFT  Mirrored, UV Protection Round Sunglasses (Free...   \n",
       "97   kingsunglasses  UV Protection, Riding Glasses, Mirrored Wayfar...   \n",
       "98        ROYAL SON   Polarized, UV Protection Aviator Sunglasses (58)   \n",
       "99   kingsunglasses  Mirrored, UV Protection Wayfarer Sunglasses (F...   \n",
       "100       ROYAL SON  Polarized, UV Protection Retro Square Sunglass...   \n",
       "\n",
       "    Discount Price  \n",
       "1    60% off  ₹799  \n",
       "2    68% off  ₹639  \n",
       "3    87% off  ₹200  \n",
       "4    15% off  ₹758  \n",
       "5    87% off  ₹200  \n",
       "..       ...   ...  \n",
       "96   81% off  ₹359  \n",
       "97   70% off  ₹217  \n",
       "98   89% off  ₹599  \n",
       "99   73% off  ₹284  \n",
       "100  18% off  ₹524  \n",
       "\n",
       "[100 rows x 4 columns]"
      ]
     },
     "execution_count": 440,
     "metadata": {},
     "output_type": "execute_result"
    }
   ],
   "source": [
    "Flipkart=pd.DataFrame({})\n",
    "Flipkart['Brand']=Final_Brand[0:100]\n",
    "Flipkart['Description']=Final_Description[0:100]\n",
    "Flipkart['Discount']=Final_discount[0:100]\n",
    "Flipkart['Price']=Final_price[0:100]\n",
    "Flipkart.index = np.arange(1, len(Flipkart)+1)\n",
    "Flipkart[0:100]"
   ]
  },
  {
   "cell_type": "code",
   "execution_count": 441,
   "metadata": {},
   "outputs": [],
   "source": [
    "driver.close()"
   ]
  },
  {
   "cell_type": "markdown",
   "metadata": {},
   "source": [
    "# Q7: Scrape 100 reviews data from flipkart.com for iphone11 phone. You have to go the link: https://www.flipkart.com/apple-iphone-11-black-64-gb-includes-earpods-power-adapter/p/itm0f37c2240b217?pid=MOBFKCTSVZAXUHGR&lid=LSTMOBFKCTSVZAXUHGREPBFGI&marketplace.\n",
    "When you will open the above link you will reach to the below shown webpage.\n",
    "As shown in the above page you have to scrape the tick marked attributes.\n",
    "These are\n",
    "1. Rating\n",
    "2. Review_summary\n",
    "3. Full review\n",
    "You have to scrape this data for first 100 reviews."
   ]
  },
  {
   "cell_type": "code",
   "execution_count": 442,
   "metadata": {},
   "outputs": [
    {
     "data": {
      "text/plain": [
       "<selenium.webdriver.chrome.webdriver.WebDriver (session=\"d93e7b162cf4eb2f370536e88ede410c\")>"
      ]
     },
     "execution_count": 442,
     "metadata": {},
     "output_type": "execute_result"
    }
   ],
   "source": [
    "driver = webdriver.Chrome(executable_path='/Users/rahulmore/chromedriver')\n",
    "driver"
   ]
  },
  {
   "cell_type": "code",
   "execution_count": 443,
   "metadata": {},
   "outputs": [],
   "source": [
    "url8 = driver.get('https://www.flipkart.com/apple-iphone-11-black-64-gb-includes-earpods-power-adapter/product-reviews/itm0f37c2240b217?pid=MOBFKCTSVZAXUHGR&lid=LSTMOBFKCTSVZAXUHGREPBFGI&marketplace=FLIPKART')\n",
    "url8"
   ]
  },
  {
   "cell_type": "code",
   "execution_count": 444,
   "metadata": {
    "scrolled": true
   },
   "outputs": [
    {
     "data": {
      "text/plain": [
       "['https://www.flipkart.com/apple-iphone-11-black-64-gb-includes-earpods-power-adapter/product-reviews/itm0f37c2240b217?pid=MOBFKCTSVZAXUHGR&lid=LSTMOBFKCTSVZAXUHGREPBFGI&marketplace=FLIPKART&page=1',\n",
       " 'https://www.flipkart.com/apple-iphone-11-black-64-gb-includes-earpods-power-adapter/product-reviews/itm0f37c2240b217?pid=MOBFKCTSVZAXUHGR&lid=LSTMOBFKCTSVZAXUHGREPBFGI&marketplace=FLIPKART&page=2',\n",
       " 'https://www.flipkart.com/apple-iphone-11-black-64-gb-includes-earpods-power-adapter/product-reviews/itm0f37c2240b217?pid=MOBFKCTSVZAXUHGR&lid=LSTMOBFKCTSVZAXUHGREPBFGI&marketplace=FLIPKART&page=3',\n",
       " 'https://www.flipkart.com/apple-iphone-11-black-64-gb-includes-earpods-power-adapter/product-reviews/itm0f37c2240b217?pid=MOBFKCTSVZAXUHGR&lid=LSTMOBFKCTSVZAXUHGREPBFGI&marketplace=FLIPKART&page=4',\n",
       " 'https://www.flipkart.com/apple-iphone-11-black-64-gb-includes-earpods-power-adapter/product-reviews/itm0f37c2240b217?pid=MOBFKCTSVZAXUHGR&lid=LSTMOBFKCTSVZAXUHGREPBFGI&marketplace=FLIPKART&page=5',\n",
       " 'https://www.flipkart.com/apple-iphone-11-black-64-gb-includes-earpods-power-adapter/product-reviews/itm0f37c2240b217?pid=MOBFKCTSVZAXUHGR&lid=LSTMOBFKCTSVZAXUHGREPBFGI&marketplace=FLIPKART&page=6',\n",
       " 'https://www.flipkart.com/apple-iphone-11-black-64-gb-includes-earpods-power-adapter/product-reviews/itm0f37c2240b217?pid=MOBFKCTSVZAXUHGR&lid=LSTMOBFKCTSVZAXUHGREPBFGI&marketplace=FLIPKART&page=7',\n",
       " 'https://www.flipkart.com/apple-iphone-11-black-64-gb-includes-earpods-power-adapter/product-reviews/itm0f37c2240b217?pid=MOBFKCTSVZAXUHGR&lid=LSTMOBFKCTSVZAXUHGREPBFGI&marketplace=FLIPKART&page=8',\n",
       " 'https://www.flipkart.com/apple-iphone-11-black-64-gb-includes-earpods-power-adapter/product-reviews/itm0f37c2240b217?pid=MOBFKCTSVZAXUHGR&lid=LSTMOBFKCTSVZAXUHGREPBFGI&marketplace=FLIPKART&page=9',\n",
       " 'https://www.flipkart.com/apple-iphone-11-black-64-gb-includes-earpods-power-adapter/product-reviews/itm0f37c2240b217?pid=MOBFKCTSVZAXUHGR&lid=LSTMOBFKCTSVZAXUHGREPBFGI&marketplace=FLIPKART&page=10']"
      ]
     },
     "execution_count": 444,
     "metadata": {},
     "output_type": "execute_result"
    }
   ],
   "source": [
    "URL_list = driver.find_elements_by_xpath('//nav[@class = \"yFHi8N\"]/a') \n",
    "URL_list\n",
    "\n",
    "Ulist = []\n",
    "for i in URL_list:\n",
    "    Ulist.append(i.get_attribute('href'))\n",
    "Ulist[0:10]"
   ]
  },
  {
   "cell_type": "code",
   "execution_count": 445,
   "metadata": {},
   "outputs": [
    {
     "data": {
      "text/plain": [
       "['5',\n",
       " '5',\n",
       " '5',\n",
       " '5',\n",
       " '5',\n",
       " '5',\n",
       " '5',\n",
       " '4',\n",
       " '5',\n",
       " '5',\n",
       " '5',\n",
       " '5',\n",
       " '5',\n",
       " '5',\n",
       " '5',\n",
       " '5',\n",
       " '5',\n",
       " '5',\n",
       " '5',\n",
       " '5',\n",
       " '5',\n",
       " '5',\n",
       " '4',\n",
       " '5',\n",
       " '5',\n",
       " '5',\n",
       " '5',\n",
       " '5',\n",
       " '4',\n",
       " '5',\n",
       " '5',\n",
       " '5',\n",
       " '5',\n",
       " '5',\n",
       " '5',\n",
       " '5',\n",
       " '5',\n",
       " '4',\n",
       " '1',\n",
       " '5',\n",
       " '5',\n",
       " '5',\n",
       " '5',\n",
       " '5',\n",
       " '5',\n",
       " '5',\n",
       " '5',\n",
       " '4',\n",
       " '5',\n",
       " '5',\n",
       " '5',\n",
       " '5',\n",
       " '4',\n",
       " '5',\n",
       " '5',\n",
       " '5',\n",
       " '5',\n",
       " '5',\n",
       " '5',\n",
       " '5',\n",
       " '5',\n",
       " '1',\n",
       " '5',\n",
       " '5',\n",
       " '5',\n",
       " '4',\n",
       " '5',\n",
       " '5',\n",
       " '5',\n",
       " '4',\n",
       " '5',\n",
       " '5',\n",
       " '5',\n",
       " '4',\n",
       " '5',\n",
       " '5',\n",
       " '5',\n",
       " '5',\n",
       " '5',\n",
       " '5',\n",
       " '4',\n",
       " '5',\n",
       " '5',\n",
       " '5',\n",
       " '5',\n",
       " '4',\n",
       " '5',\n",
       " '5',\n",
       " '5',\n",
       " '5',\n",
       " '5',\n",
       " '5',\n",
       " '5',\n",
       " '5',\n",
       " '5',\n",
       " '5',\n",
       " '5',\n",
       " '3',\n",
       " '5',\n",
       " '5',\n",
       " '5',\n",
       " '5',\n",
       " '5',\n",
       " '5',\n",
       " '5',\n",
       " '5',\n",
       " '5',\n",
       " '5',\n",
       " '5',\n",
       " '5']"
      ]
     },
     "execution_count": 445,
     "metadata": {},
     "output_type": "execute_result"
    }
   ],
   "source": [
    "iphone_ratings=[]\n",
    "\n",
    "for i in Ulist:\n",
    "    driver.get(i)\n",
    "    try:\n",
    "        ratings = driver.find_elements_by_xpath(\"//div[@class='_3LWZlK _1BLPMq' or @class='_3LWZlK _1rdVr6 _1BLPMq']\")\n",
    "        for i in ratings:\n",
    "            iphone_ratings.append(i.text)\n",
    "    except:\n",
    "        pass\n",
    "    \n",
    "iphone_ratings"
   ]
  },
  {
   "cell_type": "code",
   "execution_count": 446,
   "metadata": {
    "scrolled": true
   },
   "outputs": [
    {
     "data": {
      "text/plain": [
       "['Brilliant',\n",
       " 'Simply awesome',\n",
       " 'Perfect product!',\n",
       " 'Fabulous!',\n",
       " 'Best in the market!',\n",
       " 'Worth every penny',\n",
       " 'Great product',\n",
       " 'Good choice',\n",
       " 'Highly recommended',\n",
       " 'Worth every penny',\n",
       " 'Highly recommended',\n",
       " 'Perfect product!',\n",
       " 'Perfect product!',\n",
       " 'Classy product',\n",
       " 'Worth every penny',\n",
       " 'Perfect product!',\n",
       " 'Highly recommended',\n",
       " 'Simply awesome',\n",
       " 'Worth every penny',\n",
       " 'Worth every penny',\n",
       " 'Terrific',\n",
       " 'Wonderful',\n",
       " 'Nice product',\n",
       " 'Perfect product!',\n",
       " 'Classy product',\n",
       " 'Brilliant',\n",
       " 'Must buy!',\n",
       " 'Wonderful',\n",
       " 'Good choice',\n",
       " 'Perfect product!',\n",
       " 'Terrific purchase',\n",
       " 'Simply awesome',\n",
       " 'Great product',\n",
       " 'Mind-blowing purchase',\n",
       " 'Terrific purchase',\n",
       " 'Excellent',\n",
       " 'Simply awesome',\n",
       " 'Good quality product',\n",
       " 'Very poor',\n",
       " 'Classy product',\n",
       " 'Perfect product!',\n",
       " 'Must buy!',\n",
       " 'Fabulous!',\n",
       " 'Mind-blowing purchase',\n",
       " 'Mind-blowing purchase',\n",
       " 'Wonderful',\n",
       " 'Great product',\n",
       " 'Very Good',\n",
       " 'Classy product',\n",
       " 'Perfect product!',\n",
       " 'Just wow!',\n",
       " 'Awesome',\n",
       " 'Pretty good',\n",
       " 'Terrific purchase',\n",
       " 'Awesome',\n",
       " 'Classy product',\n",
       " 'Brilliant',\n",
       " 'Terrific',\n",
       " 'Perfect product!',\n",
       " 'Awesome',\n",
       " 'Perfect product!',\n",
       " 'Very poor',\n",
       " 'Fabulous!',\n",
       " 'Excellent',\n",
       " 'Must buy!',\n",
       " 'Value-for-money',\n",
       " 'Best in the market!',\n",
       " 'Brilliant',\n",
       " 'Terrific purchase',\n",
       " 'Good quality product',\n",
       " 'Best in the market!',\n",
       " 'Perfect product!',\n",
       " 'Awesome',\n",
       " 'Value-for-money',\n",
       " 'Just wow!',\n",
       " 'Super!',\n",
       " 'Classy product',\n",
       " 'Must buy!',\n",
       " 'Highly recommended',\n",
       " 'Excellent',\n",
       " 'Nice product',\n",
       " 'Mind-blowing purchase',\n",
       " 'Terrific',\n",
       " 'Excellent',\n",
       " 'Mind-blowing purchase',\n",
       " 'Pretty good',\n",
       " 'Fabulous!',\n",
       " 'Wonderful',\n",
       " 'Wonderful',\n",
       " 'Worth every penny',\n",
       " 'Fabulous!',\n",
       " 'Mind-blowing purchase',\n",
       " 'Excellent',\n",
       " 'Super!',\n",
       " 'Just wow!',\n",
       " 'Terrific purchase',\n",
       " 'Awesome',\n",
       " 'Decent product',\n",
       " 'Awesome',\n",
       " 'Brilliant',\n",
       " 'Highly recommended',\n",
       " 'Perfect product!',\n",
       " 'Perfect product!',\n",
       " 'Classy product',\n",
       " 'Worth every penny',\n",
       " 'Perfect product!',\n",
       " 'Highly recommended',\n",
       " 'Simply awesome',\n",
       " 'Worth every penny',\n",
       " 'Worth every penny']"
      ]
     },
     "execution_count": 446,
     "metadata": {},
     "output_type": "execute_result"
    }
   ],
   "source": [
    "Short=[]\n",
    "\n",
    "for i in Ulist:\n",
    "    driver.get(i)\n",
    "    try:\n",
    "        rev = driver.find_elements_by_xpath(\"//p[@class='_2-N8zT']\")\n",
    "        for i in rev:\n",
    "            Short.append(i.text)\n",
    "    except:\n",
    "        pass\n",
    "Short"
   ]
  },
  {
   "cell_type": "code",
   "execution_count": 447,
   "metadata": {},
   "outputs": [
    {
     "data": {
      "text/plain": [
       "['The Best Phone for the Money..The iPhone 11 offers superb cameras, a more durable design and excellent battery life for an affordable price...Compelling ultra-wide camera.New Night mode is excellent.Long battery life',\n",
       " 'Really satisfied with the Product I received... It’s totally genuine and the packaging was also really good so if ur planning to buy just go for it.',\n",
       " 'Amazing phone with great cameras and better battery which gives you the best performance. I just love the camera .',\n",
       " 'This is my first iOS phone. I am very happy with this product. Very much satisfied with this. I love this phone.',\n",
       " 'Great iPhone very snappy experience as apple kind. Upgraded from iPhone 7..Pros.-Camera top class.- Battery top performed.-Chipset no need to say as apple kind.-Security as you expect from apple.- Display super bright industry leading colour.accuracy and super responsive.-Build quality as expect from apple sturdy.premium durable beautiful stylish..-Os most stable os in smartphone industry..Cons.-No 5G.-Display is not based on OLED technology.-Charger headphones and 1 apple stic...',\n",
       " 'Previously I was using one plus 3t it was a great phone.And then I decided to upgrade I am stuck between Samsung s10 plus or iPhone 11.I have seen the specs and everything were good except the display it’s somewhere between 720-1080 and it’s not even an amoled it’s an LCD display.But I decided to go with iPhone because I have never used an IOS device I have Been an android user from the past 9 years I ordered IPhone 11 (128gb) product red.My experience after using 3 weeks.1. The delivery ...',\n",
       " 'Amazing Powerful and Durable Gadget...I’m am very happy with the camera picture quality, Amazing face id unlocked in dark room, Strong battery with perfect screen size as you can carry easily in pocket. This is my third iPhone...I shifted from android Samsung Note series to iPhone because of the strong build quality and peace of mind for next 3-4 years...Don’t think to much just go for it and I suggest you to go for minimum 128gb variant or more 256gb...I’ve attached my puppy pics and no fi...',\n",
       " 'So far it’s been an AMAZING experience coming back to iOS after nearly a decade but it’s not as versatile as android though phone is sturdy dropped it accidentally a couple of times and nothing happened fortunately camera is awesome',\n",
       " 'What a camera .....just awesome ..you can feel this iPhone just awesome . Good for gaming also ...try pubg in hd it’s just wow',\n",
       " 'i11 is worthy to buy, too much happy with the product. Thank u flipkart I received the item on time..loved it..',\n",
       " 'iphone 11 is a very good phone to buy only if you can compromise for the display. The display on this is device is pretty good but you can get other options with better displays in this price segment..If you can survive with an HD+ LCD panel with thicker bezels and a notch up top then this is a very good phone for you..Cameras are awesome, battery backup excellent, great performance and a decent premium look. Good job Apple !',\n",
       " 'It’s a must buy who is looking for an upgrade from previous generation of iPhones. If you are using XR then still you can hold on for sometime and upgrade to 2020 model else this phone is a must buy . Camera quality is amazing and wide angle is something to count upon. Performance wise it’s amazing and feels premium while holding in hand. So a big YES for this device. Go for 128 GB variant as the 4K videos will occupy lots of space and the storage can get over very quickly. Try to buy it with...',\n",
       " 'Value for money❤️❤️.Its awesome mobile phone in the world ....Display was very good and bright ...Trust me freinds you r never regret after Buying...Just go for it.....I love this phone and i switch to iphone x to 11',\n",
       " 'Totally in love with this ❤ the camera quality is amazing just love it 😘😘😘 itsss dammnnnnnn amazing... Must buy iPhone 11 this is my best experience ever ☀👌👌🧡🧡🧡🧡🧡 thanku apple ❤',\n",
       " 'Best budget Iphone till date ❤️ go for it guys without second thought. Let me explain you guys about Camera, Display, battery, and performance...Camera: at this price range there is no comparison of camera, you’ll love the picture quality as well as video quality. I am a Vlogger I wanted an iPhone with 4k video by front camera and I got this phone and I am more than happy 😃..Battery: I use this phone roughly as I am active social media person and I have a youtube channel. so the battery ba...',\n",
       " \"Iphone is just awesome.. battery backup is very very nice.. continuously for 10 hours we can use it.camera is just awesome.. display is just fab.i love it alot..i had to wait 15 days for it as i pre ordered it..overalll it's worth the price..these all images are clicked by my iPhone..and i love it.\",\n",
       " \"It's my first time to use iOS phone and I am loving my upgradation 😍😍 I love the color, I love the assebility of the phone....I need to learn more about its functionality, but as far as I have seen, it's quite easy and it has a lot of functions to work on, specially if you are a content writer or a blogger you get a lot of content creation platforms and they are really amazing...This phone not only for good quality photography but a lot of other task too.😍💯\",\n",
       " 'Excellent camera, good performance, no lag. The lcd display is also good.. but difference come when we watch movie in prime and Netflix, the colours are not vibrant.. as we see in amoled display.. and the charger in box is of 5 watts.. takes more than 3 hours to charge from 0 to 100.. so guys be prepare to buy 18 watts charger . Finally I am an android user, it was my first Iapple phone, I promise u guys the iOS is so smooth.. overall the phone is damn good.... close eyes to buy it.. thanks t...',\n",
       " 'It’s been almost a month since I have been using this phone. I upgraded from an iPhone 8. The main issue with my 8 was battery and this phone is just awesome when it comes to battery. It lasts a day and a half for me with my regular use , internet connected always with 4g.Can’t move forward without saying this. Battery of this phone is a life saver when I am traveling or at work when I don’t get the option to charge.Camera is superb. Front cam selfies and back cam photos are just awesome.....',\n",
       " 'Smooth like butter, camera like fantabulous, sound is crystal clear & its red color is damn attractive, i am just loving it. Must buy if you love photography...Lucky to get it in sale, thank you Flipkart.',\n",
       " 'Really worth of money. i just love it. It is the best phone ever.',\n",
       " 'This is my first ever I phone. Before this I was using my google nexus 5. But moving from android to iOS is a great experience. It’s worth at this price. I will highly recommend it if you want to move to iOS. The best part of this phone is it’s camera and it’s battery life. This two things have won my heart. I loved it. Happy to have it in my hand. Still exploring its features. And can’t forget to mention Flipkart service. Very prompt service and fast delivery.',\n",
       " 'Awesome Phone. Slightly high price but worth. Better than iPhone XR..Camera is superb and wide angle camera is very clear..12MP selfie camera is also very good..A13 Chip gives a very good and smooth performance.',\n",
       " 'Battery backup is extraordinary, camera is decent & performance offered by A13 bionic is awsome. The display is good in practical usage like the visibility of display is very good in direct sun light compare to pro models. Iam extremely satisfied for the money I spent.',\n",
       " 'Superb Product !!!.A big and worthy upgrade from mi 3S to iphone 11 ..Totally loved it !',\n",
       " 'I have migrated from OP 7pro... and trust me, iPhone 11 is totally worth it.. following are the reasons:-.1)there is ABSOLUTELY NO ISSUE WITH THE DISPLAY... its crisp, sharp and I found it to be much much better than OP7 pro. Netflix, Prime video all run crisply... you won’t miss a thing. True Tone works flawlessly...the display brightness is perfect. OP have not calibrated their screens properly..2) iPhone 11 series have really good cameras... others have spoken in depth about them..3) bat...',\n",
       " 'It’s an amazing product from apple and the camera is simply superb. Phone is faster.Night shot is simply superb and detailing and colour differentiation from camera is an added advantage..This review I have written from iPhone 11 only and I am glad to say outside...Cons wise if we see HD+ display only, no battery percentage indicator as in older iPhone 8..No assistive touch control button in it.No oleophobic coating on back panel glass and finger prints are visible but since I bought mint gr...',\n",
       " 'I just directly switch from iphone 6s to iphone 11 .The best premium smartphone I recommend to everyone. Excellent quality and colors the iphone have in 11 series..Camera quality is just awesome and the major feel when we hold in our hands. The sound quality and volume is also higher then the previous models..I will recommend to buy iphone 11 instead of pro models , there is nothing much difference as this model contains everything which fulfill our needs...Only one thing that I dislike abo...',\n",
       " 'Looking so good 👍 😍 super 👌 stylish 😎 phone.Clean box 📦 good 👍 delivery 👌 fast delivery.Original box Original iphone 📱 👌 😍😍😍',\n",
       " 'After 1 month use I found camera quality best compared to my previous Samsung note 10+.Display not good as note 10 also charging too slow.Apple should add fast charger like 11 plus and pro.Best phone for daily use',\n",
       " 'Upgraded from iphone 6 to 11 best phone for iphone users battery is much better than other iphones camera is awesome love to use it.camera is so clear in night.',\n",
       " \"It's very high performances devise i am like the service of flipkart delevary very fast and packing very nice perfect phone\",\n",
       " 'Well you all know the specifications . One of a kind. Best iPhone till date. Many enhancements to the camera app with many options. Love the glass body with matte finish in the lens area on the back. Lovely colours to choose from. Best battery in an iPhone till date, enough to last more than a day in normal usage. I tested my iPhone 11 battery and lasted for than 24 hours after full charge still with 30% battery charge left. Watched movies for some time. Normal usage on calls, browsing, musi...',\n",
       " 'This will help you more. See if you are planning to buy iPhone 11. I will say. Yes. But there are some plans I just want to disclose before you buy. 1) If you are an existing iPhone X/XS/XS Max/ XR user, better you guys do not think it to buy. You guys have more or less better gadget. 2) If you are an android user and planning to buy premium phone. I will suggest them to please buy iPhone instead of buying an Android. I bet you will never go back to android after using IOS. Now I want to shar...',\n",
       " 'The built quality is not very premium..The battery back is great ..The LCD panel is not so sharp but the brightness level is very High ..Camera is super duper awesome..The red colour which people think is bright is actually very soothing and excellent colour to choose from ..The A13 Bionic chip is really a flagship processor and can beat any phone which even has 12 gb ram ..Camera module is very great and looks very stylish.',\n",
       " 'Amazing camera and feel super machine I am not describe my feeling but this is amazing Phone I am so lucky I have this',\n",
       " 'Really good actually this is my first apple product am using its really awesome performance wise excellent. Am really happy with this iphone11',\n",
       " 'it is very good at performance. Camera is best like before and very smooth response even in water. Don’t buy 12 mini buy iPhone 11 , it is far better than 12 mini believe me ! Have a nice day \\uf8ff ☺️',\n",
       " 'Reviewing again after 5 months. At the beginning the battery and performance was good but it degraded soon. Also I was facing heating issues. The mobile will heat up like a stove sometimes. You cannot even play Pubg even in low settings properly, performance is not a problem but heating is. Also if you play that game for 10 mins the brightness will be automatically down due to over heating even when the auto brightness is set to off. This will not be solved even if u manually increase the bri...',\n",
       " 'We are on apple ecosystem for almost eight years now with couple of iPads and iPhones, including Xr...Bought iPhone 11 as a gift to my daughter who loves it. We chose for a purple coloured one. Believe me it is gorgeous and towards the lighter shade. Dazzling and brilliant!..The phone is great and does excellent RAM management like any other Apple device...The screen, though a LCD and lesser ppi as compared to other flagship phones of competitor brands, is a delight to watch with perfect re...',\n",
       " 'It is just awesome mobile for this price from Apple,..After 10 days review..Battery enough for 1 day even 24*7 Internet will be on and mostly internet usage..Camera is just awesome cool , android 64 MP is equal to this just 12 MP..A13 Bionic chip will give more high performance without hanging..Audio stereo speakers will give Dolby atoms sound with crystal clear..Video recording is like cinematic shots of every sec can be a 4K 60fps. Just awesome this phone.iPhone 11 loved one',\n",
       " 'Best Apple iPhone that i have bought at a very reasonable price, camera quality is next level just awesome n of superior quality android phones not even close(RIP) to that and also battery is really good but packaging by Flipkart of iPhone was very poor of such a expensive product, firstly im bit worried about the quality of product if i purchased it through online how was the product but i think now this was mine best decision to bought it through Flipkart online because i got genuine Apple...',\n",
       " \"I can say I'm damn impressed with iPhone 11. As they says iPhone 11 have the toughest glass ever in the smartphone which you'll find on the front and back and it's totally smooth. The fit and finish is full apple quality - there's no sense that any cheaping out has happened in the construction. Without saying it's camera features this review won't complete. The iPhone 11 has a dual camera system, consisting of a wide angle len's that's pretty much same as found on the iPhone XR last year, but...\",\n",
       " 'Best Quality Product OF iPhone Series , Sound Quality & Camera quality is very awesome, Battery Life is very Sufficient for 24 hr Backup With Full Internet Access , I love this this Product too much , It is very fast & making me Very fast in all my daily Routine.Highlights;.1.Camera: 5 STAR.2.Video Recording: 5 star.3.Night mODE sHOOTING & Camera:4 star.4. Audio Quality: Awesome.5. Battery : 5 Star.6. Touch:5 Star.7. Processor: Very Fast.The M...',\n",
       " 'First thanks to Flipkart for this amazing deal and phone is outstanding. I upgraded from iPhone 7 and this is like very big upgrade. But the packaging was very basic I expected a good packaging as they only wrapped one layer of bubble wrap which I don’t think is enough to protect this expensive phone. And I recommend this phone and seller as well...And I’m posting this review after using it for 4 days.',\n",
       " 'Superfast delivery by Flipkart. Thanks...1. iPhone 11 is a pretty solid phone for the money you are paying..2. All the bad reviews about the display is confusing. It’s not that bad..3. I switched from a Oneplus 7t. I have no complaints about the display quality of iPhone. Yes, it’s not OLED, so, we are missing on the deep blacks. But that’s it. It is a very colour accurate display. Gets adequately bright and I could not find any pixelation..4. Performance is one of the best, if not best, in ...',\n",
       " \"Again back to apple iphone after a gap of 2-3 years. It's pleasure to use iOS and the quality product by Apple. Iphone 11 still works like a beast in 2021 also. It really capable of doing day to day usage as well as hard core gaming. Battery is awesome. I'm really too much satisfied with it. Apart fto the very gorgious IPS LCD (AMOLED will be better) everything is mind boggling. Iphone💕.\",\n",
       " 'impressive super phone and best in class camera ,sound and face unlock is super fast just see and phone is unlock and fast in daily apps use',\n",
       " 'Well while switching from android to iOS the first thing you need to be careful about is that you will loose all your whatsapp chat backups as both are different operating systems. Camera clarity is awesome and though being an lcd screen clarity and resolution is good. Battery backup is also good unlike previous gen iPhone. So far the experience is good will Padre after a few months of usage...P.S the black is more of a dark grey shade and not jet black',\n",
       " 'In love with this iphone great performance,camera ,battery everything. Go for it have a uncompareble battery backup, no doubts in iPhone camera here You can see the picture which is shot on my iPhone In love with this iphone great performance,camera ,battery everything. Go for it have a uncompareble battery backup, no doubts in iPhone camera here You can see the picture which is shot on my iPhone In love with this iphone great performance,camera ,battery everything. Go for it have a uncompare...',\n",
       " 'Best in class. Battery backup is good especially when you play games like Pubg COD. But it is sort of heavy when you hold in hands. Portrait mode is best to click pictures. Stage light effect is awesome. Try to click photos outside in nature because photos inside home or room will not give you the quality in any phone even in DSLR.',\n",
       " 'Very excited to have this phone. This phone has the real power unlike the android phones having SD 855 . The battery life is very good and the camera quality is excellent as comapred to redmi and other phones except google pixel. I M enjoying every single bit of it. Would recommed only if you have the budget.',\n",
       " 'I was using Iphone 6s and also Oneplus 6t. Both mobiles were perfectly alright in Photos, gaming, and smooth interface . My 6s mobile getting battery issue. thought upgrade to 11. Really like this mobile of its Internal storage (compare to 6s) , camera and its touch feeling. Its a worth buying mobile for me.',\n",
       " 'Its Very awesome product working and good camera quality and all about best product and also flipkart is very great deal and offer nice price',\n",
       " 'I am using this phone for 5 days and its one of the best camera out there ❤️ the screen is not oled and i am coming from iphone xs so its little bit not up to the mark i would say.But overall value for money💕😍the battery back up is far better than my iphone xs and its worth in my apple ecosystem💫❤️if u are an apple User and have the eco system then go for it❤️though i will be getting the new iphone but its pretty good💫',\n",
       " 'Best and amazing product.....phone looks so premium.... battary is also good as expected .... Wide angle camera is so addictive ...if you are a IOS lover....then this phone will be the best choice for you all!!💯🔥',\n",
       " 'Excellent camera and display touching very nice and smooth very improvement against iPhone XR and new processor is very fast',\n",
       " \"I got this beast today. And I must say the picture quality of its camera is awesome. Both the cameras works fine...As for as the processing is concerned, it runs without any lag. You can play and do whatever you want without a glitch...The battery runs for a day with medium and high workload...The display is good and the speakers are working fine...The earphones doesn't have any base and you can use it for calling mostly...The charging time is approximately for 90 minutes for full charging...\",\n",
       " 'Awesome purchase. Amazing phone with good battery backup. It’s a top notch device. White colour looks amazing. Phone has a few extra feature than iPhone XR. Overall, this is value for money',\n",
       " 'Always love the apple products, upgraded from old iPhone 6S plus to this after having my first baby. I just love to click baby’s photos with it. Overall I just love this phone. Battery back up is okay, sound quality is good. Haven’t tested yet waterproof yet. Only one thing I hate is apple could have given charger & headphones in box.',\n",
       " 'Value for money.5 star rating.Excellent camera.Battery backup full day in single charge...Tougher and water resistant design, glossy back..The screen has excellent brightness and contrast..Apple A13 Bionic is the fastest smartphone chip on the planet..Excellent battery life, fast charging support..Stereo speakers with great quality.',\n",
       " 'Please DONT buy from here,..I purchased Apple iPhone 11. with an exchange of IPhone 7, the exchange did not go well, iPhone 7 had a small scratch out side screen which i could never identify till date, but the FLIPKART person could, so he reduced 50% from exchange rate. I decided not to trade in, but paid money...iPhone 11 Detail Below.---------------------------------------------.It came with no charging, then i have put for charging, it took lot of time for charging, the phone also showe...',\n",
       " 'awesome phone to have. it has got many smart features apart from mind blowing looks, camera, display, battery and sound. have fallen in love with this phone. must buy phone if you have got enough money. thanks to flipkart and apple of course..',\n",
       " 'Its a fabulous mobile look awesome performance unbeaten camera like dslr battery good i think this is a beast of mobile',\n",
       " 'Dear friends... I want to share my experience with you about this amazing I phone 11....this is my first iPhone and special things about this mobile is it has great camera, battery backup and awesome display.... I mean everything is perfect.loved it 👍👍👍',\n",
       " \"Just got this iphone 11.And it is most powerful mobile phone I have used ever..So,go for it if you want a phone with best specification like camera,battery backup,display, A13 bionic chip..That's my review about this phone but yours can be differ from me....\",\n",
       " \"The best all rounder iphone. Flipkart is doing a great job. They're delivery services are blazing fast. I got delivery on the same day. Genuine Apple Product. Working great. Talking about review There's no need of review for iphones. They're simply the best.\",\n",
       " 'Amazing phone and on great deal I received with super fast delivery by Flipkart...',\n",
       " 'finally an iPhone with very nice battery backup. update from iPhone 7 and happy to have it. camera is not up to the mark in low light but overall a recommended phone if your budget allows 😀',\n",
       " \"I'm switching this phone to oppo reno 10x zoom.It's really impressive.Rarely I'm missing smooth display touch response like oppo reno but.I really loved it..Camera really impressive\",\n",
       " 'Damn this phone is a blast . Upgraded from android to ios and is a duperb experience. Battery backup is top notch and display also pretty good',\n",
       " 'Worth the money’ starting first from its performance it beats out all phones , second the smoothness of camera is awesome, contrast ratio is much than expected. Price will not matter if u r a quality person, if not other phones are available with better discount',\n",
       " 'I dreamt about this day from a long time.... Getting an iPhone with my own money.... Super happy and worth spending every penny',\n",
       " \"I'm Really happy with the product.Delivery was fast as well...it was a gift for my sister and she loved it so much.\",\n",
       " 'Great iphone..I am writing this review after 2 months of usage..Camera is excellent, especially the nightmode.Display perfect.Battery backup awesome.Sound quality very good.Overall Apple gives you a perfect iphone in this range..Really in love with iPhone 11',\n",
       " 'Did an upgrade from 6s plus to iphone 11..Ao far the experience is well and good. Felt smoother than 6s plus. The camera quality is superb. Battery backup is descent. Not a heavy user, and gets power more than a day. Go for it if you need an alrounder iphone in a competitve price.',\n",
       " 'Gifted my man on his 30th birthday 🎂 He loves it.. Him happy so i am more than happy 😍😘❤️🥰',\n",
       " 'I rate this product 5* as it has got amazing user experience with the best performing A13 bionic processor. The screen responds and graphics rendering is top notch. With casual gaming and internet browsing, the battery lasts for approx. 1 day. Camera is very good. You will fall in love with the portrait mode. You can call me a loyal Apple customer or whatever but I won’t stop praising the products and overall experience. That user experience matters and is worth every penny you pay...Below ar...',\n",
       " 'Thanks Flipkart For this amazing deal! I had a dream of owning a iphone since i had known about..Im very happy with my purchase & it is totally worth it..Amazing experience all over !!..Anyone who’s thinking of buying it in 2021, i would simply say go for it without any second thoughts ❤️',\n",
       " \"It was amazing experience for me. Honestly i am using iPhone first time so I don't have that much past experience about that. But after using 7 days this mobile i want to give some honest feedback..1- Display 9 out of 10.2- Camera 9.5 out of 10.3- Battery 7 out of 10.4- Performance 9.5 out of 10.5- Features & Functions 10 out of 10.6- Outer looks and colour 10 out of 10.Rest i think i will understand after using this for few months..I will highly recommend you guys if you have budget then you...\",\n",
       " \"If you are looking for a premium phone under 55k, this is the one for you.Got the iPhone 11 during the Republic day sale. Performance is top notch in this price range. Camera's do a perfect job in taking good quality photos and videos. Battery backup too is satisfactory. Writing this review after using for a week. Any further observations would be updated.\",\n",
       " 'awesome Phone Smooth Touch Too good Sexyy looks one word Awesome',\n",
       " 'I bought iPhone 11 On March 2021, And I am Writing this review after using the phone for 4 Months. I would Say Everything is fine, Top Performance, Nice Camera as Anyone would Expect from any series of iPhone but when the Question comes to Battery it is complicated. The Battery is fully optimised and it comes 3110 mAh capacity but the problem is with the charger. Honestly Apple Removed charger from in Box items in the name of Environment and they are also forcing us to buy any 20W PD 3rd part...',\n",
       " \"Just go for it..This phone is really amazing. I ordered it for my wife and we click photos on this thing which are better than dslr. I own OnePlus 6t but it's camera sucks. iPhone is really amazing when it comes to camera. It's worth spending 50k on this. Cons- only display is lcd. While using u don't feel it but if u compare with other phone then u can see difference quite easily..Changing from Android to iphone is bit difficult coz most of things u don't know but I liked it. Some of the a...\",\n",
       " 'Absolutely powerful gadget. Loved it’s look! Soo glassy and classy. I would definitely recommend this model of Apple. Only disappointed with the 5W charger, one should purchase an 18W adapter for fast charging. Though battery backup is great. Bought it in September 2020, reviewing after so long so I’m gonna put the genuine review here.✅',\n",
       " \"I've used this phone for over a month now and here are my takeaways..I would like to first talk about the best things about this phone and then the cons of it...Pros:.This phone is a performance beast. It handles large games and applications effortlessly and you won't find any stutters or lags while playing graphic intensive games like pubg, cod , mortal kombat and asphalt...This phone has only 4gb ram and yet the ram management is amazing, it can keep 3 heavy games in memory without reload...\",\n",
       " 'Everything is perfect pictures come out so clearly and at first I wasn’t sure when I got it then when I started to use it and get the hang of it it was amazing!! I can’t wait to see what the next future phones will be like. The screen display on this bad boy are unbelievable they are so clear and never fail me. The performance is super cool there is a lot of cool features as well I like this phone because I feel that it is easy to use and one of my favorite things about this phone is the Face...',\n",
       " 'Super and marvellous phone look very cute and nice sound. I love this phone i think white is good colur.Excellent camer 5*😍😘♥️♥️',\n",
       " 'Nice value for money good and best price I phone mind blowing camera processor very fast other android mobile I am happy India top selling phone 2020',\n",
       " 'Undoubtedly Iphone 11 is the most successful model till now and its performance is extraordinary and the security features are very impressive, display is more vibrant sound quality Camera Quality 5*****, but Iphone should add accessories too and act like scrooge.',\n",
       " 'I purchased the iPhone 11 a month back. I must say Apple has impressed me yet again . I have been an Apple user for past 5 years . The phone is power packed with amazing features . What impressed me the most was the battery backup the phone offers . Battery can easily run upto 1.5 days in single charge with moderate to.Heavy usage . If you’re looking for a value for money device , I don’t see any other phone in the price range which can match the iPhone 11 ..One thing I didn’t like was that ...',\n",
       " 'Excellent camera 📸 And Display touching very Nice And Smooth and very improvement against.I phone 11 and new processor is very fast',\n",
       " 'A perfect phone and a good battery super camera and the sound is dynamic overall the phone is perfect for upgrading from lower iPhone model to iPhone 11',\n",
       " 'This is my first ever iPhone..And I truly don’t regret switching to IOS from my Android...It is easily an alternative to a DSLR camera..If you’re obsessed with photos and videos, just don’t think twice or don’t compare to other androids(Samsung S10 lite or OnePlus 8/8T), as it’s far better from them in every field..Comparing will only make you confused...I am getting an average Screen on Time of around 10 hours with 30 percent left. I haven’t let my device discharged below 30 % as it aff...',\n",
       " 'The ultimate performance.Camera is superb.The battery backup also very good i never saw iphone gives this much of battery backup.If any one wana buy iphone 11 definitely i will recommend this mobile.It has the better battery and powerfull processer peak performance glorious camera and the display also 100% high quality lcd display if u had money for for 12 if u dont wana invest much money on that then go for iphone 11 it has maximum same specs only main difference between the 12 and 11 is...',\n",
       " 'I use a Note10+ and have been using both iOS and Android devices...Camera has really good features and portraits are super good, better than Samsung flagship. Overall camera setup can still be enhanced and hopeful for better upgrades on software in next release..Operating system is quite a breeze and user experience of daily usage is very high as compared to Android. I moved to iOS very swiftly in 2 days for all my office work from Note10+..Battery holds up quite well with 4 hrs of call and ...',\n",
       " 'The phone is completely good.As far as camera Apple is king of it.And its a beast in performance.And the battery is pretty good too',\n",
       " 'Everything u ll like it when u use this iPhone. Simple changes only not many to lower models but it’s nice to use. Little heavy compared to previous models like 7,8',\n",
       " 'Can’t beat the software and hardware integration of apple..Performs like a beast. Great quality camera.6-7 hours screen on time which is good. Nothing much to complaint about the screen. Good connectivity speeds..Great buy and Flipkart’s delivery top notch as usual',\n",
       " 'A wort full value for money decision it’s . Simply go for it in 2021 its still a good decision . Awesome camera , Super smothered performance, Heck of build quality. And Most important it protects your privacy.',\n",
       " 'iphone 11 is a very good phone to buy only if you can compromise for the display. The display on this is device is pretty good but you can get other options with better displays in this price segment..If you can survive with an HD+ LCD panel with thicker bezels and a notch up top then this is a very good phone for you..Cameras are awesome, battery backup excellent, great performance and a decent premium look. Good job Apple !',\n",
       " 'It’s a must buy who is looking for an upgrade from previous generation of iPhones. If you are using XR then still you can hold on for sometime and upgrade to 2020 model else this phone is a must buy . Camera quality is amazing and wide angle is something to count upon. Performance wise it’s amazing and feels premium while holding in hand. So a big YES for this device. Go for 128 GB variant as the 4K videos will occupy lots of space and the storage can get over very quickly. Try to buy it with...',\n",
       " 'Value for money❤️❤️.Its awesome mobile phone in the world ....Display was very good and bright ...Trust me freinds you r never regret after Buying...Just go for it.....I love this phone and i switch to iphone x to 11',\n",
       " 'Totally in love with this ❤ the camera quality is amazing just love it 😘😘😘 itsss dammnnnnnn amazing... Must buy iPhone 11 this is my best experience ever ☀👌👌🧡🧡🧡🧡🧡 thanku apple ❤',\n",
       " 'Best budget Iphone till date ❤️ go for it guys without second thought. Let me explain you guys about Camera, Display, battery, and performance...Camera: at this price range there is no comparison of camera, you’ll love the picture quality as well as video quality. I am a Vlogger I wanted an iPhone with 4k video by front camera and I got this phone and I am more than happy 😃..Battery: I use this phone roughly as I am active social media person and I have a youtube channel. so the battery ba...',\n",
       " \"Iphone is just awesome.. battery backup is very very nice.. continuously for 10 hours we can use it.camera is just awesome.. display is just fab.i love it alot..i had to wait 15 days for it as i pre ordered it..overalll it's worth the price..these all images are clicked by my iPhone..and i love it.\",\n",
       " \"It's my first time to use iOS phone and I am loving my upgradation 😍😍 I love the color, I love the assebility of the phone....I need to learn more about its functionality, but as far as I have seen, it's quite easy and it has a lot of functions to work on, specially if you are a content writer or a blogger you get a lot of content creation platforms and they are really amazing...This phone not only for good quality photography but a lot of other task too.😍💯\",\n",
       " 'Excellent camera, good performance, no lag. The lcd display is also good.. but difference come when we watch movie in prime and Netflix, the colours are not vibrant.. as we see in amoled display.. and the charger in box is of 5 watts.. takes more than 3 hours to charge from 0 to 100.. so guys be prepare to buy 18 watts charger . Finally I am an android user, it was my first Iapple phone, I promise u guys the iOS is so smooth.. overall the phone is damn good.... close eyes to buy it.. thanks t...',\n",
       " 'It’s been almost a month since I have been using this phone. I upgraded from an iPhone 8. The main issue with my 8 was battery and this phone is just awesome when it comes to battery. It lasts a day and a half for me with my regular use , internet connected always with 4g.Can’t move forward without saying this. Battery of this phone is a life saver when I am traveling or at work when I don’t get the option to charge.Camera is superb. Front cam selfies and back cam photos are just awesome.....',\n",
       " 'Smooth like butter, camera like fantabulous, sound is crystal clear & its red color is damn attractive, i am just loving it. Must buy if you love photography...Lucky to get it in sale, thank you Flipkart.']"
      ]
     },
     "execution_count": 447,
     "metadata": {},
     "output_type": "execute_result"
    }
   ],
   "source": [
    "Full=[]\n",
    "\n",
    "for i in Ulist:\n",
    "    driver.get(i)\n",
    "    try:\n",
    "        fu = driver.find_elements_by_xpath(\"//div[@class='t-ZTKy']/div/div\")\n",
    "        for i in fu:\n",
    "            Full.append(i.text.replace('\\n', '.'))\n",
    "    except:\n",
    "        pass\n",
    "Full"
   ]
  },
  {
   "cell_type": "code",
   "execution_count": 448,
   "metadata": {},
   "outputs": [
    {
     "data": {
      "text/html": [
       "<div>\n",
       "<style scoped>\n",
       "    .dataframe tbody tr th:only-of-type {\n",
       "        vertical-align: middle;\n",
       "    }\n",
       "\n",
       "    .dataframe tbody tr th {\n",
       "        vertical-align: top;\n",
       "    }\n",
       "\n",
       "    .dataframe thead th {\n",
       "        text-align: right;\n",
       "    }\n",
       "</style>\n",
       "<table border=\"1\" class=\"dataframe\">\n",
       "  <thead>\n",
       "    <tr style=\"text-align: right;\">\n",
       "      <th></th>\n",
       "      <th>Ratings</th>\n",
       "      <th>Review summary</th>\n",
       "      <th>Full review</th>\n",
       "    </tr>\n",
       "  </thead>\n",
       "  <tbody>\n",
       "    <tr>\n",
       "      <th>1</th>\n",
       "      <td>5</td>\n",
       "      <td>Brilliant</td>\n",
       "      <td>The Best Phone for the Money..The iPhone 11 of...</td>\n",
       "    </tr>\n",
       "    <tr>\n",
       "      <th>2</th>\n",
       "      <td>5</td>\n",
       "      <td>Simply awesome</td>\n",
       "      <td>Really satisfied with the Product I received.....</td>\n",
       "    </tr>\n",
       "    <tr>\n",
       "      <th>3</th>\n",
       "      <td>5</td>\n",
       "      <td>Perfect product!</td>\n",
       "      <td>Amazing phone with great cameras and better ba...</td>\n",
       "    </tr>\n",
       "    <tr>\n",
       "      <th>4</th>\n",
       "      <td>5</td>\n",
       "      <td>Fabulous!</td>\n",
       "      <td>This is my first iOS phone. I am very happy wi...</td>\n",
       "    </tr>\n",
       "    <tr>\n",
       "      <th>5</th>\n",
       "      <td>5</td>\n",
       "      <td>Best in the market!</td>\n",
       "      <td>Great iPhone very snappy experience as apple k...</td>\n",
       "    </tr>\n",
       "    <tr>\n",
       "      <th>...</th>\n",
       "      <td>...</td>\n",
       "      <td>...</td>\n",
       "      <td>...</td>\n",
       "    </tr>\n",
       "    <tr>\n",
       "      <th>96</th>\n",
       "      <td>5</td>\n",
       "      <td>Terrific purchase</td>\n",
       "      <td>I use a Note10+ and have been using both iOS a...</td>\n",
       "    </tr>\n",
       "    <tr>\n",
       "      <th>97</th>\n",
       "      <td>5</td>\n",
       "      <td>Awesome</td>\n",
       "      <td>The phone is completely good.As far as camera ...</td>\n",
       "    </tr>\n",
       "    <tr>\n",
       "      <th>98</th>\n",
       "      <td>3</td>\n",
       "      <td>Decent product</td>\n",
       "      <td>Everything u ll like it when u use this iPhone...</td>\n",
       "    </tr>\n",
       "    <tr>\n",
       "      <th>99</th>\n",
       "      <td>5</td>\n",
       "      <td>Awesome</td>\n",
       "      <td>Can’t beat the software and hardware integrati...</td>\n",
       "    </tr>\n",
       "    <tr>\n",
       "      <th>100</th>\n",
       "      <td>5</td>\n",
       "      <td>Brilliant</td>\n",
       "      <td>A wort full value for money decision it’s . Si...</td>\n",
       "    </tr>\n",
       "  </tbody>\n",
       "</table>\n",
       "<p>100 rows × 3 columns</p>\n",
       "</div>"
      ],
      "text/plain": [
       "    Ratings      Review summary   \\\n",
       "1         5            Brilliant   \n",
       "2         5       Simply awesome   \n",
       "3         5     Perfect product!   \n",
       "4         5            Fabulous!   \n",
       "5         5  Best in the market!   \n",
       "..      ...                  ...   \n",
       "96        5    Terrific purchase   \n",
       "97        5              Awesome   \n",
       "98        3       Decent product   \n",
       "99        5              Awesome   \n",
       "100       5            Brilliant   \n",
       "\n",
       "                                           Full review  \n",
       "1    The Best Phone for the Money..The iPhone 11 of...  \n",
       "2    Really satisfied with the Product I received.....  \n",
       "3    Amazing phone with great cameras and better ba...  \n",
       "4    This is my first iOS phone. I am very happy wi...  \n",
       "5    Great iPhone very snappy experience as apple k...  \n",
       "..                                                 ...  \n",
       "96   I use a Note10+ and have been using both iOS a...  \n",
       "97   The phone is completely good.As far as camera ...  \n",
       "98   Everything u ll like it when u use this iPhone...  \n",
       "99   Can’t beat the software and hardware integrati...  \n",
       "100  A wort full value for money decision it’s . Si...  \n",
       "\n",
       "[100 rows x 3 columns]"
      ]
     },
     "execution_count": 448,
     "metadata": {},
     "output_type": "execute_result"
    }
   ],
   "source": [
    "Flipkart7=pd.DataFrame({})\n",
    "Flipkart7['Ratings']=iphone_ratings[0:100]\n",
    "Flipkart7['Review summary ']=Short[0:100]\n",
    "Flipkart7['Full review']=Full[0:100]\n",
    "Flipkart7.index = np.arange(1, len(Flipkart7)+1)\n",
    "Flipkart7[0:100]"
   ]
  },
  {
   "cell_type": "code",
   "execution_count": 449,
   "metadata": {},
   "outputs": [],
   "source": [
    "driver.close()"
   ]
  },
  {
   "cell_type": "markdown",
   "metadata": {},
   "source": [
    "# Q8: Scrape data for first 100 sneakers you find when you visit flipkart.com and search for “sneakers” in the search field.\n",
    "You have to scrape 4 attributes of each sneaker :\n",
    "1. Brand\n",
    "2. Product Description\n",
    "3. Price\n",
    "4. discount %\n",
    "As shown in the below image, you have to scrape the tick marked attributes\n",
    "Also note that all the steps required during scraping should be done through code only and not manually."
   ]
  },
  {
   "cell_type": "code",
   "execution_count": 450,
   "metadata": {},
   "outputs": [
    {
     "data": {
      "text/plain": [
       "<selenium.webdriver.chrome.webdriver.WebDriver (session=\"13d72d2aec625104fb2e03ef69ebad6e\")>"
      ]
     },
     "execution_count": 450,
     "metadata": {},
     "output_type": "execute_result"
    }
   ],
   "source": [
    "driver = webdriver.Chrome(executable_path='/Users/rahulmore/chromedriver')\n",
    "driver"
   ]
  },
  {
   "cell_type": "code",
   "execution_count": 451,
   "metadata": {},
   "outputs": [],
   "source": [
    "url6 = driver.get('https://www.flipkart.com/')"
   ]
  },
  {
   "cell_type": "code",
   "execution_count": 452,
   "metadata": {},
   "outputs": [],
   "source": [
    "login6 = driver.find_element_by_xpath('//button[@class = \"_2KpZ6l _2doB4z\"]')\n",
    "try:\n",
    "    login6.click()\n",
    "except:\n",
    "    pass"
   ]
  },
  {
   "cell_type": "code",
   "execution_count": 453,
   "metadata": {},
   "outputs": [],
   "source": [
    "search3 = driver.find_element_by_xpath('//input[@title = \"Search for products, brands and more\"]')\n",
    "search3.send_keys('sneakers')\n",
    "time.sleep(1)\n",
    "\n",
    "search4 = driver.find_element_by_xpath('//button[@type = \"submit\"]')\n",
    "search4.click()\n",
    "\n",
    "time.sleep(3)"
   ]
  },
  {
   "cell_type": "code",
   "execution_count": 454,
   "metadata": {},
   "outputs": [
    {
     "data": {
      "text/plain": [
       "['https://www.flipkart.com/search?q=sneakers&otracker=search&otracker1=search&marketplace=FLIPKART&as-show=on&as=off',\n",
       " 'https://www.flipkart.com/search?q=sneakers&otracker=search&otracker1=search&marketplace=FLIPKART&as-show=on&as=off&page=2',\n",
       " 'https://www.flipkart.com/search?q=sneakers&otracker=search&otracker1=search&marketplace=FLIPKART&as-show=on&as=off&page=3']"
      ]
     },
     "execution_count": 454,
     "metadata": {},
     "output_type": "execute_result"
    }
   ],
   "source": [
    "URL_list8 = ['https://www.flipkart.com/search?q=sneakers&otracker=search&otracker1=search&marketplace=FLIPKART&as-show=on&as=off', 'https://www.flipkart.com/search?q=sneakers&otracker=search&otracker1=search&marketplace=FLIPKART&as-show=on&as=off&page=2','https://www.flipkart.com/search?q=sneakers&otracker=search&otracker1=search&marketplace=FLIPKART&as-show=on&as=off&page=3']\n",
    "URL_list8"
   ]
  },
  {
   "cell_type": "code",
   "execution_count": 455,
   "metadata": {},
   "outputs": [
    {
     "data": {
      "text/plain": [
       "['Chevit',\n",
       " 'Chevit',\n",
       " 'D-SNEAKERZ',\n",
       " 'BIRDE',\n",
       " 'Numenzo',\n",
       " 'Magnolia',\n",
       " 'BRUTON',\n",
       " 'claptrap',\n",
       " 'Robbie jones',\n",
       " 'BRUTON',\n",
       " 'luxury fashion',\n",
       " 'Bavis',\n",
       " 'HOTSTYLE',\n",
       " 'Numenzo',\n",
       " 'Robbie jones',\n",
       " 'Paragon',\n",
       " 'bluemaker',\n",
       " 'believe',\n",
       " 'BIRDE',\n",
       " 'Chevit',\n",
       " 'ASTEROID',\n",
       " 'Zsyto',\n",
       " 'Kraasa',\n",
       " 'Magnolia',\n",
       " 'Edoeviv',\n",
       " 'ESSENCE',\n",
       " 'Chevit',\n",
       " 'PUMA',\n",
       " 'BRUTON',\n",
       " 'Chevit',\n",
       " 'Airland',\n",
       " 'PUMA',\n",
       " 'Robbie jones',\n",
       " 'Arohi',\n",
       " 'RODDICK SHOES',\n",
       " 'Chevit',\n",
       " 'Numenzo',\n",
       " 'Robbie jones',\n",
       " 'bluemaker',\n",
       " 'ADIDAS',\n",
       " 'India hub',\n",
       " 'RODDICK SHOES',\n",
       " 'Nilatin',\n",
       " 'Chevit',\n",
       " 'KNIGHT WALKERS',\n",
       " 'ASTEROID',\n",
       " 'HOC',\n",
       " 'claptrap',\n",
       " 'Zorth',\n",
       " 'PUMA',\n",
       " 'Chevit',\n",
       " 'Chevit',\n",
       " 'RODDICK SHOES',\n",
       " 'Numenzo',\n",
       " 'PUMA',\n",
       " 'Bavis',\n",
       " 'BRUTON',\n",
       " 'ESSENCE',\n",
       " 'Zsyto',\n",
       " 'Paragon',\n",
       " 'Robbie jones',\n",
       " 'BIRDE',\n",
       " 'BIRDE',\n",
       " 'Chevit',\n",
       " 'SPARX',\n",
       " 'BIRDE',\n",
       " 'SPARX',\n",
       " 'Magnolia',\n",
       " 'KANEGGYE',\n",
       " \"K' Footlance\",\n",
       " 'zovim',\n",
       " 'PUMA',\n",
       " 'HOC',\n",
       " 'URBANBOX',\n",
       " 'BRUTON',\n",
       " 'PUMA',\n",
       " 'Qtsy',\n",
       " 'WRIZT',\n",
       " 'Chevit',\n",
       " 'Chevit',\n",
       " 'Jack Diamond',\n",
       " 'LuvShus',\n",
       " 'BIRDE',\n",
       " 'Chevit',\n",
       " 'tigonis',\n",
       " 'PUMA',\n",
       " 'Kraasa',\n",
       " 'claptrap',\n",
       " 'Zorth',\n",
       " 'BIRDE',\n",
       " 'Labbin',\n",
       " 'Chevit',\n",
       " 'SPARX',\n",
       " 'Nobelite',\n",
       " 'Numenzo',\n",
       " 'Bavis',\n",
       " 'Chevit',\n",
       " 'T-ROCK',\n",
       " 'NAUTICA',\n",
       " 'Paragon',\n",
       " 'HOCKWOOD',\n",
       " 'PUMA',\n",
       " 'Robbie jones',\n",
       " 'Chevit',\n",
       " 'ASIAN',\n",
       " 'BRUTON',\n",
       " 'PUMA',\n",
       " 'Magnolia',\n",
       " 'SPARX',\n",
       " 'Englewood',\n",
       " 'BRUTON',\n",
       " 'PUMA',\n",
       " 'ganpati traders',\n",
       " 'India hub',\n",
       " 'mannu',\n",
       " 'PUMA',\n",
       " 'BIRDE',\n",
       " 'Absolute comfort',\n",
       " 'SPARX',\n",
       " 'Chevit']"
      ]
     },
     "execution_count": 455,
     "metadata": {},
     "output_type": "execute_result"
    }
   ],
   "source": [
    "Brand8=[]\n",
    "\n",
    "for i in URL_list8:\n",
    "    driver.get(i)\n",
    "    try:\n",
    "        br = driver.find_elements_by_xpath('//div[@class = \"_2WkVRV\"]')\n",
    "        for i in br:\n",
    "            Brand8.append(i.text)\n",
    "    except:\n",
    "        pass\n",
    "Brand8"
   ]
  },
  {
   "cell_type": "code",
   "execution_count": 456,
   "metadata": {},
   "outputs": [
    {
     "data": {
      "text/plain": [
       "['Combo Pack of 4 Casual Sneakers With Sneakers For Men',\n",
       " 'Unique & Perfect Collection Combo Pack of 02 Shoes for ...',\n",
       " \"Casual , Partywear Sneakers Shoes For Men's And Boys Wh...\",\n",
       " 'Birde Trendy Casual Shoes Sneakers For Men',\n",
       " '411 Casual Sneakers For Men',\n",
       " 'Sneakers For Men',\n",
       " 'Combo Pack Of 4 Casual Shoes Loafer Shoes Sneakers For ...',\n",
       " \"White Sneaker For Men's/Boy's Sneakers For Men\",\n",
       " 'Casual Sneakers Shoes For Men Sneakers For Men',\n",
       " 'Modern Trendy Sneakers Shoes Sneakers For Men',\n",
       " 'luxury fashionable casual snealer shoes Sneakers For Me...',\n",
       " 'Combo Pack of 2 Casual Shoes For Men Sneakers For Men',\n",
       " 'Sneakers For Men',\n",
       " 'Sneakers For Men',\n",
       " 'Sneakers For Men',\n",
       " 'Sneakers For Men',\n",
       " 'casual for men Sneakers For Men',\n",
       " 'Sneakers for men(black_6) Sneakers For Men',\n",
       " \"Men's Stylish Casual Shoes Sneakers For Men\",\n",
       " 'Speed Set of 5 Pairs Sneakers Outdoors Casuals for Men ...',\n",
       " \"Original Luxury Branded Fashionable Men's Casual Walkin...\",\n",
       " 'Sneakers For Men',\n",
       " 'Series 7 Sneakers For Men',\n",
       " 'White Sneakers Sneakers For Men',\n",
       " \"Luxury Branded Fashionable Men's Casual Walking Partywe...\",\n",
       " 'Sneakers For Men',\n",
       " 'Perfect & Affordable Combo Pack of 02 Pairs Sneakers Ou...',\n",
       " 'X-Ray 2 Square Sneakers For Men',\n",
       " 'Lattest Sneakers Shoe Sneakers For Men',\n",
       " '168 Smart Red Lace-Ups Casuals for Men Sneakers For Men',\n",
       " 'shoe Sneakers For Men',\n",
       " 'PUMA X 1DER KL RAHUL Sneakers For Men',\n",
       " 'Sneakers For Men',\n",
       " 'Sneakers For Men',\n",
       " 'Fashion Outdoor Canvas Casual Light Weight Lace-up Even...',\n",
       " 'Super Stylish & Trendy Combo Pack of 02 Pairs Sneakers ...',\n",
       " 'Sneakers For Men',\n",
       " 'Sneakers For Men',\n",
       " 'casual for men (beige 06) Sneakers For Men',\n",
       " 'Vs Pace Sneakers For Men',\n",
       " 'Fashionable sneaker casual shoes Sneakers For Men',\n",
       " 'Fashion Outdoor Canvas Casual Light Weight Lace-up Even...',\n",
       " 'White Sneaker For Men Sneakers For Men',\n",
       " 'Combo Pack of 4 Casual Sneakers With Sneakers For Men',\n",
       " 'Sneakers For Men',\n",
       " \"Original Luxury Branded Fashionable Men's Casual Walkin...\",\n",
       " 'Luxury Fashionable Casual Sneakers shoes For Men And Bo...',\n",
       " \"White Sneaker For Men's/Boy's Sneakers For Men\",\n",
       " 'Sneakers For Men',\n",
       " 'Trinity IDP Sneakers For Men',\n",
       " 'Super Stylish & Trendy Combo Pack of 02 Pairs Sneakers ...',\n",
       " 'Unique & Perfect Collection Combo Pack of 02 Shoes for ...',\n",
       " 'Fashion Outdoor Canvas Casual Light Weight Lace-up Even...',\n",
       " 'Numenzo Black Sneaker For Men Sneakers For Men',\n",
       " 'Puma Smash v2 L Sneakers For Men',\n",
       " 'Combo Pack of 2 Casual Shoes For Men Sneakers For Men',\n",
       " 'Modern & Trendy Collection Combo Pack of 02 Shoes for M...',\n",
       " 'Sneakers For Men',\n",
       " 'Sneakers For Men',\n",
       " 'Sneakers For Men',\n",
       " 'Casual Sneakers Shoes For Men And Boys Sneakers For Men',\n",
       " 'Combo Pack of 5 Casual Shoes Sneakers For Men',\n",
       " 'Combo Pack of 2 Casual Shoes Sneakers For Men',\n",
       " 'Speed Set of 5 Pairs Sneakers Outdoors Casuals for Men ...',\n",
       " 'Men SM-461 Navy Blue Sneakers For Men',\n",
       " 'Combo Pack of 2 Casual Shoes Sneakers For Men',\n",
       " 'SM-162 Sneakers For Men',\n",
       " 'White Sneakers Sneakers For Men',\n",
       " 'Sneakers For Men',\n",
       " 'Fashion and Stylish Soft Ultralight Lace Up Sneakers Ca...',\n",
       " 'jeans shoes for men boy Sneakers For Men',\n",
       " 'X-Ray 2 Square Sneakers For Men',\n",
       " 'Luxury Fashionable Breathable Casual Sneakers Shoes For...',\n",
       " 'Sneaker Sneakers For Men',\n",
       " 'Trendy Fashion Sneakers For Men',\n",
       " 'PUMA X 1DER KL RAHUL Sneakers For Men',\n",
       " 'Stylish Design Sneakers Shoes Combo For Men & Boys - Pa...',\n",
       " 'Casual Sneakers,dancing, walking Sneakers For Men',\n",
       " '171 Smart Tan Lace-Ups Casuals for Men Sneakers For Men',\n",
       " 'Perfect & Affordable Combo Pack of 02 Pairs Sneakers Ou...',\n",
       " 'Sneakers For Men',\n",
       " 'Casual Shoes For Men Combo Pack Of 2 Sneakers For Men',\n",
       " 'Men Casual Shoe New Trend With Fashion Panda Desgined L...',\n",
       " 'Combo Pack of 4 Casual Sneakers With Sneakers For Men',\n",
       " 'Sneakers For Men',\n",
       " 'Smash v2 L Sneakers For Men',\n",
       " 'Combo Pack of 4 Casual Shoes Sneakers For Men',\n",
       " 'Unique & Perfect Collection Combo Pack of 02 Shoes for ...',\n",
       " 'New Fashion Outdoor Trendy Lightweight Casual,Canvas St...',\n",
       " 'Latest Fashion Combo Pack of 2 Pairs Casual Outdoors Sh...',\n",
       " 'Canvas Casual Partywear Outdoor Sneakers Shoes For Mens...',\n",
       " '411 Casual Sneakers For Men',\n",
       " 'Casual Sneakers White Shoes For Men And Boys Sneakers F...',\n",
       " 'Shark-41 Sneakers For Men',\n",
       " 'Sneakers For Men',\n",
       " \"White Sneaker For Men's/Boy's Sneakers For Men\",\n",
       " 'Sneakers For Men',\n",
       " 'Sneakers For Men',\n",
       " 'Synthetic Leather Casual Partywear Wedding Sneakers Sho...',\n",
       " 'White Sneakers Sneakers For Men',\n",
       " 'Street Smart Sneakers For Men',\n",
       " 'SM-607 Sneakers For Men',\n",
       " 'Skypy-31 Walking Shoes,Training Shoes,Sneakers,Loafers,...',\n",
       " 'Young Choice Sneakers For Men',\n",
       " 'Modern & Trendy Collection Combo Pack of 02 Shoes for M...',\n",
       " 'Puma Smash v2 L Sneakers For Men',\n",
       " 'X-Ray Millenium Sneakers For Men',\n",
       " 'PUMA X 1DER KL RAHUL Sneakers For Men',\n",
       " 'Sneakers For Men',\n",
       " 'Combo Pack of 2 Sports Running LightWeight Shoes Sneake...',\n",
       " 'Sneakers For Men',\n",
       " 'PUMA X 1DER KL RAHUL Sneakers For Men',\n",
       " 'Sneakers For Men',\n",
       " 'Luxury Fashionable Breathable Casual Sneakers Shoes For...',\n",
       " 'Sneakers For Men',\n",
       " 'Perfect & Affordable Combo Pack of 02 Pairs Sneakers Ou...',\n",
       " 'Birde Trendy Casual Shoes Sneakers For Men',\n",
       " 'SM439G Sneakers For Men',\n",
       " 'Trendy Sneakers For Men',\n",
       " 'Super Stylish & Trendy Combo Pack of 02 Pairs Sneakers ...']"
      ]
     },
     "execution_count": 456,
     "metadata": {},
     "output_type": "execute_result"
    }
   ],
   "source": [
    "Description8=[]\n",
    "\n",
    "for i in URL_list8:\n",
    "    driver.get(i)\n",
    "    try:\n",
    "        desr = driver.find_elements_by_xpath('//a[@class = \"IRpwTa\" or @class =\"IRpwTa _2-ICcC\"]')\n",
    "        for i in desr:\n",
    "            Description8.append(i.text)\n",
    "    except:\n",
    "        pass\n",
    "        \n",
    "Description8"
   ]
  },
  {
   "cell_type": "code",
   "execution_count": 457,
   "metadata": {
    "scrolled": true
   },
   "outputs": [
    {
     "data": {
      "text/plain": [
       "['₹699',\n",
       " '₹599',\n",
       " '₹348',\n",
       " '₹399',\n",
       " '₹499',\n",
       " '₹398',\n",
       " '₹499',\n",
       " '₹399',\n",
       " '₹379',\n",
       " '₹399',\n",
       " '₹399',\n",
       " '₹357',\n",
       " '₹296',\n",
       " '₹449',\n",
       " '₹474',\n",
       " '₹899',\n",
       " '₹449',\n",
       " '₹499',\n",
       " '₹399',\n",
       " '₹584',\n",
       " '₹418',\n",
       " '₹499',\n",
       " '₹499',\n",
       " '₹348',\n",
       " '₹416',\n",
       " '₹499',\n",
       " '₹599',\n",
       " '₹3,360',\n",
       " '₹359',\n",
       " '₹249',\n",
       " '₹449',\n",
       " '₹3,149',\n",
       " '₹257',\n",
       " '₹459',\n",
       " '₹499',\n",
       " '₹2,399',\n",
       " '₹429',\n",
       " '₹398',\n",
       " '₹474',\n",
       " '₹699',\n",
       " '₹429',\n",
       " '₹397',\n",
       " '₹439',\n",
       " '₹699',\n",
       " '₹419',\n",
       " '₹599',\n",
       " '₹499',\n",
       " '₹399',\n",
       " '₹435',\n",
       " '₹699',\n",
       " '₹1,330',\n",
       " '₹599',\n",
       " '₹474',\n",
       " '₹526',\n",
       " '₹469',\n",
       " '₹357',\n",
       " '₹1,959',\n",
       " '₹499',\n",
       " '₹378',\n",
       " '₹899',\n",
       " '₹474',\n",
       " '₹842',\n",
       " '₹398',\n",
       " '₹348',\n",
       " '₹379',\n",
       " '₹882',\n",
       " '₹525',\n",
       " '₹584',\n",
       " '₹525',\n",
       " '₹459',\n",
       " '₹395',\n",
       " '₹3,360',\n",
       " '₹404',\n",
       " '₹798',\n",
       " '₹283',\n",
       " '₹3,149',\n",
       " '₹399',\n",
       " '₹299',\n",
       " '₹249',\n",
       " '₹599',\n",
       " '₹627',\n",
       " '₹525',\n",
       " '₹417',\n",
       " '₹699',\n",
       " '₹399',\n",
       " '₹1,959',\n",
       " '₹946',\n",
       " '₹399',\n",
       " '₹435',\n",
       " '₹599',\n",
       " '₹696',\n",
       " '₹599',\n",
       " '₹379',\n",
       " '₹416',\n",
       " '₹619',\n",
       " '₹357',\n",
       " '₹499',\n",
       " '₹1,799',\n",
       " '₹379',\n",
       " '₹584',\n",
       " '₹664',\n",
       " '₹670',\n",
       " '₹599',\n",
       " '₹899',\n",
       " '₹624',\n",
       " '₹1,959',\n",
       " '₹3,709',\n",
       " '₹348',\n",
       " '₹183',\n",
       " '₹499',\n",
       " '₹475',\n",
       " '₹3,360',\n",
       " '₹449',\n",
       " '₹398',\n",
       " '₹449',\n",
       " '₹3,149',\n",
       " '₹399',\n",
       " '₹629',\n",
       " '₹499',\n",
       " '₹599']"
      ]
     },
     "execution_count": 457,
     "metadata": {},
     "output_type": "execute_result"
    }
   ],
   "source": [
    "Price8=[]\n",
    "\n",
    "for i in URL_list8:\n",
    "    driver.get(i)\n",
    "    try:\n",
    "        priceee = driver.find_elements_by_xpath('//div[@class = \"_30jeq3\"]')\n",
    "        for i in priceee:\n",
    "            Price8.append(i.text)\n",
    "    except:\n",
    "        pass\n",
    "Price8"
   ]
  },
  {
   "cell_type": "code",
   "execution_count": 458,
   "metadata": {},
   "outputs": [
    {
     "data": {
      "text/plain": [
       "['https://www.flipkart.com/chevit-combo-pack-4-casual-sneakers-men/p/itmfg2ybzgeygd6t?pid=SHOFGY97JGZTBRHY&lid=LSTSHOFGY97JGZTBRHYNP5E5F&marketplace=FLIPKART&q=sneakers&store=osp%2Fcil%2Fe1f&srno=s_1_1&otracker=search&otracker1=search&fm=organic&iid=en_y8wrT0CqvS9iwwrAKLuPTxlCKBgaGGbcqX3IdL4Fw3j6XF8z055QLlnaHicPoAS79JHTijj1js9rXHmilcx7nA%3D%3D&ppt=None&ppn=None&ssid=151xvi73hs0000001634376233244&qH=a1743c0d39461290',\n",
       " 'https://www.flipkart.com/chevit-unique-perfect-collection-combo-pack-02-shoes-men-casual-sneakers-outdoor-walking-sport-running-gym-cycling-trekking-rock-climbing/p/itmff4e5480ba998?pid=SHOGYX9SX8ZHGMYH&lid=LSTSHOGYX9SX8ZHGMYHMNOSZZ&marketplace=FLIPKART&q=sneakers&store=osp%2Fcil%2Fe1f&srno=s_1_2&otracker=search&otracker1=search&fm=organic&iid=en_y8wrT0CqvS9iwwrAKLuPTxlCKBgaGGbcqX3IdL4Fw3jzlnE8Q1%2F4y%2BLgwr6WCByh%2B1ZsgzGXmZthMfAgcAtjGA%3D%3D&ppt=None&ppn=None&ssid=151xvi73hs0000001634376233244&qH=a1743c0d39461290',\n",
       " 'https://www.flipkart.com/d-sneakerz-casual-partywear-sneakers-shoes-men-s-boys-white-color-men/p/itmf3xujnyvhbeqh?pid=SHOFFT35TZJFPTA4&lid=LSTSHOFFT35TZJFPTA4GQXUMX&marketplace=FLIPKART&q=sneakers&store=osp%2Fcil%2Fe1f&srno=s_1_3&otracker=search&otracker1=search&fm=organic&iid=b7c3eac8-7f84-4fd1-9290-0b02e23ed350.SHOFFT35TZJFPTA4.SEARCH&ppt=None&ppn=None&ssid=151xvi73hs0000001634376233244&qH=a1743c0d39461290',\n",
       " 'https://www.flipkart.com/birde-trendy-casual-shoes-sneakers-men/p/itmede861a907625?pid=SHOGFEZ9FSZEHNUT&lid=LSTSHOGFEZ9FSZEHNUTEYC3ZJ&marketplace=FLIPKART&q=sneakers&store=osp%2Fcil%2Fe1f&srno=s_1_4&otracker=search&otracker1=search&fm=organic&iid=b7c3eac8-7f84-4fd1-9290-0b02e23ed350.SHOGFEZ9FSZEHNUT.SEARCH&ppt=None&ppn=None&ssid=151xvi73hs0000001634376233244&qH=a1743c0d39461290',\n",
       " 'https://www.flipkart.com/numenzo-411-casual-sneakers-men/p/itm12368ade2be34?pid=SHOG3MZFKCMDKSBG&lid=LSTSHOG3MZFKCMDKSBGNCOMVX&marketplace=FLIPKART&q=sneakers&store=osp%2Fcil%2Fe1f&srno=s_1_5&otracker=search&otracker1=search&fm=organic&iid=b7c3eac8-7f84-4fd1-9290-0b02e23ed350.SHOG3MZFKCMDKSBG.SEARCH&ppt=None&ppn=None&ssid=151xvi73hs0000001634376233244&qH=a1743c0d39461290',\n",
       " 'https://www.flipkart.com/magnolia-sneakers-men/p/itmb42a681797f2d?pid=SHOGYAACUZJ842YX&lid=LSTSHOGYAACUZJ842YXXWGT2A&marketplace=FLIPKART&q=sneakers&store=osp%2Fcil%2Fe1f&srno=s_1_6&otracker=search&otracker1=search&fm=organic&iid=b7c3eac8-7f84-4fd1-9290-0b02e23ed350.SHOGYAACUZJ842YX.SEARCH&ppt=None&ppn=None&ssid=151xvi73hs0000001634376233244&qH=a1743c0d39461290',\n",
       " 'https://www.flipkart.com/bruton-combo-pack-4-casual-shoes-loafer-sneakers-men/p/itmc6896607b3f0f?pid=SHOFUXXZZEU8Z3E6&lid=LSTSHOFUXXZZEU8Z3E68COZPZ&marketplace=FLIPKART&q=sneakers&store=osp%2Fcil%2Fe1f&srno=s_1_7&otracker=search&otracker1=search&fm=organic&iid=b7c3eac8-7f84-4fd1-9290-0b02e23ed350.SHOFUXXZZEU8Z3E6.SEARCH&ppt=None&ppn=None&ssid=151xvi73hs0000001634376233244&qH=a1743c0d39461290',\n",
       " 'https://www.flipkart.com/claptrap-white-sneaker-men-s-boy-s-sneakers-men/p/itmf2e9222fedad4?pid=SHOFGFQQYKZVRYHH&lid=LSTSHOFGFQQYKZVRYHHPUUCQN&marketplace=FLIPKART&q=sneakers&store=osp%2Fcil%2Fe1f&srno=s_1_8&otracker=search&otracker1=search&fm=organic&iid=en_y8wrT0CqvS9iwwrAKLuPTxlCKBgaGGbcqX3IdL4Fw3gq0BqkcpexhUnQ966cbOifbeiVLWi5YJKdiAd4PBAZ3Q%3D%3D&ppt=None&ppn=None&ssid=151xvi73hs0000001634376233244&qH=a1743c0d39461290',\n",
       " 'https://www.flipkart.com/robbie-jones-casual-sneakers-shoes-men/p/itm5ee18096b212e?pid=SHOFVJG9EBCW5SUB&lid=LSTSHOFVJG9EBCW5SUBT1O0T7&marketplace=FLIPKART&q=sneakers&store=osp%2Fcil%2Fe1f&srno=s_1_9&otracker=search&otracker1=search&fm=organic&iid=b7c3eac8-7f84-4fd1-9290-0b02e23ed350.SHOFVJG9EBCW5SUB.SEARCH&ppt=None&ppn=None&ssid=151xvi73hs0000001634376233244&qH=a1743c0d39461290',\n",
       " 'https://www.flipkart.com/bruton-modern-trendy-sneakers-shoes-men/p/itmc472111af8e07?pid=SHOG293HVNGZFYYG&lid=LSTSHOG293HVNGZFYYGKWCPDF&marketplace=FLIPKART&q=sneakers&store=osp%2Fcil%2Fe1f&srno=s_1_10&otracker=search&otracker1=search&fm=organic&iid=b7c3eac8-7f84-4fd1-9290-0b02e23ed350.SHOG293HVNGZFYYG.SEARCH&ppt=None&ppn=None&ssid=151xvi73hs0000001634376233244&qH=a1743c0d39461290',\n",
       " 'https://www.flipkart.com/luxury-fashion-fashionable-casual-snealer-shoes-sneakers-men/p/itma85fe7a0c923b?pid=SHOG7C7SDZCNBQMG&lid=LSTSHOG7C7SDZCNBQMGI7JOQI&marketplace=FLIPKART&q=sneakers&store=osp%2Fcil%2Fe1f&srno=s_1_11&otracker=search&otracker1=search&fm=organic&iid=b7c3eac8-7f84-4fd1-9290-0b02e23ed350.SHOG7C7SDZCNBQMG.SEARCH&ppt=None&ppn=None&ssid=151xvi73hs0000001634376233244&qH=a1743c0d39461290',\n",
       " 'https://www.flipkart.com/bavis-combo-pack-2-casual-shoes-men-sneakers/p/itm634c68a173654?pid=SHOFRTJDYQSJG4EP&lid=LSTSHOFRTJDYQSJG4EPFJKEZI&marketplace=FLIPKART&q=sneakers&store=osp%2Fcil%2Fe1f&srno=s_1_12&otracker=search&otracker1=search&fm=organic&iid=en_y8wrT0CqvS9iwwrAKLuPTxlCKBgaGGbcqX3IdL4Fw3ho6tYs%2FZD1hlGquE8oQtHoDA67qwUXV7fWbweSfZV34g%3D%3D&ppt=None&ppn=None&ssid=151xvi73hs0000001634376233244&qH=a1743c0d39461290',\n",
       " 'https://www.flipkart.com/hotstyle-sneakers-men/p/itm071be697faf47?pid=SHOG4KJFJZTNGJ67&lid=LSTSHOG4KJFJZTNGJ67AUMQBB&marketplace=FLIPKART&q=sneakers&store=osp%2Fcil%2Fe1f&srno=s_1_13&otracker=search&otracker1=search&fm=organic&iid=b7c3eac8-7f84-4fd1-9290-0b02e23ed350.SHOG4KJFJZTNGJ67.SEARCH&ppt=None&ppn=None&ssid=151xvi73hs0000001634376233244&qH=a1743c0d39461290',\n",
       " 'https://www.flipkart.com/numenzo-sneakers-men/p/itm3ffb692d4132c?pid=SHOG4K76K37AJJJG&lid=LSTSHOG4K76K37AJJJGA2PPOF&marketplace=FLIPKART&q=sneakers&store=osp%2Fcil%2Fe1f&srno=s_1_14&otracker=search&otracker1=search&fm=organic&iid=b7c3eac8-7f84-4fd1-9290-0b02e23ed350.SHOG4K76K37AJJJG.SEARCH&ppt=None&ppn=None&ssid=151xvi73hs0000001634376233244&qH=a1743c0d39461290',\n",
       " 'https://www.flipkart.com/robbie-jones-sneakers-men/p/itmd94e79e694d23?pid=SHOG6YZMMSEF4FG6&lid=LSTSHOG6YZMMSEF4FG6UMTILU&marketplace=FLIPKART&q=sneakers&store=osp%2Fcil%2Fe1f&srno=s_1_15&otracker=search&otracker1=search&fm=organic&iid=b7c3eac8-7f84-4fd1-9290-0b02e23ed350.SHOG6YZMMSEF4FG6.SEARCH&ppt=None&ppn=None&ssid=151xvi73hs0000001634376233244&qH=a1743c0d39461290',\n",
       " 'https://www.flipkart.com/paragon-sneakers-men/p/itmfbf5dd09e7cfc?pid=SHOG2J4E22GTD5ZF&lid=LSTSHOG2J4E22GTD5ZFORLOMJ&marketplace=FLIPKART&q=sneakers&store=osp%2Fcil%2Fe1f&srno=s_1_16&otracker=search&otracker1=search&fm=organic&iid=en_y8wrT0CqvS9iwwrAKLuPTxlCKBgaGGbcqX3IdL4Fw3hyvd2U52RL7moHbarbdNUhrRbccfcceQaZzS1SDW2HgA%3D%3D&ppt=None&ppn=None&ssid=151xvi73hs0000001634376233244&qH=a1743c0d39461290',\n",
       " 'https://www.flipkart.com/believe-sneakers-men-black-6-men/p/itmfdyhg8ezwgav9?pid=SHOFDXWW9M7YNPPM&lid=LSTSHOFDXWW9M7YNPPM46ICQT&marketplace=FLIPKART&q=sneakers&store=osp%2Fcil%2Fe1f&srno=s_1_17&otracker=search&otracker1=search&fm=organic&iid=b7c3eac8-7f84-4fd1-9290-0b02e23ed350.SHOFDXWW9M7YNPPM.SEARCH&ppt=None&ppn=None&ssid=151xvi73hs0000001634376233244&qH=a1743c0d39461290',\n",
       " 'https://www.flipkart.com/bluemaker-casual-men-sneakers/p/itm02405f7701115?pid=SHOFP4YXJZFGWHAU&lid=LSTSHOFP4YXJZFGWHAUSWYMCO&marketplace=FLIPKART&q=sneakers&store=osp%2Fcil%2Fe1f&srno=s_1_18&otracker=search&otracker1=search&fm=organic&iid=b7c3eac8-7f84-4fd1-9290-0b02e23ed350.SHOFP4YXJZFGWHAU.SEARCH&ppt=None&ppn=None&ssid=151xvi73hs0000001634376233244&qH=a1743c0d39461290',\n",
       " 'https://www.flipkart.com/birde-men-s-stylish-casual-shoes-sneakers-men/p/itmaddd925a85737?pid=SHOFYTVEWNMBDZWN&lid=LSTSHOFYTVEWNMBDZWNEIZWFD&marketplace=FLIPKART&q=sneakers&store=osp%2Fcil%2Fe1f&srno=s_1_19&otracker=search&otracker1=search&fm=organic&iid=b7c3eac8-7f84-4fd1-9290-0b02e23ed350.SHOFYTVEWNMBDZWN.SEARCH&ppt=None&ppn=None&ssid=151xvi73hs0000001634376233244&qH=a1743c0d39461290',\n",
       " 'https://www.flipkart.com/chevit-speed-set-5-pairs-sneakers-outdoors-casuals-men/p/itmccd9dcb86e757?pid=SHOFWJJFGKQEQFFW&lid=LSTSHOFWJJFGKQEQFFW0CKGNI&marketplace=FLIPKART&q=sneakers&store=osp%2Fcil%2Fe1f&srno=s_1_20&otracker=search&otracker1=search&fm=organic&iid=en_y8wrT0CqvS9iwwrAKLuPTxlCKBgaGGbcqX3IdL4Fw3i4j3GGaJZCkSgHJLSU5P5IwLaH1a5e7YpqPJDpWyVgJQ%3D%3D&ppt=None&ppn=None&ssid=151xvi73hs0000001634376233244&qH=a1743c0d39461290',\n",
       " 'https://www.flipkart.com/zsyto-sneakers-men/p/itm3f2ea2a970fe1?pid=SHOG5RXFSGFZWHZ4&lid=LSTSHOG5RXFSGFZWHZ4JTHLW0&marketplace=FLIPKART&q=sneakers&store=osp%2Fcil%2Fe1f&srno=s_1_21&otracker=search&otracker1=search&fm=organic&iid=b7c3eac8-7f84-4fd1-9290-0b02e23ed350.SHOG5RXFSGFZWHZ4.SEARCH&ppt=None&ppn=None&ssid=151xvi73hs0000001634376233244&qH=a1743c0d39461290',\n",
       " 'https://www.flipkart.com/asteroid-original-luxury-branded-fashionable-men-s-casual-walking-partywear-sneakers-running-white-shoes-men/p/itmadb9562baf1cd?pid=SHOG3F72H7HBVCSW&lid=LSTSHOG3F72H7HBVCSW2FOWAK&marketplace=FLIPKART&q=sneakers&store=osp%2Fcil%2Fe1f&srno=s_1_22&otracker=search&otracker1=search&fm=organic&iid=b7c3eac8-7f84-4fd1-9290-0b02e23ed350.SHOG3F72H7HBVCSW.SEARCH&ppt=None&ppn=None&ssid=151xvi73hs0000001634376233244&qH=a1743c0d39461290',\n",
       " 'https://www.flipkart.com/essence-sneakers-men/p/itmc3d0142b55301?pid=SHOFK4QZDMHH6EGZ&lid=LSTSHOFK4QZDMHH6EGZUFMWMW&marketplace=FLIPKART&q=sneakers&store=osp%2Fcil%2Fe1f&srno=s_1_23&otracker=search&otracker1=search&fm=organic&iid=b7c3eac8-7f84-4fd1-9290-0b02e23ed350.SHOFK4QZDMHH6EGZ.SEARCH&ppt=None&ppn=None&ssid=151xvi73hs0000001634376233244&qH=a1743c0d39461290',\n",
       " 'https://www.flipkart.com/magnolia-white-sneakers-men/p/itmf7n8d9pspsdvp?pid=SHOF7NYRUSGVHDYU&lid=LSTSHOF7NYRUSGVHDYUFU7LNU&marketplace=FLIPKART&q=sneakers&store=osp%2Fcil%2Fe1f&srno=s_1_24&otracker=search&otracker1=search&fm=organic&iid=en_y8wrT0CqvS9iwwrAKLuPTxlCKBgaGGbcqX3IdL4Fw3jl2kJFB%2FKEvi3Hd%2BeoPqkGow0Y2jA6YKU%2Fo1TmbijtIg%3D%3D&ppt=None&ppn=None&ssid=151xvi73hs0000001634376233244&qH=a1743c0d39461290',\n",
       " 'https://www.flipkart.com/kraasa-series-7-sneakers-men/p/itmda307099c343b?pid=SHOGF3MZKVDZXJAG&lid=LSTSHOGF3MZKVDZXJAGXKY8AC&marketplace=FLIPKART&q=sneakers&store=osp%2Fcil%2Fe1f&srno=s_1_25&otracker=search&otracker1=search&fm=organic&iid=b7c3eac8-7f84-4fd1-9290-0b02e23ed350.SHOGF3MZKVDZXJAG.SEARCH&ppt=None&ppn=None&ssid=151xvi73hs0000001634376233244&qH=a1743c0d39461290',\n",
       " 'https://www.flipkart.com/edoeviv-luxury-branded-fashionable-men-s-casual-walking-partywear-sneakers-running-white-shoes-men/p/itm507202525ac70?pid=SHOG42Q7UXCSJGKT&lid=LSTSHOG42Q7UXCSJGKTY4XBMJ&marketplace=FLIPKART&q=sneakers&store=osp%2Fcil%2Fe1f&srno=s_1_26&otracker=search&otracker1=search&fm=organic&iid=b7c3eac8-7f84-4fd1-9290-0b02e23ed350.SHOG42Q7UXCSJGKT.SEARCH&ppt=None&ppn=None&ssid=151xvi73hs0000001634376233244&qH=a1743c0d39461290',\n",
       " 'https://www.flipkart.com/chevit-perfect-affordable-combo-pack-02-pairs-sneakers-outdoor-loafer-sports-running-rock-climbing-gym-shoes-men/p/itm66ea1242a9ea5?pid=SHOGYRVMYHSC9GDA&lid=LSTSHOGYRVMYHSC9GDAQQTHTH&marketplace=FLIPKART&q=sneakers&store=osp%2Fcil%2Fe1f&srno=s_1_27&otracker=search&otracker1=search&fm=organic&iid=b7c3eac8-7f84-4fd1-9290-0b02e23ed350.SHOGYRVMYHSC9GDA.SEARCH&ppt=None&ppn=None&ssid=151xvi73hs0000001634376233244&qH=a1743c0d39461290',\n",
       " 'https://www.flipkart.com/puma-x-ray-2-square-sneakers-men/p/itmd9b0267f0b513?pid=SHOG4JEY3Z6JBNG9&lid=LSTSHOG4JEY3Z6JBNG9VRTHCP&marketplace=FLIPKART&q=sneakers&store=osp%2Fcil%2Fe1f&srno=s_1_28&otracker=search&otracker1=search&fm=organic&iid=en_y8wrT0CqvS9iwwrAKLuPTxlCKBgaGGbcqX3IdL4Fw3gnpoTf3h2ZCPlk1LJROeGK%2B9f3xcvaoG9Ny7VpQsCcOg%3D%3D&ppt=None&ppn=None&ssid=151xvi73hs0000001634376233244&qH=a1743c0d39461290',\n",
       " 'https://www.flipkart.com/bruton-lattest-sneakers-shoe-men/p/itm42e4e64429e8b?pid=SHOG293HHXSZ2TQZ&lid=LSTSHOG293HHXSZ2TQZTWXQ9R&marketplace=FLIPKART&q=sneakers&store=osp%2Fcil%2Fe1f&srno=s_1_29&otracker=search&otracker1=search&fm=organic&iid=b7c3eac8-7f84-4fd1-9290-0b02e23ed350.SHOG293HHXSZ2TQZ.SEARCH&ppt=None&ppn=None&ssid=151xvi73hs0000001634376233244&qH=a1743c0d39461290',\n",
       " 'https://www.flipkart.com/chevit-168-smart-red-lace-ups-casuals-men-sneakers/p/itm5c134759c0c78?pid=SHOFZD8F3XGYZWSB&lid=LSTSHOFZD8F3XGYZWSB8XQUQL&marketplace=FLIPKART&q=sneakers&store=osp%2Fcil%2Fe1f&srno=s_1_30&otracker=search&otracker1=search&fm=organic&iid=b7c3eac8-7f84-4fd1-9290-0b02e23ed350.SHOFZD8F3XGYZWSB.SEARCH&ppt=None&ppn=None&ssid=151xvi73hs0000001634376233244&qH=a1743c0d39461290',\n",
       " 'https://www.flipkart.com/robbie-jones-sneakers-men/p/itmed5242b75c69f?pid=SHOG5Y5AKNTT8DPC&lid=LSTSHOG5Y5AKNTT8DPCNVIEV5&marketplace=FLIPKART&q=sneakers&store=osp%2Fcil%2Fe1f&srno=s_1_31&otracker=search&otracker1=search&fm=organic&iid=b7c3eac8-7f84-4fd1-9290-0b02e23ed350.SHOG5Y5AKNTT8DPC.SEARCH&ppt=None&ppn=None&ssid=151xvi73hs0000001634376233244&qH=a1743c0d39461290',\n",
       " 'https://www.flipkart.com/chevit-super-stylish-trendy-combo-pack-02-pairs-sneakers-outdoor-loafer-sports-running-rock-climbing-gym-shoes-men/p/itmfce3a6f2183d4?pid=SHOGFVTAG39Y7ZHY&lid=LSTSHOGFVTAG39Y7ZHYPHBMOZ&marketplace=FLIPKART&q=sneakers&store=osp%2Fcil%2Fe1f&srno=s_1_32&otracker=search&otracker1=search&fm=organic&iid=en_y8wrT0CqvS9iwwrAKLuPTxlCKBgaGGbcqX3IdL4Fw3hiJbZrIn%2FBL%2Fa4xsotj9THSQNpyrrdfXwJTu59a%2FFomg%3D%3D&ppt=None&ppn=None&ssid=151xvi73hs0000001634376233244&qH=a1743c0d39461290',\n",
       " 'https://www.flipkart.com/airland-shoe-sneakers-men/p/itm1afbf93d2e019?pid=SHOFZ37YEQPE4ZG9&lid=LSTSHOFZ37YEQPE4ZG98YACHE&marketplace=FLIPKART&q=sneakers&store=osp%2Fcil%2Fe1f&srno=s_1_33&otracker=search&otracker1=search&fm=organic&iid=b7c3eac8-7f84-4fd1-9290-0b02e23ed350.SHOFZ37YEQPE4ZG9.SEARCH&ppt=None&ppn=None&ssid=151xvi73hs0000001634376233244&qH=a1743c0d39461290',\n",
       " 'https://www.flipkart.com/arohi-sneakers-men/p/itm6902e4b22d54d?pid=SHOFZUBJEZGYCJXZ&lid=LSTSHOFZUBJEZGYCJXZQBFB6N&marketplace=FLIPKART&q=sneakers&store=osp%2Fcil%2Fe1f&srno=s_1_34&otracker=search&otracker1=search&fm=organic&iid=b7c3eac8-7f84-4fd1-9290-0b02e23ed350.SHOFZUBJEZGYCJXZ.SEARCH&ppt=None&ppn=None&ssid=151xvi73hs0000001634376233244&qH=a1743c0d39461290',\n",
       " 'https://www.flipkart.com/robbie-jones-sneakers-men/p/itmf96edf62c37d8?pid=SHOG6YH4JDYZKGGJ&lid=LSTSHOG6YH4JDYZKGGJQG5RSU&marketplace=FLIPKART&q=sneakers&store=osp%2Fcil%2Fe1f&srno=s_1_35&otracker=search&otracker1=search&fm=organic&iid=b7c3eac8-7f84-4fd1-9290-0b02e23ed350.SHOG6YH4JDYZKGGJ.SEARCH&ppt=None&ppn=None&ssid=151xvi73hs0000001634376233244&qH=a1743c0d39461290',\n",
       " 'https://www.flipkart.com/puma-x-1der-kl-rahul-sneakers-men/p/itmdc27009c66a28?pid=SHOG4JDZZECRXHKH&lid=LSTSHOG4JDZZECRXHKH7MTVGW&marketplace=FLIPKART&q=sneakers&store=osp%2Fcil%2Fe1f&srno=s_1_36&otracker=search&otracker1=search&fm=organic&iid=en_y8wrT0CqvS9iwwrAKLuPTxlCKBgaGGbcqX3IdL4Fw3j858Up5efpyEU0JslkHxY%2FNwhgi8fFvQtUFdWe4vgDTQ%3D%3D&ppt=None&ppn=None&ssid=151xvi73hs0000001634376233244&qH=a1743c0d39461290',\n",
       " 'https://www.flipkart.com/numenzo-sneakers-men/p/itm072bfb0c5e869?pid=SHOFZ4RGHH2H7QJM&lid=LSTSHOFZ4RGHH2H7QJMLNS3RV&marketplace=FLIPKART&q=sneakers&store=osp%2Fcil%2Fe1f&srno=s_1_37&otracker=search&otracker1=search&fm=organic&iid=b7c3eac8-7f84-4fd1-9290-0b02e23ed350.SHOFZ4RGHH2H7QJM.SEARCH&ppt=None&ppn=None&ssid=151xvi73hs0000001634376233244&qH=a1743c0d39461290',\n",
       " 'https://www.flipkart.com/scatchite-sneakers-men/p/itmc13680b1d9604?pid=SHOFUDSUUG8AAMZZ&lid=LSTSHOFUDSUUG8AAMZZXEJRH6&marketplace=FLIPKART&q=sneakers&store=osp%2Fcil%2Fe1f&srno=s_1_38&otracker=search&otracker1=search&fm=organic&iid=b7c3eac8-7f84-4fd1-9290-0b02e23ed350.SHOFUDSUUG8AAMZZ.SEARCH&ppt=None&ppn=None&ssid=151xvi73hs0000001634376233244&qH=a1743c0d39461290',\n",
       " 'https://www.flipkart.com/roddick-shoes-fashion-outdoor-canvas-casual-light-weight-lace-up-evening-walk-running-men-sneakers/p/itmef0811c89a216?pid=SHOG48DDGW55HG7A&lid=LSTSHOG48DDGW55HG7AV7DM9G&marketplace=FLIPKART&q=sneakers&store=osp%2Fcil%2Fe1f&srno=s_1_39&otracker=search&otracker1=search&fm=organic&iid=b7c3eac8-7f84-4fd1-9290-0b02e23ed350.SHOG48DDGW55HG7A.SEARCH&ppt=None&ppn=None&ssid=151xvi73hs0000001634376233244&qH=a1743c0d39461290',\n",
       " 'https://www.flipkart.com/adidas-vs-pace-sneakers-men/p/itm3920f740b940e?pid=SHOFZBQEMG8GCDF2&lid=LSTSHOFZBQEMG8GCDF2QUTDSK&marketplace=FLIPKART&q=sneakers&store=osp%2Fcil%2Fe1f&srno=s_1_40&otracker=search&otracker1=search&fm=organic&iid=en_y8wrT0CqvS9iwwrAKLuPTxlCKBgaGGbcqX3IdL4Fw3hUVL%2B3Uj2FlBarFEPiE6miFmuv%2FpMDVhrQGro9CI2rEg%3D%3D&ppt=None&ppn=None&ssid=151xvi73hs0000001634376233244&qH=a1743c0d39461290',\n",
       " 'https://www.flipkart.com/kardam-sons-fashionable-casual-sneaker-shoes-sneakers-men/p/itm1a790775c3b9f?pid=SHOG2FU6FZDKKSZH&lid=LSTSHOG2FU6FZDKKSZHN02WSQ&marketplace=FLIPKART&q=sneakers&store=osp%2Fcil%2Fe1f&srno=s_2_41&otracker=search&otracker1=search&fm=organic&iid=4c4aaccc-8a37-4366-930d-ba3d611c136a.SHOG2FU6FZDKKSZH.SEARCH&ppt=None&ppn=None&ssid=rjp1l86h280000001634376234774&qH=a1743c0d39461290',\n",
       " 'https://www.flipkart.com/d-sneakerz-casual-partywear-sneakers-shoes-color-men/p/itmfekfj9gpu5hdd?pid=SHOFEJTQGEMC2W6T&lid=LSTSHOFEJTQGEMC2W6TKMFHXH&marketplace=FLIPKART&q=sneakers&store=osp%2Fcil%2Fe1f&srno=s_2_42&otracker=search&otracker1=search&fm=organic&iid=4c4aaccc-8a37-4366-930d-ba3d611c136a.SHOFEJTQGEMC2W6T.SEARCH&ppt=None&ppn=None&ssid=rjp1l86h280000001634376234774&qH=a1743c0d39461290',\n",
       " 'https://www.flipkart.com/nilatin-white-sneaker-men-sneakers/p/itma5721976f2c1c?pid=SHOG4Z2SYNY7TUVG&lid=LSTSHOG4Z2SYNY7TUVGHF8S8J&marketplace=FLIPKART&q=sneakers&store=osp%2Fcil%2Fe1f&srno=s_2_43&otracker=search&otracker1=search&fm=organic&iid=4c4aaccc-8a37-4366-930d-ba3d611c136a.SHOG4Z2SYNY7TUVG.SEARCH&ppt=None&ppn=None&ssid=rjp1l86h280000001634376234774&qH=a1743c0d39461290',\n",
       " 'https://www.flipkart.com/chevit-combo-pack-4-casual-sneakers-men/p/itmfg2ybzgeygd6t?pid=SHOFGY97JGZTBRHY&lid=LSTSHOFGY97JGZTBRHYNP5E5F&marketplace=FLIPKART&q=sneakers&store=osp%2Fcil%2Fe1f&srno=s_2_44&otracker=search&otracker1=search&fm=organic&iid=en_zb%2FeCmVyKgR6xaB5fJ%2FubPXfIYXDfwdbGlFkztFz%2FJbh6ABb6d9O04Gl0TBiPwSl9JHTijj1js9rXHmilcx7nA%3D%3D&ppt=None&ppn=None&ssid=rjp1l86h280000001634376234774&qH=a1743c0d39461290',\n",
       " 'https://www.flipkart.com/hoc-luxury-fashionable-casual-sneakers-shoes-men-boy/p/itmd935b86ba7130?pid=SHOG5GYMFMUGYFCT&lid=LSTSHOG5GYMFMUGYFCTK0N1HF&marketplace=FLIPKART&q=sneakers&store=osp%2Fcil%2Fe1f&srno=s_2_45&otracker=search&otracker1=search&fm=organic&iid=4c4aaccc-8a37-4366-930d-ba3d611c136a.SHOG5GYMFMUGYFCT.SEARCH&ppt=None&ppn=None&ssid=rjp1l86h280000001634376234774&qH=a1743c0d39461290',\n",
       " 'https://www.flipkart.com/knight-walkers-sneakers-men/p/itme8a21f1c42805?pid=SHOG5NTFTMYZ5RCH&lid=LSTSHOG5NTFTMYZ5RCHMWIJQX&marketplace=FLIPKART&q=sneakers&store=osp%2Fcil%2Fe1f&srno=s_2_46&otracker=search&otracker1=search&fm=organic&iid=4c4aaccc-8a37-4366-930d-ba3d611c136a.SHOG5NTFTMYZ5RCH.SEARCH&ppt=None&ppn=None&ssid=rjp1l86h280000001634376234774&qH=a1743c0d39461290',\n",
       " 'https://www.flipkart.com/asteroid-original-luxury-branded-fashionable-men-s-casual-walking-partywear-sneakers-running-white-black-shoes-men-white-black/p/itm65cb76d7ae24b?pid=SHOG2ZXGNXRC2GNW&lid=LSTSHOG2ZXGNXRC2GNWGOGPL1&marketplace=FLIPKART&q=sneakers&store=osp%2Fcil%2Fe1f&srno=s_2_47&otracker=search&otracker1=search&fm=organic&iid=4c4aaccc-8a37-4366-930d-ba3d611c136a.SHOG2ZXGNXRC2GNW.SEARCH&ppt=None&ppn=None&ssid=rjp1l86h280000001634376234774&qH=a1743c0d39461290',\n",
       " 'https://www.flipkart.com/claptrap-white-sneaker-men-s-boy-s-sneakers-men/p/itmf2e9222fedad4?pid=SHOFGFQQYKZVRYHH&lid=LSTSHOFGFQQYKZVRYHHPUUCQN&marketplace=FLIPKART&q=sneakers&store=osp%2Fcil%2Fe1f&srno=s_2_48&otracker=search&otracker1=search&fm=organic&iid=en_zb%2FeCmVyKgR6xaB5fJ%2FubPXfIYXDfwdbGlFkztFz%2FJZrdk0Xx4CupNb2svd8MO7TbeiVLWi5YJKdiAd4PBAZ3Q%3D%3D&ppt=None&ppn=None&ssid=rjp1l86h280000001634376234774&qH=a1743c0d39461290',\n",
       " 'https://www.flipkart.com/zorth-sneakers-men/p/itme5212bc174016?pid=SHOGYBG6S9EXBZKC&lid=LSTSHOGYBG6S9EXBZKCRXDOPF&marketplace=FLIPKART&q=sneakers&store=osp%2Fcil%2Fe1f&srno=s_2_49&otracker=search&otracker1=search&fm=organic&iid=4c4aaccc-8a37-4366-930d-ba3d611c136a.SHOGYBG6S9EXBZKC.SEARCH&ppt=None&ppn=None&ssid=rjp1l86h280000001634376234774&qH=a1743c0d39461290',\n",
       " 'https://www.flipkart.com/chevit-super-stylish-trendy-combo-pack-02-pairs-sneakers-outdoor-loafer-sports-running-rock-climbing-gym-shoes-men/p/itmfce3a6f2183d4?pid=SHOGFVTAG39Y7ZHY&lid=LSTSHOGFVTAG39Y7ZHYPHBMOZ&marketplace=FLIPKART&q=sneakers&store=osp%2Fcil%2Fe1f&srno=s_2_50&otracker=search&otracker1=search&fm=organic&iid=4c4aaccc-8a37-4366-930d-ba3d611c136a.SHOGFVTAG39Y7ZHY.SEARCH&ppt=None&ppn=None&ssid=rjp1l86h280000001634376234774&qH=a1743c0d39461290',\n",
       " 'https://www.flipkart.com/puma-trinity-idp-sneakers-men/p/itm8ca41052c50bf?pid=SHOFNU2WGHSCTRKT&lid=LSTSHOFNU2WGHSCTRKTX1KOZQ&marketplace=FLIPKART&q=sneakers&store=osp%2Fcil%2Fe1f&srno=s_2_51&otracker=search&otracker1=search&fm=organic&iid=4c4aaccc-8a37-4366-930d-ba3d611c136a.SHOFNU2WGHSCTRKT.SEARCH&ppt=None&ppn=None&ssid=rjp1l86h280000001634376234774&qH=a1743c0d39461290',\n",
       " 'https://www.flipkart.com/chevit-unique-perfect-collection-combo-pack-02-shoes-men-casual-sneakers-outdoor-walking-sport-running-gym-cycling-trekking-rock-climbing/p/itmff4e5480ba998?pid=SHOGYX9SX8ZHGMYH&lid=LSTSHOGYX9SX8ZHGMYHMNOSZZ&marketplace=FLIPKART&q=sneakers&store=osp%2Fcil%2Fe1f&srno=s_2_52&otracker=search&otracker1=search&fm=organic&iid=en_zb%2FeCmVyKgR6xaB5fJ%2FubPXfIYXDfwdbGlFkztFz%2FJY0BIbAzVsJQkmB0tcd9KgbhKI93a%2FSQFl91%2B2yORThnw%3D%3D&ppt=None&ppn=None&ssid=rjp1l86h280000001634376234774&qH=a1743c0d39461290',\n",
       " 'https://www.flipkart.com/roddick-shoes-fashion-outdoor-canvas-casual-light-weight-lace-up-evening-walk-running-men-sneakers/p/itmbe9f4e9f9fd38?pid=SHOG48CYYCBEGRSN&lid=LSTSHOG48CYYCBEGRSNDFMQ5G&marketplace=FLIPKART&q=sneakers&store=osp%2Fcil%2Fe1f&srno=s_2_53&otracker=search&otracker1=search&fm=organic&iid=4c4aaccc-8a37-4366-930d-ba3d611c136a.SHOG48CYYCBEGRSN.SEARCH&ppt=None&ppn=None&ssid=rjp1l86h280000001634376234774&qH=a1743c0d39461290',\n",
       " 'https://www.flipkart.com/bruton-modern-trendy-collection-combo-pack-02-shoes-men-casual-sneakers-outdoor-walking-sport-running-gym-cycling-trekking-rock-climbing/p/itm35c66d56c25b5?pid=SHOG449VVRBYY8HJ&lid=LSTSHOG449VVRBYY8HJSFKUNF&marketplace=FLIPKART&q=sneakers&store=osp%2Fcil%2Fe1f&srno=s_2_54&otracker=search&otracker1=search&fm=organic&iid=4c4aaccc-8a37-4366-930d-ba3d611c136a.SHOG449VVRBYY8HJ.SEARCH&ppt=None&ppn=None&ssid=rjp1l86h280000001634376234774&qH=a1743c0d39461290',\n",
       " 'https://www.flipkart.com/numenzo-black-sneaker-men-sneakers/p/itm472e25e134b1d?pid=SHOG4KFRCZCGYQZ6&lid=LSTSHOG4KFRCZCGYQZ6VZ35FA&marketplace=FLIPKART&q=sneakers&store=osp%2Fcil%2Fe1f&srno=s_2_55&otracker=search&otracker1=search&fm=organic&iid=4c4aaccc-8a37-4366-930d-ba3d611c136a.SHOG4KFRCZCGYQZ6.SEARCH&ppt=None&ppn=None&ssid=rjp1l86h280000001634376234774&qH=a1743c0d39461290',\n",
       " 'https://www.flipkart.com/bavis-combo-pack-2-casual-shoes-men-sneakers/p/itm634c68a173654?pid=SHOFRTJDYQSJG4EP&lid=LSTSHOFRTJDYQSJG4EPFJKEZI&marketplace=FLIPKART&q=sneakers&store=osp%2Fcil%2Fe1f&srno=s_2_56&otracker=search&otracker1=search&fm=organic&iid=en_zb%2FeCmVyKgR6xaB5fJ%2FubPXfIYXDfwdbGlFkztFz%2FJboL%2BUI%2B9Uf1Sc0OEprtCImDA67qwUXV7fWbweSfZV34g%3D%3D&ppt=None&ppn=None&ssid=rjp1l86h280000001634376234774&qH=a1743c0d39461290',\n",
       " 'https://www.flipkart.com/puma-smash-v2-l-sneakers-men/p/itmf9bwqq6pqdfy5?pid=SHOFC7A6NXZ6BTQU&lid=LSTSHOFC7A6NXZ6BTQUA0BTUV&marketplace=FLIPKART&q=sneakers&store=osp%2Fcil%2Fe1f&srno=s_2_57&otracker=search&otracker1=search&fm=organic&iid=4c4aaccc-8a37-4366-930d-ba3d611c136a.SHOFC7A6NXZ6BTQU.SEARCH&ppt=None&ppn=None&ssid=rjp1l86h280000001634376234774&qH=a1743c0d39461290',\n",
       " 'https://www.flipkart.com/essence-sneakers-men/p/itmf7txcxgy9jcfw?pid=SHOF7TS7VGEP4BUR&lid=LSTSHOF7TS7VGEP4BURX6A4PN&marketplace=FLIPKART&q=sneakers&store=osp%2Fcil%2Fe1f&srno=s_2_58&otracker=search&otracker1=search&fm=organic&iid=4c4aaccc-8a37-4366-930d-ba3d611c136a.SHOF7TS7VGEP4BUR.SEARCH&ppt=None&ppn=None&ssid=rjp1l86h280000001634376234774&qH=a1743c0d39461290',\n",
       " 'https://www.flipkart.com/zsyto-sneakers-men/p/itmd1559e06f06f0?pid=SHOG4BNPHX9HZMN4&lid=LSTSHOG4BNPHX9HZMN42AYQQX&marketplace=FLIPKART&q=sneakers&store=osp%2Fcil%2Fe1f&srno=s_2_59&otracker=search&otracker1=search&fm=organic&iid=4c4aaccc-8a37-4366-930d-ba3d611c136a.SHOG4BNPHX9HZMN4.SEARCH&ppt=None&ppn=None&ssid=rjp1l86h280000001634376234774&qH=a1743c0d39461290',\n",
       " 'https://www.flipkart.com/paragon-sneakers-men/p/itmfbf5dd09e7cfc?pid=SHOG2J4E22GTD5ZF&lid=LSTSHOG2J4E22GTD5ZFORLOMJ&marketplace=FLIPKART&q=sneakers&store=osp%2Fcil%2Fe1f&srno=s_2_60&otracker=search&otracker1=search&fm=organic&iid=en_zb%2FeCmVyKgR6xaB5fJ%2FubPXfIYXDfwdbGlFkztFz%2FJZw11QvlymZu1YRW%2BoJRtYQ9Ee72NfcJPlMFTzhFlB3wg%3D%3D&ppt=None&ppn=None&ssid=rjp1l86h280000001634376234774&qH=a1743c0d39461290',\n",
       " 'https://www.flipkart.com/robbie-jones-casual-sneakers-shoes-men-boys/p/itm63089f27865b6?pid=SHOG3FFGTCMWWH9F&lid=LSTSHOG3FFGTCMWWH9FC7QVCI&marketplace=FLIPKART&q=sneakers&store=osp%2Fcil%2Fe1f&srno=s_2_61&otracker=search&otracker1=search&fm=organic&iid=4c4aaccc-8a37-4366-930d-ba3d611c136a.SHOG3FFGTCMWWH9F.SEARCH&ppt=None&ppn=None&ssid=rjp1l86h280000001634376234774&qH=a1743c0d39461290',\n",
       " 'https://www.flipkart.com/birde-combo-pack-5-casual-shoes-sneakers-men/p/itm2724a67c492a9?pid=SHOFZYQHDJKSNVYA&lid=LSTSHOFZYQHDJKSNVYAZBXH3R&marketplace=FLIPKART&q=sneakers&store=osp%2Fcil%2Fe1f&srno=s_2_62&otracker=search&otracker1=search&fm=organic&iid=4c4aaccc-8a37-4366-930d-ba3d611c136a.SHOFZYQHDJKSNVYA.SEARCH&ppt=None&ppn=None&ssid=rjp1l86h280000001634376234774&qH=a1743c0d39461290',\n",
       " 'https://www.flipkart.com/hoc-luxury-fashionable-breathable-casual-sneakers-shoes-men-boy/p/itm55e95588d83e1?pid=SHOG4ZZHGXBEDQZA&lid=LSTSHOG4ZZHGXBEDQZAFZ3XMT&marketplace=FLIPKART&q=sneakers&store=osp%2Fcil%2Fe1f&srno=s_2_63&otracker=search&otracker1=search&fm=organic&iid=4c4aaccc-8a37-4366-930d-ba3d611c136a.SHOG4ZZHGXBEDQZA.SEARCH&ppt=None&ppn=None&ssid=rjp1l86h280000001634376234774&qH=a1743c0d39461290',\n",
       " 'https://www.flipkart.com/chevit-speed-set-5-pairs-sneakers-outdoors-casuals-men/p/itmccd9dcb86e757?pid=SHOFWJJFGKQEQFFW&lid=LSTSHOFWJJFGKQEQFFW0CKGNI&marketplace=FLIPKART&q=sneakers&store=osp%2Fcil%2Fe1f&srno=s_2_64&otracker=search&otracker1=search&fm=organic&iid=en_zb%2FeCmVyKgR6xaB5fJ%2FubPXfIYXDfwdbGlFkztFz%2FJZNbwMm%2FCKErSAJB1dkihpyARSjt0L37GgGytM0KeFKew%3D%3D&ppt=None&ppn=None&ssid=rjp1l86h280000001634376234774&qH=a1743c0d39461290',\n",
       " 'https://www.flipkart.com/kaneggye-sneakers-men/p/itmf3xxsdvv25yze?pid=SHOESZFMKJNBZ6FB&lid=LSTSHOESZFMKJNBZ6FBPAJ6AB&marketplace=FLIPKART&q=sneakers&store=osp%2Fcil%2Fe1f&srno=s_2_65&otracker=search&otracker1=search&fm=organic&iid=4c4aaccc-8a37-4366-930d-ba3d611c136a.SHOESZFMKJNBZ6FB.SEARCH&ppt=None&ppn=None&ssid=rjp1l86h280000001634376234774&qH=a1743c0d39461290',\n",
       " 'https://www.flipkart.com/sparx-men-sm-461-navy-blue-sneakers/p/itmb8b2555d3518a?pid=SHOFJFGSKZRUJYUM&lid=LSTSHOFJFGSKZRUJYUMXV7DPW&marketplace=FLIPKART&q=sneakers&store=osp%2Fcil%2Fe1f&srno=s_2_66&otracker=search&otracker1=search&fm=organic&iid=4c4aaccc-8a37-4366-930d-ba3d611c136a.SHOFJFGSKZRUJYUM.SEARCH&ppt=None&ppn=None&ssid=rjp1l86h280000001634376234774&qH=a1743c0d39461290',\n",
       " 'https://www.flipkart.com/birde-combo-pack-2-casual-shoes-sneakers-men/p/itm860b3eb6cfa69?pid=SHOFZ5HQJGZP5FM8&lid=LSTSHOFZ5HQJGZP5FM8ROF0WF&marketplace=FLIPKART&q=sneakers&store=osp%2Fcil%2Fe1f&srno=s_2_67&otracker=search&otracker1=search&fm=organic&iid=4c4aaccc-8a37-4366-930d-ba3d611c136a.SHOFZ5HQJGZP5FM8.SEARCH&ppt=None&ppn=None&ssid=rjp1l86h280000001634376234774&qH=a1743c0d39461290',\n",
       " 'https://www.flipkart.com/magnolia-white-sneakers-men/p/itmf7n8d9pspsdvp?pid=SHOF7NYRUSGVHDYU&lid=LSTSHOF7NYRUSGVHDYUFU7LNU&marketplace=FLIPKART&q=sneakers&store=osp%2Fcil%2Fe1f&srno=s_2_68&otracker=search&otracker1=search&fm=organic&iid=en_zb%2FeCmVyKgR6xaB5fJ%2FubPXfIYXDfwdbGlFkztFz%2FJY1AtR1JXJr7qyMQryLXQvg5JB6y4i4Xna9BL%2FW8Sp5Qg%3D%3D&ppt=None&ppn=None&ssid=rjp1l86h280000001634376234774&qH=a1743c0d39461290',\n",
       " 'https://www.flipkart.com/birde-combo-pack-2-casual-shoes-sneakers-men/p/itmc56bdcd407999?pid=SHOFZ5HQGHQHGEGH&lid=LSTSHOFZ5HQGHQHGEGHOUEOPM&marketplace=FLIPKART&q=sneakers&store=osp%2Fcil%2Fe1f&srno=s_2_69&otracker=search&otracker1=search&fm=organic&iid=4c4aaccc-8a37-4366-930d-ba3d611c136a.SHOFZ5HQGHQHGEGH.SEARCH&ppt=None&ppn=None&ssid=rjp1l86h280000001634376234774&qH=a1743c0d39461290',\n",
       " 'https://www.flipkart.com/zovim-jeans-shoes-men-boy-sneakers/p/itmf3xvrdbjwgzvw?pid=SHOF2NXHGAVGGPGR&lid=LSTSHOF2NXHGAVGGPGRWGMZVU&marketplace=FLIPKART&q=sneakers&store=osp%2Fcil%2Fe1f&srno=s_2_70&otracker=search&otracker1=search&fm=organic&iid=4c4aaccc-8a37-4366-930d-ba3d611c136a.SHOF2NXHGAVGGPGR.SEARCH&ppt=None&ppn=None&ssid=rjp1l86h280000001634376234774&qH=a1743c0d39461290',\n",
       " 'https://www.flipkart.com/qtsy-stylish-design-sneakers-shoes-combo-men-boys-pack-2-white-red/p/itm6b70df96eeeb5?pid=SHOFKZ3MZM5RHTHB&lid=LSTSHOFKZ3MZM5RHTHBE1FSQV&marketplace=FLIPKART&q=sneakers&store=osp%2Fcil%2Fe1f&srno=s_2_71&otracker=search&otracker1=search&fm=organic&iid=4c4aaccc-8a37-4366-930d-ba3d611c136a.SHOFKZ3MZM5RHTHB.SEARCH&ppt=None&ppn=None&ssid=rjp1l86h280000001634376234774&qH=a1743c0d39461290',\n",
       " 'https://www.flipkart.com/puma-x-ray-2-square-sneakers-men/p/itmd9b0267f0b513?pid=SHOG4JEY3Z6JBNG9&lid=LSTSHOG4JEY3Z6JBNG9VRTHCP&marketplace=FLIPKART&q=sneakers&store=osp%2Fcil%2Fe1f&srno=s_2_72&otracker=search&otracker1=search&fm=organic&iid=en_zb%2FeCmVyKgR6xaB5fJ%2FubPXfIYXDfwdbGlFkztFz%2FJZQlE%2BE1JUIuYldjaRhdfyIDsOGyr8gDIXXVNzXLNDDCw%3D%3D&ppt=None&ppn=None&ssid=rjp1l86h280000001634376234774&qH=a1743c0d39461290',\n",
       " 'https://www.flipkart.com/k-footlance-fashion-stylish-soft-ultralight-lace-up-sneakers-causal-shoes-men/p/itm96f32b960de3a?pid=SHOFZPX8NZ3YAEJ9&lid=LSTSHOFZPX8NZ3YAEJ92SKUKO&marketplace=FLIPKART&q=sneakers&store=osp%2Fcil%2Fe1f&srno=s_2_73&otracker=search&otracker1=search&fm=organic&iid=4c4aaccc-8a37-4366-930d-ba3d611c136a.SHOFZPX8NZ3YAEJ9.SEARCH&ppt=None&ppn=None&ssid=rjp1l86h280000001634376234774&qH=a1743c0d39461290',\n",
       " 'https://www.flipkart.com/sparx-sm-162-sneakers-men/p/itmfafycjgeyg9zb?pid=SHOEFUSZG65RNCGM&lid=LSTSHOEFUSZG65RNCGMMMJZJI&marketplace=FLIPKART&q=sneakers&store=osp%2Fcil%2Fe1f&srno=s_2_74&otracker=search&otracker1=search&fm=organic&iid=4c4aaccc-8a37-4366-930d-ba3d611c136a.SHOEFUSZG65RNCGM.SEARCH&ppt=None&ppn=None&ssid=rjp1l86h280000001634376234774&qH=a1743c0d39461290',\n",
       " 'https://www.flipkart.com/urbanbox-sneaker-sneakers-men/p/itm1c45c53610142?pid=SHOFXZZ36MHGGR5V&lid=LSTSHOFXZZ36MHGGR5VEBJLQ2&marketplace=FLIPKART&q=sneakers&store=osp%2Fcil%2Fe1f&srno=s_2_75&otracker=search&otracker1=search&fm=organic&iid=4c4aaccc-8a37-4366-930d-ba3d611c136a.SHOFXZZ36MHGGR5V.SEARCH&ppt=None&ppn=None&ssid=rjp1l86h280000001634376234774&qH=a1743c0d39461290',\n",
       " 'https://www.flipkart.com/puma-x-1der-kl-rahul-sneakers-men/p/itmdc27009c66a28?pid=SHOG4JDZZECRXHKH&lid=LSTSHOG4JDZZECRXHKH7MTVGW&marketplace=FLIPKART&q=sneakers&store=osp%2Fcil%2Fe1f&srno=s_2_76&otracker=search&otracker1=search&fm=organic&iid=en_zb%2FeCmVyKgR6xaB5fJ%2FubPXfIYXDfwdbGlFkztFz%2FJaL45ebG3A0o%2FbpEuOc1kMANwhgi8fFvQtUFdWe4vgDTQ%3D%3D&ppt=None&ppn=None&ssid=rjp1l86h280000001634376234774&qH=a1743c0d39461290',\n",
       " 'https://www.flipkart.com/bruton-trendy-fashion-sneakers-men/p/itma5d7e95e70ced?pid=SHOFZH9WWPHVKNH6&lid=LSTSHOFZH9WWPHVKNH6OPGJQG&marketplace=FLIPKART&q=sneakers&store=osp%2Fcil%2Fe1f&srno=s_2_77&otracker=search&otracker1=search&fm=organic&iid=4c4aaccc-8a37-4366-930d-ba3d611c136a.SHOFZH9WWPHVKNH6.SEARCH&ppt=None&ppn=None&ssid=rjp1l86h280000001634376234774&qH=a1743c0d39461290',\n",
       " 'https://www.flipkart.com/wrizt-casual-sneakers-dancing-walking-sneakers-men/p/itm3631db68b0f9b?pid=SHOGYWYKBH5HQNKZ&lid=LSTSHOGYWYKBH5HQNKZU1MIDU&marketplace=FLIPKART&q=sneakers&store=osp%2Fcil%2Fe1f&srno=s_2_78&otracker=search&otracker1=search&fm=organic&iid=4c4aaccc-8a37-4366-930d-ba3d611c136a.SHOGYWYKBH5HQNKZ.SEARCH&ppt=None&ppn=None&ssid=rjp1l86h280000001634376234774&qH=a1743c0d39461290',\n",
       " 'https://www.flipkart.com/chevit-171-smart-tan-lace-ups-casuals-men-sneakers/p/itm388814db0265d?pid=SHOFZD3ZBEQMFH9S&lid=LSTSHOFZD3ZBEQMFH9SYTAFMI&marketplace=FLIPKART&q=sneakers&store=osp%2Fcil%2Fe1f&srno=s_2_79&otracker=search&otracker1=search&fm=organic&iid=4c4aaccc-8a37-4366-930d-ba3d611c136a.SHOFZD3ZBEQMFH9S.SEARCH&ppt=None&ppn=None&ssid=rjp1l86h280000001634376234774&qH=a1743c0d39461290',\n",
       " 'https://www.flipkart.com/chevit-perfect-affordable-combo-pack-02-pairs-sneakers-outdoor-loafer-sports-running-rock-climbing-gym-shoes-men/p/itm66ea1242a9ea5?pid=SHOGYRVMYHSC9GDA&lid=LSTSHOGYRVMYHSC9GDAFLMCIF&marketplace=FLIPKART&q=sneakers&store=osp%2Fcil%2Fe1f&srno=s_2_80&otracker=search&otracker1=search&fm=organic&iid=en_zb%2FeCmVyKgR6xaB5fJ%2FubPXfIYXDfwdbGlFkztFz%2FJbOQTNTYO0la1a%2BhRlWMxlOV1G4QljbwixS57LXg1zDkw%3D%3D&ppt=None&ppn=None&ssid=rjp1l86h280000001634376234774&qH=a1743c0d39461290',\n",
       " 'https://www.flipkart.com/jack-diamond-sneakers-men/p/itmfg3zsnpc53pes?pid=SHOFG3REUWHYBHBA&lid=LSTSHOFG3REUWHYBHBA77CGXA&marketplace=FLIPKART&q=sneakers&store=osp%2Fcil%2Fe1f&srno=s_3_81&otracker=search&otracker1=search&fm=organic&iid=83f6ba7e-ba82-4cad-9772-e7dfa0351206.SHOFG3REUWHYBHBA.SEARCH&ppt=None&ppn=None&ssid=mnflysi3340000001634376236325&qH=a1743c0d39461290',\n",
       " 'https://www.flipkart.com/birde-casual-shoes-men-combo-pack-2-sneakers/p/itm92e9b1994c6d0?pid=SHOG5NCYCP4FAUSF&lid=LSTSHOG5NCYCP4FAUSFLSCDJQ&marketplace=FLIPKART&q=sneakers&store=osp%2Fcil%2Fe1f&srno=s_3_82&otracker=search&otracker1=search&fm=organic&iid=83f6ba7e-ba82-4cad-9772-e7dfa0351206.SHOG5NCYCP4FAUSF.SEARCH&ppt=None&ppn=None&ssid=mnflysi3340000001634376236325&qH=a1743c0d39461290',\n",
       " 'https://www.flipkart.com/luvshus-men-casual-shoe-new-trend-fashion-panda-desgined-light-weight-sneakers/p/itm862a82eb6a47c?pid=SHOGYB9G6UGGAXXJ&lid=LSTSHOGYB9G6UGGAXXJZS8SBV&marketplace=FLIPKART&q=sneakers&store=osp%2Fcil%2Fe1f&srno=s_3_83&otracker=search&otracker1=search&fm=organic&iid=83f6ba7e-ba82-4cad-9772-e7dfa0351206.SHOGYB9G6UGGAXXJ.SEARCH&ppt=None&ppn=None&ssid=mnflysi3340000001634376236325&qH=a1743c0d39461290',\n",
       " 'https://www.flipkart.com/chevit-combo-pack-4-casual-sneakers-men/p/itmfg2ybzgeygd6t?pid=SHOFGY97JGZTBRHY&lid=LSTSHOFGY97JGZTBRHYNP5E5F&marketplace=FLIPKART&q=sneakers&store=osp%2Fcil%2Fe1f&srno=s_3_84&otracker=search&otracker1=search&fm=organic&iid=en_AhVfnK8e67aftMBSQ0LxCsnfeXiO0cKLN0A%2FwVd5G6e4Ni2dDdhewYykACJvO2Am9JHTijj1js9rXHmilcx7nA%3D%3D&ppt=None&ppn=None&ssid=mnflysi3340000001634376236325&qH=a1743c0d39461290',\n",
       " 'https://www.flipkart.com/tigonis-sneakers-men/p/itm5f2196ac74191?pid=SHOGFUX2RVPYHNHC&lid=LSTSHOGFUX2RVPYHNHC0F90GG&marketplace=FLIPKART&q=sneakers&store=osp%2Fcil%2Fe1f&srno=s_3_85&otracker=search&otracker1=search&fm=organic&iid=83f6ba7e-ba82-4cad-9772-e7dfa0351206.SHOGFUX2RVPYHNHC.SEARCH&ppt=None&ppn=None&ssid=mnflysi3340000001634376236325&qH=a1743c0d39461290',\n",
       " 'https://www.flipkart.com/puma-smash-v2-l-sneakers-men/p/itmf8qngkebfr9hp?pid=SHOF7E2UKBFHQUPW&lid=LSTSHOF7E2UKBFHQUPWUYMRPE&marketplace=FLIPKART&q=sneakers&store=osp%2Fcil%2Fe1f&srno=s_3_86&otracker=search&otracker1=search&fm=organic&iid=83f6ba7e-ba82-4cad-9772-e7dfa0351206.SHOF7E2UKBFHQUPW.SEARCH&ppt=None&ppn=None&ssid=mnflysi3340000001634376236325&qH=a1743c0d39461290',\n",
       " 'https://www.flipkart.com/birde-combo-pack-4-casual-shoes-sneakers-men/p/itm3915ef2ffae83?pid=SHOGFAZ9CDQZKJTG&lid=LSTSHOGFAZ9CDQZKJTGTI6RRF&marketplace=FLIPKART&q=sneakers&store=osp%2Fcil%2Fe1f&srno=s_3_87&otracker=search&otracker1=search&fm=organic&iid=83f6ba7e-ba82-4cad-9772-e7dfa0351206.SHOGFAZ9CDQZKJTG.SEARCH&ppt=None&ppn=None&ssid=mnflysi3340000001634376236325&qH=a1743c0d39461290',\n",
       " 'https://www.flipkart.com/claptrap-white-sneaker-men-s-boy-s-sneakers-men/p/itmf2e9222fedad4?pid=SHOFGFQQYKZVRYHH&lid=LSTSHOFGFQQYKZVRYHHPUUCQN&marketplace=FLIPKART&q=sneakers&store=osp%2Fcil%2Fe1f&srno=s_3_88&otracker=search&otracker1=search&fm=organic&iid=en_AhVfnK8e67aftMBSQ0LxCsnfeXiO0cKLN0A%2FwVd5G6dPaj0J6VP%2Fe%2FrJQk2lmAHhbeiVLWi5YJKdiAd4PBAZ3Q%3D%3D&ppt=None&ppn=None&ssid=mnflysi3340000001634376236325&qH=a1743c0d39461290',\n",
       " 'https://www.flipkart.com/zorth-new-fashion-outdoor-trendy-lightweight-casual-canvas-stylish-partywear-sneakers-shoes-boys-men/p/itme127ce3431f9d?pid=SHOFTMXCZQWYPSQH&lid=LSTSHOFTMXCZQWYPSQHIRWVWT&marketplace=FLIPKART&q=sneakers&store=osp%2Fcil%2Fe1f&srno=s_3_89&otracker=search&otracker1=search&fm=organic&iid=83f6ba7e-ba82-4cad-9772-e7dfa0351206.SHOFTMXCZQWYPSQH.SEARCH&ppt=None&ppn=None&ssid=mnflysi3340000001634376236325&qH=a1743c0d39461290',\n",
       " 'https://www.flipkart.com/chevit-latest-fashion-combo-pack-2-pairs-casual-outdoors-shoes-sneakers-men/p/itmba06645941f6e?pid=SHOFZWRDGMBAPCG4&lid=LSTSHOFZWRDGMBAPCG4FMQIVK&marketplace=FLIPKART&q=sneakers&store=osp%2Fcil%2Fe1f&srno=s_3_90&otracker=search&otracker1=search&fm=organic&iid=83f6ba7e-ba82-4cad-9772-e7dfa0351206.SHOFZWRDGMBAPCG4.SEARCH&ppt=None&ppn=None&ssid=mnflysi3340000001634376236325&qH=a1743c0d39461290',\n",
       " 'https://www.flipkart.com/sparx-canvas-casual-partywear-outdoor-sneakers-shoes-mens-boys-men/p/itm030f03551daae?pid=SHOF5Q29TBMK5AC4&lid=LSTSHOF5Q29TBMK5AC4YNVUE6&marketplace=FLIPKART&q=sneakers&store=osp%2Fcil%2Fe1f&srno=s_3_91&otracker=search&otracker1=search&fm=organic&iid=83f6ba7e-ba82-4cad-9772-e7dfa0351206.SHOF5Q29TBMK5AC4.SEARCH&ppt=None&ppn=None&ssid=mnflysi3340000001634376236325&qH=a1743c0d39461290',\n",
       " 'https://www.flipkart.com/chevit-unique-perfect-collection-combo-pack-02-shoes-men-casual-sneakers-outdoor-walking-sport-running-gym-cycling-trekking-rock-climbing/p/itmff4e5480ba998?pid=SHOGYX9SX8ZHGMYH&lid=LSTSHOGYX9SX8ZHGMYHMNOSZZ&marketplace=FLIPKART&q=sneakers&store=osp%2Fcil%2Fe1f&srno=s_3_92&otracker=search&otracker1=search&fm=organic&iid=en_AhVfnK8e67aftMBSQ0LxCsnfeXiO0cKLN0A%2FwVd5G6fOxYN1Qtu2EHC14%2BcD8U%2FihKI93a%2FSQFl91%2B2yORThnw%3D%3D&ppt=None&ppn=None&ssid=mnflysi3340000001634376236325&qH=a1743c0d39461290',\n",
       " 'https://www.flipkart.com/labbin-casual-sneakers-white-shoes-men-boys/p/itm08bba7c3cd089?pid=SHOG3ZWHYKMZN7AT&lid=LSTSHOG3ZWHYKMZN7ATB3KTNA&marketplace=FLIPKART&q=sneakers&store=osp%2Fcil%2Fe1f&srno=s_3_93&otracker=search&otracker1=search&fm=organic&iid=83f6ba7e-ba82-4cad-9772-e7dfa0351206.SHOG3ZWHYKMZN7AT.SEARCH&ppt=None&ppn=None&ssid=mnflysi3340000001634376236325&qH=a1743c0d39461290',\n",
       " 'https://www.flipkart.com/kraasa-shark-41-sneakers-men/p/itmbd16a913187cf?pid=SHOG2CG2ZXFBJ7JB&lid=LSTSHOG2CG2ZXFBJ7JBVAWOSQ&marketplace=FLIPKART&q=sneakers&store=osp%2Fcil%2Fe1f&srno=s_3_94&otracker=search&otracker1=search&fm=organic&iid=83f6ba7e-ba82-4cad-9772-e7dfa0351206.SHOG2CG2ZXFBJ7JB.SEARCH&ppt=None&ppn=None&ssid=mnflysi3340000001634376236325&qH=a1743c0d39461290',\n",
       " 'https://www.flipkart.com/nobelite-sneakers-men/p/itm8cd6c9d78d712?pid=SHOG6FUHDNAHZ2X2&lid=LSTSHOG6FUHDNAHZ2X26OSR0G&marketplace=FLIPKART&q=sneakers&store=osp%2Fcil%2Fe1f&srno=s_3_95&otracker=search&otracker1=search&fm=organic&iid=83f6ba7e-ba82-4cad-9772-e7dfa0351206.SHOG6FUHDNAHZ2X2.SEARCH&ppt=None&ppn=None&ssid=mnflysi3340000001634376236325&qH=a1743c0d39461290',\n",
       " 'https://www.flipkart.com/bavis-combo-pack-2-casual-shoes-men-sneakers/p/itm634c68a173654?pid=SHOFRTJDYQSJG4EP&lid=LSTSHOFRTJDYQSJG4EPFJKEZI&marketplace=FLIPKART&q=sneakers&store=osp%2Fcil%2Fe1f&srno=s_3_96&otracker=search&otracker1=search&fm=organic&iid=en_AhVfnK8e67aftMBSQ0LxCsnfeXiO0cKLN0A%2FwVd5G6cdezUUT9N2bLm%2FuGrxON15DA67qwUXV7fWbweSfZV34g%3D%3D&ppt=None&ppn=None&ssid=mnflysi3340000001634376236325&qH=a1743c0d39461290',\n",
       " 'https://www.flipkart.com/numenzo-sneakers-men/p/itm7ce3982c7cc9f?pid=SHOG3MZFQWSUAZHH&lid=LSTSHOG3MZFQWSUAZHHMMSEAF&marketplace=FLIPKART&q=sneakers&store=osp%2Fcil%2Fe1f&srno=s_3_97&otracker=search&otracker1=search&fm=organic&iid=83f6ba7e-ba82-4cad-9772-e7dfa0351206.SHOG3MZFQWSUAZHH.SEARCH&ppt=None&ppn=None&ssid=mnflysi3340000001634376236325&qH=a1743c0d39461290',\n",
       " 'https://www.flipkart.com/nautica-sneakers-men/p/itmacff4b83a0966?pid=SHOG5GV7CNGGVBWW&lid=LSTSHOG5GV7CNGGVBWWE5V71H&marketplace=FLIPKART&q=sneakers&store=osp%2Fcil%2Fe1f&srno=s_3_98&otracker=search&otracker1=search&fm=organic&iid=83f6ba7e-ba82-4cad-9772-e7dfa0351206.SHOG5GV7CNGGVBWW.SEARCH&ppt=None&ppn=None&ssid=mnflysi3340000001634376236325&qH=a1743c0d39461290',\n",
       " 'https://www.flipkart.com/t-rock-synthetic-leather-casual-partywear-wedding-sneakers-shoes-men/p/itmfhkz7qghnktdg?pid=SHOFHKH6B39PV5HE&lid=LSTSHOFHKH6B39PV5HE3W1SEV&marketplace=FLIPKART&q=sneakers&store=osp%2Fcil%2Fe1f&srno=s_3_99&otracker=search&otracker1=search&fm=organic&iid=83f6ba7e-ba82-4cad-9772-e7dfa0351206.SHOFHKH6B39PV5HE.SEARCH&ppt=None&ppn=None&ssid=mnflysi3340000001634376236325&qH=a1743c0d39461290',\n",
       " 'https://www.flipkart.com/paragon-sneakers-men/p/itmfbf5dd09e7cfc?pid=SHOG2J4E22GTD5ZF&lid=LSTSHOG2J4E22GTD5ZFORLOMJ&marketplace=FLIPKART&q=sneakers&store=osp%2Fcil%2Fe1f&srno=s_3_100&otracker=search&otracker1=search&fm=organic&iid=en_AhVfnK8e67aftMBSQ0LxCsnfeXiO0cKLN0A%2FwVd5G6cm9bMKWn4%2Bg7T1TFmk7qiD9Ee72NfcJPlMFTzhFlB3wg%3D%3D&ppt=None&ppn=None&ssid=mnflysi3340000001634376236325&qH=a1743c0d39461290',\n",
       " 'https://www.flipkart.com/hockwood-street-smart-sneakers-men/p/itmfhqf3cq5pd2z2?pid=SHOFHQ4KSZFXSDPG&lid=LSTSHOFHQ4KSZFXSDPGGCMQBK&marketplace=FLIPKART&q=sneakers&store=osp%2Fcil%2Fe1f&srno=s_3_101&otracker=search&otracker1=search&fm=organic&iid=83f6ba7e-ba82-4cad-9772-e7dfa0351206.SHOFHQ4KSZFXSDPG.SEARCH&ppt=None&ppn=None&ssid=mnflysi3340000001634376236325&qH=a1743c0d39461290',\n",
       " 'https://www.flipkart.com/sparx-sm-607-sneakers-men/p/itm4667cb2a516c6?pid=SHOFNUHHMZCZZ5JT&lid=LSTSHOFNUHHMZCZZ5JTLQAXUL&marketplace=FLIPKART&q=sneakers&store=osp%2Fcil%2Fe1f&srno=s_3_102&otracker=search&otracker1=search&fm=organic&iid=83f6ba7e-ba82-4cad-9772-e7dfa0351206.SHOFNUHHMZCZZ5JT.SEARCH&ppt=None&ppn=None&ssid=mnflysi3340000001634376236325&qH=a1743c0d39461290',\n",
       " 'https://www.flipkart.com/asian-skypy-31-walking-shoes-training-shoes-sneakers-loafers-canvas-shoes-casual-shoes-sneakers-sneakers-men/p/itmf3xv8xcmghspj?pid=SHOEZPJGKWZMGZJP&lid=LSTSHOEZPJGKWZMGZJPYCOR3L&marketplace=FLIPKART&q=sneakers&store=osp%2Fcil%2Fe1f&srno=s_3_103&otracker=search&otracker1=search&fm=organic&iid=83f6ba7e-ba82-4cad-9772-e7dfa0351206.SHOEZPJGKWZMGZJP.SEARCH&ppt=None&ppn=None&ssid=mnflysi3340000001634376236325&qH=a1743c0d39461290',\n",
       " 'https://www.flipkart.com/chevit-speed-set-5-pairs-sneakers-outdoors-casuals-men/p/itmccd9dcb86e757?pid=SHOFWJJFGKQEQFFW&lid=LSTSHOFWJJFGKQEQFFW0CKGNI&marketplace=FLIPKART&q=sneakers&store=osp%2Fcil%2Fe1f&srno=s_3_104&otracker=search&otracker1=search&fm=organic&iid=en_AhVfnK8e67aftMBSQ0LxCsnfeXiO0cKLN0A%2FwVd5G6dbwmKbG9Fsc%2FUxN%2BzOaBM3ARSjt0L37GgGytM0KeFKew%3D%3D&ppt=None&ppn=None&ssid=mnflysi3340000001634376236325&qH=a1743c0d39461290',\n",
       " 'https://www.flipkart.com/bruton-modern-trendy-collection-combo-pack-02-shoes-men-casual-sneakers-outdoor-walking-sport-running-gym-cycling-trekking-rock-climbing/p/itm810e9aae41338?pid=SHOG44ATTSXAGV7W&lid=LSTSHOG44ATTSXAGV7WM5ZVVX&marketplace=FLIPKART&q=sneakers&store=osp%2Fcil%2Fe1f&srno=s_3_105&otracker=search&otracker1=search&fm=organic&iid=83f6ba7e-ba82-4cad-9772-e7dfa0351206.SHOG44ATTSXAGV7W.SEARCH&ppt=None&ppn=None&ssid=mnflysi3340000001634376236325&qH=a1743c0d39461290',\n",
       " 'https://www.flipkart.com/puma-smash-v2-l-sneakers-men/p/itmf5gvdnpu5skrw?pid=SHOF5G52Z5H6GWWZ&lid=LSTSHOF5G52Z5H6GWWZZYCPUG&marketplace=FLIPKART&q=sneakers&store=osp%2Fcil%2Fe1f&srno=s_3_106&otracker=search&otracker1=search&fm=organic&iid=83f6ba7e-ba82-4cad-9772-e7dfa0351206.SHOF5G52Z5H6GWWZ.SEARCH&ppt=None&ppn=None&ssid=mnflysi3340000001634376236325&qH=a1743c0d39461290',\n",
       " 'https://www.flipkart.com/puma-x-ray-millenium-sneakers-men/p/itmb40311191888e?pid=SHOG4JEY2JWRMDTJ&lid=LSTSHOG4JEY2JWRMDTJRPXFNP&marketplace=FLIPKART&q=sneakers&store=osp%2Fcil%2Fe1f&srno=s_3_107&otracker=search&otracker1=search&fm=organic&iid=83f6ba7e-ba82-4cad-9772-e7dfa0351206.SHOG4JEY2JWRMDTJ.SEARCH&ppt=None&ppn=None&ssid=mnflysi3340000001634376236325&qH=a1743c0d39461290',\n",
       " 'https://www.flipkart.com/magnolia-white-sneakers-men/p/itmf7n8d9pspsdvp?pid=SHOF7NYRUSGVHDYU&lid=LSTSHOF7NYRUSGVHDYUFU7LNU&marketplace=FLIPKART&q=sneakers&store=osp%2Fcil%2Fe1f&srno=s_3_108&otracker=search&otracker1=search&fm=organic&iid=en_AhVfnK8e67aftMBSQ0LxCsnfeXiO0cKLN0A%2FwVd5G6cVDdQws17Z%2FkGyND%2FvxAS15JB6y4i4Xna9BL%2FW8Sp5Qg%3D%3D&ppt=None&ppn=None&ssid=mnflysi3340000001634376236325&qH=a1743c0d39461290',\n",
       " 'https://www.flipkart.com/ganpati-traders-sneakers-men/p/itm6183d9fdb1312?pid=SHOFXYZMUTTGQYK3&lid=LSTSHOFXYZMUTTGQYK3OYY9IK&marketplace=FLIPKART&q=sneakers&store=osp%2Fcil%2Fe1f&srno=s_3_109&otracker=search&otracker1=search&fm=organic&iid=83f6ba7e-ba82-4cad-9772-e7dfa0351206.SHOFXYZMUTTGQYK3.SEARCH&ppt=None&ppn=None&ssid=mnflysi3340000001634376236325&qH=a1743c0d39461290',\n",
       " 'https://www.flipkart.com/bruton-combo-pack-2-sports-running-lightweight-shoes-sneakers-men/p/itmfa0f1a21fe272?pid=SHOFXBGSNDBFEXVM&lid=LSTSHOFXBGSNDBFEXVML5NVRR&marketplace=FLIPKART&q=sneakers&store=osp%2Fcil%2Fe1f&srno=s_3_110&otracker=search&otracker1=search&fm=organic&iid=83f6ba7e-ba82-4cad-9772-e7dfa0351206.SHOFXBGSNDBFEXVM.SEARCH&ppt=None&ppn=None&ssid=mnflysi3340000001634376236325&qH=a1743c0d39461290',\n",
       " 'https://www.flipkart.com/englewood-sneakers-men/p/itm81d3601cc838e?pid=SHOFXBNAU5SZZA8Z&lid=LSTSHOFXBNAU5SZZA8ZPNUX1A&marketplace=FLIPKART&q=sneakers&store=osp%2Fcil%2Fe1f&srno=s_3_111&otracker=search&otracker1=search&fm=organic&iid=83f6ba7e-ba82-4cad-9772-e7dfa0351206.SHOFXBNAU5SZZA8Z.SEARCH&ppt=None&ppn=None&ssid=mnflysi3340000001634376236325&qH=a1743c0d39461290',\n",
       " 'https://www.flipkart.com/puma-x-ray-2-square-sneakers-men/p/itmd9b0267f0b513?pid=SHOG4JEY3Z6JBNG9&lid=LSTSHOG4JEY3Z6JBNG9VRTHCP&marketplace=FLIPKART&q=sneakers&store=osp%2Fcil%2Fe1f&srno=s_3_112&otracker=search&otracker1=search&fm=organic&iid=en_AhVfnK8e67aftMBSQ0LxCsnfeXiO0cKLN0A%2FwVd5G6fRltlATLJ7ZeveAbmiArBdDsOGyr8gDIXXVNzXLNDDCw%3D%3D&ppt=None&ppn=None&ssid=mnflysi3340000001634376236325&qH=a1743c0d39461290',\n",
       " 'https://www.flipkart.com/robbie-jones-sneakers-men/p/itme831dc6090a19?pid=SHOG5FA5JGDKDR9Q&lid=LSTSHOG5FA5JGDKDR9QB0X6C9&marketplace=FLIPKART&q=sneakers&store=osp%2Fcil%2Fe1f&srno=s_3_113&otracker=search&otracker1=search&fm=organic&iid=83f6ba7e-ba82-4cad-9772-e7dfa0351206.SHOG5FA5JGDKDR9Q.SEARCH&ppt=None&ppn=None&ssid=mnflysi3340000001634376236325&qH=a1743c0d39461290',\n",
       " 'https://www.flipkart.com/mannu-luxury-fashionable-breathable-casual-sneakers-shoes-men-boy/p/itmb4a131ce51f3f?pid=SHOG4WYM4HHVFVZB&lid=LSTSHOG4WYM4HHVFVZBOZST9V&marketplace=FLIPKART&q=sneakers&store=osp%2Fcil%2Fe1f&srno=s_3_114&otracker=search&otracker1=search&fm=organic&iid=83f6ba7e-ba82-4cad-9772-e7dfa0351206.SHOG4WYM4HHVFVZB.SEARCH&ppt=None&ppn=None&ssid=mnflysi3340000001634376236325&qH=a1743c0d39461290',\n",
       " 'https://www.flipkart.com/india-hub-sneakers-men/p/itm899a0df400f5c?pid=SHOG56HCTQPGWH6W&lid=LSTSHOG56HCTQPGWH6WLFEDR1&marketplace=FLIPKART&q=sneakers&store=osp%2Fcil%2Fe1f&srno=s_3_115&otracker=search&otracker1=search&fm=organic&iid=83f6ba7e-ba82-4cad-9772-e7dfa0351206.SHOG56HCTQPGWH6W.SEARCH&ppt=None&ppn=None&ssid=mnflysi3340000001634376236325&qH=a1743c0d39461290',\n",
       " 'https://www.flipkart.com/chevit-super-stylish-trendy-combo-pack-02-pairs-sneakers-outdoor-loafer-sports-running-rock-climbing-gym-shoes-men/p/itmfce3a6f2183d4?pid=SHOGFVTAG39Y7ZHY&lid=LSTSHOGFVTAG39Y7ZHYPHBMOZ&marketplace=FLIPKART&q=sneakers&store=osp%2Fcil%2Fe1f&srno=s_3_116&otracker=search&otracker1=search&fm=organic&iid=en_AhVfnK8e67aftMBSQ0LxCsnfeXiO0cKLN0A%2FwVd5G6cdS%2FtRJSs0r%2BbQ9VMw%2BEjmY%2Fd0%2FFqlKcwbWe9%2BqjkI0A%3D%3D&ppt=None&ppn=None&ssid=mnflysi3340000001634376236325&qH=a1743c0d39461290',\n",
       " 'https://www.flipkart.com/birde-trendy-casual-shoes-sneakers-men/p/itm0ae2783e268a4?pid=SHOG4ADYHRGRGQHU&lid=LSTSHOG4ADYHRGRGQHUSCRGDB&marketplace=FLIPKART&q=sneakers&store=osp%2Fcil%2Fe1f&srno=s_3_117&otracker=search&otracker1=search&fm=organic&iid=83f6ba7e-ba82-4cad-9772-e7dfa0351206.SHOG4ADYHRGRGQHU.SEARCH&ppt=None&ppn=None&ssid=mnflysi3340000001634376236325&qH=a1743c0d39461290',\n",
       " 'https://www.flipkart.com/sparx-sm439g-sneakers-men/p/itm798025ba722d1?pid=SHOFP4PU2BGANQM7&lid=LSTSHOFP4PU2BGANQM7LQM1OB&marketplace=FLIPKART&q=sneakers&store=osp%2Fcil%2Fe1f&srno=s_3_118&otracker=search&otracker1=search&fm=organic&iid=83f6ba7e-ba82-4cad-9772-e7dfa0351206.SHOFP4PU2BGANQM7.SEARCH&ppt=None&ppn=None&ssid=mnflysi3340000001634376236325&qH=a1743c0d39461290',\n",
       " 'https://www.flipkart.com/essence-trendy-sneakers-men/p/itm7398325f32c18?pid=SHOFVXKTGVZGXAG4&lid=LSTSHOFVXKTGVZGXAG4SSDDEP&marketplace=FLIPKART&q=sneakers&store=osp%2Fcil%2Fe1f&srno=s_3_119&otracker=search&otracker1=search&fm=organic&iid=83f6ba7e-ba82-4cad-9772-e7dfa0351206.SHOFVXKTGVZGXAG4.SEARCH&ppt=None&ppn=None&ssid=mnflysi3340000001634376236325&qH=a1743c0d39461290',\n",
       " 'https://www.flipkart.com/puma-x-1der-kl-rahul-sneakers-men/p/itmdc27009c66a28?pid=SHOG4JDZZECRXHKH&lid=LSTSHOG4JDZZECRXHKH7MTVGW&marketplace=FLIPKART&q=sneakers&store=osp%2Fcil%2Fe1f&srno=s_3_120&otracker=search&otracker1=search&fm=organic&iid=en_AhVfnK8e67aftMBSQ0LxCsnfeXiO0cKLN0A%2FwVd5G6fpkhR7fWEVznw%2FOidklkl0Nwhgi8fFvQtUFdWe4vgDTQ%3D%3D&ppt=None&ppn=None&ssid=mnflysi3340000001634376236325&qH=a1743c0d39461290']"
      ]
     },
     "execution_count": 458,
     "metadata": {},
     "output_type": "execute_result"
    }
   ],
   "source": [
    "from selenium.common.exceptions import NoSuchElementException\n",
    "#scrapping all product urls \n",
    "product_url = []\n",
    "for i in URL_list8:\n",
    "    driver.get(i)\n",
    "    url=driver.find_elements_by_xpath(\"//a[@class='_2UzuFa']\")\n",
    "    for i in url: \n",
    "        product_url.append(i.get_attribute('href'))\n",
    "product_url"
   ]
  },
  {
   "cell_type": "code",
   "execution_count": 460,
   "metadata": {},
   "outputs": [
    {
     "data": {
      "text/plain": [
       "['64% off',\n",
       " '60% off',\n",
       " '47% off',\n",
       " '20% off',\n",
       " '75% off',\n",
       " '60% off',\n",
       " '85% off',\n",
       " '11% off',\n",
       " '62% off',\n",
       " '69% off',\n",
       " '69% off',\n",
       " '64% off',\n",
       " '70% off',\n",
       " '65% off',\n",
       " '52% off',\n",
       " '35% off',\n",
       " '55% off',\n",
       " '50% off',\n",
       " '20% off',\n",
       " '63% off',\n",
       " '58% off',\n",
       " '75% off',\n",
       " '50% off',\n",
       " '65% off',\n",
       " '58% off',\n",
       " '37% off',\n",
       " '66% off',\n",
       " '51% off',\n",
       " '72% off',\n",
       " '50% off',\n",
       " '55% off',\n",
       " '56% off',\n",
       " '48% off',\n",
       " '54% off',\n",
       " '50% off',\n",
       " '30% off',\n",
       " '57% off',\n",
       " '60% off',\n",
       " '52% off',\n",
       " '40% off',\n",
       " '78% off',\n",
       " '60% off',\n",
       " '66% off',\n",
       " '64% off',\n",
       " '79% off',\n",
       " '60% off',\n",
       " '50% off',\n",
       " '11% off',\n",
       " '56% off',\n",
       " '56% off',\n",
       " '61% off',\n",
       " '60% off',\n",
       " '52% off',\n",
       " '78% off',\n",
       " '63% off',\n",
       " '64% off',\n",
       " '44% off',\n",
       " '50% off',\n",
       " '70% off',\n",
       " '35% off',\n",
       " '52% off',\n",
       " '66% off',\n",
       " '80% off',\n",
       " '63% off',\n",
       " '24% off',\n",
       " '15% off',\n",
       " '47% off',\n",
       " '65% off',\n",
       " '47% off',\n",
       " '54% off',\n",
       " '50% off',\n",
       " '51% off',\n",
       " '59% off',\n",
       " '15% off',\n",
       " '71% off',\n",
       " '30% off',\n",
       " '69% off',\n",
       " '70% off',\n",
       " '50% off',\n",
       " '66% off',\n",
       " '37% off',\n",
       " '47% off',\n",
       " '58% off',\n",
       " '64% off',\n",
       " '77% off',\n",
       " '44% off',\n",
       " '52% off',\n",
       " '11% off',\n",
       " '56% off',\n",
       " '60% off',\n",
       " '7% off',\n",
       " '60% off',\n",
       " '62% off',\n",
       " '58% off',\n",
       " '69% off',\n",
       " '64% off',\n",
       " '75% off',\n",
       " '66% off',\n",
       " '62% off',\n",
       " '35% off',\n",
       " '33% off',\n",
       " '16% off',\n",
       " '25% off',\n",
       " '63% off',\n",
       " '75% off',\n",
       " '44% off',\n",
       " '47% off',\n",
       " '65% off',\n",
       " '63% off',\n",
       " '80% off',\n",
       " '68% off',\n",
       " '51% off',\n",
       " '55% off',\n",
       " '60% off',\n",
       " '65% off',\n",
       " '56% off',\n",
       " '20% off',\n",
       " '10% off',\n",
       " '50% off',\n",
       " '30% off']"
      ]
     },
     "execution_count": 460,
     "metadata": {},
     "output_type": "execute_result"
    }
   ],
   "source": [
    "discount = []\n",
    "for product in product_url:\n",
    "    driver.get(product)\n",
    "    try:\n",
    "        disc=driver.find_element_by_xpath('//div[@class=\"_3Ay6Sb _31Dcoz pZkvcx\"]')# scraping the discount from the absolute xpath\n",
    "        discount.append(disc.text)\n",
    "    except NoSuchElementException:\n",
    "        discount.append(\"No Discount\")\n",
    "discount"
   ]
  },
  {
   "cell_type": "code",
   "execution_count": 461,
   "metadata": {
    "scrolled": true
   },
   "outputs": [
    {
     "data": {
      "text/html": [
       "<div>\n",
       "<style scoped>\n",
       "    .dataframe tbody tr th:only-of-type {\n",
       "        vertical-align: middle;\n",
       "    }\n",
       "\n",
       "    .dataframe tbody tr th {\n",
       "        vertical-align: top;\n",
       "    }\n",
       "\n",
       "    .dataframe thead th {\n",
       "        text-align: right;\n",
       "    }\n",
       "</style>\n",
       "<table border=\"1\" class=\"dataframe\">\n",
       "  <thead>\n",
       "    <tr style=\"text-align: right;\">\n",
       "      <th></th>\n",
       "      <th>Brand</th>\n",
       "      <th>Description</th>\n",
       "      <th>Discount</th>\n",
       "      <th>Price</th>\n",
       "    </tr>\n",
       "  </thead>\n",
       "  <tbody>\n",
       "    <tr>\n",
       "      <th>1</th>\n",
       "      <td>Chevit</td>\n",
       "      <td>Combo Pack of 4 Casual Sneakers With Sneakers ...</td>\n",
       "      <td>64% off</td>\n",
       "      <td>₹699</td>\n",
       "    </tr>\n",
       "    <tr>\n",
       "      <th>2</th>\n",
       "      <td>Chevit</td>\n",
       "      <td>Unique &amp; Perfect Collection Combo Pack of 02 S...</td>\n",
       "      <td>60% off</td>\n",
       "      <td>₹599</td>\n",
       "    </tr>\n",
       "    <tr>\n",
       "      <th>3</th>\n",
       "      <td>D-SNEAKERZ</td>\n",
       "      <td>Casual , Partywear Sneakers Shoes For Men's An...</td>\n",
       "      <td>47% off</td>\n",
       "      <td>₹348</td>\n",
       "    </tr>\n",
       "    <tr>\n",
       "      <th>4</th>\n",
       "      <td>BIRDE</td>\n",
       "      <td>Birde Trendy Casual Shoes Sneakers For Men</td>\n",
       "      <td>20% off</td>\n",
       "      <td>₹399</td>\n",
       "    </tr>\n",
       "    <tr>\n",
       "      <th>5</th>\n",
       "      <td>Numenzo</td>\n",
       "      <td>411 Casual Sneakers For Men</td>\n",
       "      <td>75% off</td>\n",
       "      <td>₹499</td>\n",
       "    </tr>\n",
       "    <tr>\n",
       "      <th>...</th>\n",
       "      <td>...</td>\n",
       "      <td>...</td>\n",
       "      <td>...</td>\n",
       "      <td>...</td>\n",
       "    </tr>\n",
       "    <tr>\n",
       "      <th>96</th>\n",
       "      <td>Bavis</td>\n",
       "      <td>White Sneaker For Men's/Boy's Sneakers For Men</td>\n",
       "      <td>64% off</td>\n",
       "      <td>₹357</td>\n",
       "    </tr>\n",
       "    <tr>\n",
       "      <th>97</th>\n",
       "      <td>Chevit</td>\n",
       "      <td>Sneakers For Men</td>\n",
       "      <td>75% off</td>\n",
       "      <td>₹499</td>\n",
       "    </tr>\n",
       "    <tr>\n",
       "      <th>98</th>\n",
       "      <td>T-ROCK</td>\n",
       "      <td>Sneakers For Men</td>\n",
       "      <td>66% off</td>\n",
       "      <td>₹1,799</td>\n",
       "    </tr>\n",
       "    <tr>\n",
       "      <th>99</th>\n",
       "      <td>NAUTICA</td>\n",
       "      <td>Synthetic Leather Casual Partywear Wedding Sne...</td>\n",
       "      <td>62% off</td>\n",
       "      <td>₹379</td>\n",
       "    </tr>\n",
       "    <tr>\n",
       "      <th>100</th>\n",
       "      <td>Paragon</td>\n",
       "      <td>White Sneakers Sneakers For Men</td>\n",
       "      <td>35% off</td>\n",
       "      <td>₹584</td>\n",
       "    </tr>\n",
       "  </tbody>\n",
       "</table>\n",
       "<p>100 rows × 4 columns</p>\n",
       "</div>"
      ],
      "text/plain": [
       "          Brand                                        Description Discount  \\\n",
       "1        Chevit  Combo Pack of 4 Casual Sneakers With Sneakers ...  64% off   \n",
       "2        Chevit  Unique & Perfect Collection Combo Pack of 02 S...  60% off   \n",
       "3    D-SNEAKERZ  Casual , Partywear Sneakers Shoes For Men's An...  47% off   \n",
       "4         BIRDE         Birde Trendy Casual Shoes Sneakers For Men  20% off   \n",
       "5       Numenzo                        411 Casual Sneakers For Men  75% off   \n",
       "..          ...                                                ...      ...   \n",
       "96        Bavis     White Sneaker For Men's/Boy's Sneakers For Men  64% off   \n",
       "97       Chevit                                   Sneakers For Men  75% off   \n",
       "98       T-ROCK                                   Sneakers For Men  66% off   \n",
       "99      NAUTICA  Synthetic Leather Casual Partywear Wedding Sne...  62% off   \n",
       "100     Paragon                    White Sneakers Sneakers For Men  35% off   \n",
       "\n",
       "      Price  \n",
       "1      ₹699  \n",
       "2      ₹599  \n",
       "3      ₹348  \n",
       "4      ₹399  \n",
       "5      ₹499  \n",
       "..      ...  \n",
       "96     ₹357  \n",
       "97     ₹499  \n",
       "98   ₹1,799  \n",
       "99     ₹379  \n",
       "100    ₹584  \n",
       "\n",
       "[100 rows x 4 columns]"
      ]
     },
     "execution_count": 461,
     "metadata": {},
     "output_type": "execute_result"
    }
   ],
   "source": [
    "Flipkart2=pd.DataFrame({})\n",
    "Flipkart2['Brand']=Brand8[0:100]\n",
    "Flipkart2['Description']=Description8[0:100]\n",
    "Flipkart2['Discount']=discount[0:100]\n",
    "Flipkart2['Price']=Price8[0:100]\n",
    "Flipkart2.index = np.arange(1, len(Flipkart2)+1)\n",
    "Flipkart2[0:100]"
   ]
  },
  {
   "cell_type": "code",
   "execution_count": 462,
   "metadata": {},
   "outputs": [],
   "source": [
    "driver.close()"
   ]
  },
  {
   "cell_type": "markdown",
   "metadata": {},
   "source": [
    "# Q9: Go to the link - https://www.myntra.com/shoes\n",
    "Set Price filter to “Rs. 6649 to Rs. 13099” , Color filter to “Black”, as shown in the below image\n",
    "And then scrape First 100 shoes data you get. The data should include “Brand” of the shoes , Short Shoe description, price of the shoe as shown in the below image.\n",
    "Please note that applying the filter and scraping the data , everything should be done through code only and there should not be any manual step."
   ]
  },
  {
   "cell_type": "code",
   "execution_count": 514,
   "metadata": {},
   "outputs": [
    {
     "data": {
      "text/plain": [
       "<selenium.webdriver.chrome.webdriver.WebDriver (session=\"95e8280d03668529ec1cc0c29d3241f6\")>"
      ]
     },
     "execution_count": 514,
     "metadata": {},
     "output_type": "execute_result"
    }
   ],
   "source": [
    "driver = webdriver.Chrome(executable_path='/Users/rahulmore/chromedriver')\n",
    "driver"
   ]
  },
  {
   "cell_type": "code",
   "execution_count": 515,
   "metadata": {},
   "outputs": [],
   "source": [
    "url9 = driver.get('https://www.myntra.com/shoes')\n",
    "url9\n",
    "driver.maximize_window()\n",
    "time.sleep(5)"
   ]
  },
  {
   "cell_type": "code",
   "execution_count": 516,
   "metadata": {},
   "outputs": [],
   "source": [
    "filter_button = driver.find_element_by_xpath('//ul[@class = \"price-list\"]/li[2]/label/div')\n",
    "filter_button.click()\n",
    "time.sleep(3)\n",
    "\n",
    "filter_button2 =driver.find_element_by_xpath('//li[@class=\"colour-listItem\"]/label/div')\n",
    "filter_button2.click()"
   ]
  },
  {
   "cell_type": "code",
   "execution_count": 517,
   "metadata": {},
   "outputs": [
    {
     "data": {
      "text/plain": [
       "['https://www.myntra.com/shoes?f=Color%3ABlack_36454f&rf=Price%3A6897.0_13595.0_6897.0%20TO%2013595.0',\n",
       " 'https://www.myntra.com/shoes?f=Color%3ABlack_36454f&p=2&rf=Price%3A6897.0_13595.0_6897.0%20TO%2013595.0']"
      ]
     },
     "execution_count": 517,
     "metadata": {},
     "output_type": "execute_result"
    }
   ],
   "source": [
    "URL_List = ['https://www.myntra.com/shoes?f=Color%3ABlack_36454f&rf=Price%3A6897.0_13595.0_6897.0%20TO%2013595.0','https://www.myntra.com/shoes?f=Color%3ABlack_36454f&p=2&rf=Price%3A6897.0_13595.0_6897.0%20TO%2013595.0']\n",
    "URL_List"
   ]
  },
  {
   "cell_type": "code",
   "execution_count": 518,
   "metadata": {},
   "outputs": [
    {
     "data": {
      "text/plain": [
       "['ALDO',\n",
       " 'ALDO',\n",
       " 'Puma',\n",
       " 'PUMA Motorsport',\n",
       " 'Puma',\n",
       " 'Hush Puppies',\n",
       " 'Puma',\n",
       " 'ASICS',\n",
       " 'Hush Puppies',\n",
       " 'UNDER ARMOUR',\n",
       " 'Puma',\n",
       " 'ROSSO BRUNELLO',\n",
       " 'Puma',\n",
       " 'FORCLAZ By Decathlon',\n",
       " 'PUMA Motorsport',\n",
       " 'Hush Puppies',\n",
       " 'UNDER ARMOUR',\n",
       " 'J.FONTINI',\n",
       " 'Puma',\n",
       " 'UNDER ARMOUR',\n",
       " 'Puma',\n",
       " 'UNDER ARMOUR',\n",
       " 'Nike',\n",
       " 'Bugatti',\n",
       " 'Geox',\n",
       " 'Kalenji By Decathlon',\n",
       " 'Puma',\n",
       " 'UNDER ARMOUR',\n",
       " 'UNDER ARMOUR',\n",
       " 'Puma',\n",
       " 'DAVINCHI',\n",
       " 'Hush Puppies',\n",
       " 'Saint G',\n",
       " 'ASICS',\n",
       " 'Cole Haan',\n",
       " 'J.FONTINI',\n",
       " 'Puma',\n",
       " 'Hush Puppies',\n",
       " 'Geox',\n",
       " 'Puma',\n",
       " 'ASICS',\n",
       " 'Puma',\n",
       " 'Geox',\n",
       " 'KIPRUN By Decathlon',\n",
       " 'FILA',\n",
       " 'ASICS',\n",
       " 'ALDO',\n",
       " 'Heel & Buckle London',\n",
       " 'UNDER ARMOUR',\n",
       " 'UNDER ARMOUR',\n",
       " 'UNDER ARMOUR',\n",
       " 'Puma',\n",
       " 'ASICS',\n",
       " 'Cole Haan',\n",
       " 'Heel & Buckle London',\n",
       " 'Geox',\n",
       " 'Ruosh',\n",
       " 'VIONIC',\n",
       " 'Ruosh',\n",
       " 'ASICS',\n",
       " 'Heel & Buckle London',\n",
       " 'Ruosh',\n",
       " 'KLEAT',\n",
       " 'Geox',\n",
       " 'Bugatti',\n",
       " 'Bugatti',\n",
       " 'Ruosh',\n",
       " 'Ruosh',\n",
       " 'Hush Puppies',\n",
       " 'Geox',\n",
       " 'Geox',\n",
       " 'Geox',\n",
       " 'J.FONTINI',\n",
       " 'Geox',\n",
       " 'Geox',\n",
       " 'KLEAT',\n",
       " 'Geox',\n",
       " 'KLEAT',\n",
       " 'J.FONTINI',\n",
       " 'KLEAT',\n",
       " 'Hush Puppies',\n",
       " 'KLEAT',\n",
       " 'KLEAT',\n",
       " 'KLEAT',\n",
       " 'ROSSO BRUNELLO',\n",
       " 'KLEAT',\n",
       " 'KLEAT',\n",
       " 'KLEAT',\n",
       " 'DAVINCHI',\n",
       " 'Geox',\n",
       " 'J.FONTINI',\n",
       " 'Cole Haan',\n",
       " 'Cole Haan',\n",
       " 'DAVINCHI',\n",
       " 'Geox',\n",
       " 'Geox',\n",
       " 'J.FONTINI',\n",
       " 'DAVINCHI',\n",
       " 'DAVINCHI',\n",
       " 'Saint G']"
      ]
     },
     "execution_count": 518,
     "metadata": {},
     "output_type": "execute_result"
    }
   ],
   "source": [
    "Brand7 = []\n",
    "\n",
    "for i in URL_List:\n",
    "    driver.get(i)\n",
    "    try:\n",
    "        bran = driver.find_elements_by_xpath('//h3[@class = \"product-brand\"]')\n",
    "        for i in bran:\n",
    "            Brand7.append(i.text)\n",
    "    except:\n",
    "        pass\n",
    "    \n",
    "Brand7"
   ]
  },
  {
   "cell_type": "code",
   "execution_count": 519,
   "metadata": {
    "scrolled": true
   },
   "outputs": [
    {
     "data": {
      "text/plain": [
       "['Leather Solid Loafers',\n",
       " 'Men Driving Shoes',\n",
       " 'Men Jamming 2.0 Running Shoes',\n",
       " 'Unisex FerrariRS-Fast Sneakers',\n",
       " 'Men Deviate Nitro Running Shoe',\n",
       " 'Men Solid Leather Formal Slip-Ons',\n",
       " 'Unisex Mirage Remix Sneakers',\n",
       " 'Women GlideRide Running Shoes',\n",
       " 'Men Solid Leather Formal Slip-Ons',\n",
       " 'Women HOVR Sonic 4 Running',\n",
       " 'Men Liberate NITRO Running',\n",
       " 'Men Solid Leather Formal Monk Shoes',\n",
       " 'Men Magnify Nitro Running',\n",
       " 'TREKKING 100 Boots',\n",
       " 'Unisex BMW RS-Connect Sneakers',\n",
       " 'Men Leather Slip-On Sneakers',\n",
       " 'Women HOVR Sonic 4 FnRn',\n",
       " 'Men Solid Leather Formal Derbys',\n",
       " 'Unisex Leather Trainers',\n",
       " 'Men Charged Commit 3 Training',\n",
       " 'Women Eternity NITRO Shoes',\n",
       " 'Women Charged Rogue 2.5ClrSft',\n",
       " \"Men BlazerLow '77 Sneakers\",\n",
       " 'Men Walking Shoes',\n",
       " 'Leather Heeled Boots',\n",
       " 'Men KD500 Running Shoe',\n",
       " 'Women Magnify Nitro Shoes',\n",
       " 'Women Charged Assert 8 Running',\n",
       " 'Women Charged Bandit 6 Running',\n",
       " 'Unisex Running Shoes',\n",
       " 'Ustraa black',\n",
       " 'Men Formal Derbys',\n",
       " 'Men Mid-Top Chelsea Boots',\n",
       " 'Women NOVABLAST Road Running',\n",
       " 'Men GENERATION ZEROGRAND STITCHLITE',\n",
       " 'Men Textured Leather Loafers',\n",
       " 'Unisex Textured Sneakers',\n",
       " 'Men Leather Derbys',\n",
       " 'Men Leather Formal Derbys',\n",
       " 'Unisex Mirage Sport Trainers',\n",
       " 'Women GlideRide Running Shoes',\n",
       " 'Women UltraRide Running Shoes',\n",
       " 'Women Mid-Top Flat Boots',\n",
       " 'Women Running Shoes',\n",
       " 'Men Running Shoes',\n",
       " 'Women Running Shoes',\n",
       " 'Women Solid Leather Pumps',\n",
       " 'Women Peep Toe Heels',\n",
       " 'Women Charged Vantage ClrShft',\n",
       " 'Women Charged Impulse Shft',\n",
       " 'Women Charged Impulse Shft',\n",
       " 'Women Velocity NITRO Runners',\n",
       " 'Women GT-2000 9 Running Shoes',\n",
       " 'Men Wingtip Oxford Sneakers',\n",
       " 'Women Peep Toe Heels',\n",
       " 'Men Leather Mid-Top Flat Boots',\n",
       " 'Men Textured Leather Monks',\n",
       " 'Men Textured Sneakers',\n",
       " 'Men Leather Slip-On Shoes',\n",
       " 'Men Black Running Sports Shoes',\n",
       " 'Women Solid Leather Gladiators',\n",
       " 'Men Solid Leather Formal Oxfords',\n",
       " 'Men Woven Design Loafers',\n",
       " 'Men Leather Formal Slip-Ons',\n",
       " 'Men Sneakers',\n",
       " 'Black Casual Sneakers',\n",
       " 'Women High-Top Leather Heels',\n",
       " 'Men Solid Leather Formal Monks',\n",
       " 'Men Solid Leather Formal Derbys',\n",
       " 'Men Leather Formal Slip-Ons',\n",
       " 'Men Solid Sneakers',\n",
       " 'Men Printed Slip-On Sneakers',\n",
       " 'Men Formal Leather Brogues',\n",
       " 'Men Leather Flat Boots',\n",
       " 'Women Leather Pumps',\n",
       " 'Men Woven Design Sneakers',\n",
       " 'Women Quilted Leather Pumps',\n",
       " 'Men Woven Design Sneakers',\n",
       " 'Men Textured Leather Loafers',\n",
       " 'Men Textured Loafers',\n",
       " 'Men Solid Formal Slip-Ons',\n",
       " 'Men Suede Flat Boots',\n",
       " 'Men Printed Sneakers',\n",
       " 'Men Black Oxfords',\n",
       " 'Men Textured Leather Loafers',\n",
       " 'Men Solid Brogues',\n",
       " 'Men Black Mojaris',\n",
       " 'Men Solid Loafers',\n",
       " 'Men Formal Leather Slip-Ons',\n",
       " 'Women Ballerinas',\n",
       " 'Men Leather Driving Shoes',\n",
       " 'Women Open Toe Flats',\n",
       " 'Women Sneakers',\n",
       " 'Men Textured Formal Leather Oxfords',\n",
       " 'Women Leather Heeled Loafers',\n",
       " 'Women Solid Leather Ballerinas',\n",
       " 'Men Solid Loafers',\n",
       " 'Men Textured Formal Leather Loafers',\n",
       " 'Men Solid Leather Formal Derbys',\n",
       " 'Leather Block Peep Toes']"
      ]
     },
     "execution_count": 519,
     "metadata": {},
     "output_type": "execute_result"
    }
   ],
   "source": [
    "Short_Des = []\n",
    "\n",
    "for i in URL_List:\n",
    "    driver.get(i)\n",
    "    try:\n",
    "        SD = driver.find_elements_by_xpath('//h4[@class = \"product-product\"]')\n",
    "        for i in SD:\n",
    "            Short_Des.append(i.text)\n",
    "    except:\n",
    "        pass\n",
    "    \n",
    "Short_Des"
   ]
  },
  {
   "cell_type": "code",
   "execution_count": 520,
   "metadata": {
    "scrolled": true
   },
   "outputs": [
    {
     "data": {
      "text/plain": [
       "['Rs. 10499Rs. 14999(30% OFF)',\n",
       " 'Rs. 11199Rs. 15999(30% OFF)',\n",
       " 'Rs. 10399Rs. 12999(20% OFF)',\n",
       " 'Rs. 7999Rs. 9999(20% OFF)',\n",
       " 'Rs. 11999Rs. 14999(20% OFF)',\n",
       " 'Rs. 8099Rs. 8999(10% OFF)',\n",
       " 'Rs. 7199Rs. 8999(20% OFF)',\n",
       " 'Rs. 11199Rs. 13999(20% OFF)',\n",
       " 'Rs. 8999Rs. 9999(10% OFF)',\n",
       " 'Rs. 7149Rs. 10999(35% OFF)',\n",
       " 'Rs. 6999Rs. 9999(30% OFF)',\n",
       " 'Rs. 10799Rs. 11999(10% OFF)',\n",
       " 'Rs. 9099Rs. 12999(30% OFF)',\n",
       " 'Rs. 6999',\n",
       " 'Rs. 7999Rs. 9999(20% OFF)',\n",
       " 'Rs. 7999Rs. 9999(20% OFF)',\n",
       " 'Rs. 7149Rs. 10999(35% OFF)',\n",
       " 'Rs. 6990',\n",
       " 'Rs. 6999Rs. 9999(30% OFF)',\n",
       " 'Rs. 7999',\n",
       " 'Rs. 7799Rs. 12999(40% OFF)',\n",
       " 'Rs. 7999',\n",
       " 'Rs. 7195',\n",
       " 'Rs. 8999',\n",
       " 'Rs. 12999',\n",
       " 'Rs. 7773Rs. 8449(8% OFF)',\n",
       " 'Rs. 8449Rs. 12999(35% OFF)',\n",
       " 'Rs. 6999',\n",
       " 'Rs. 8999',\n",
       " 'Rs. 9999',\n",
       " 'Rs. 8990',\n",
       " 'Rs. 8999Rs. 9999(10% OFF)',\n",
       " 'Rs. 10900',\n",
       " 'Rs. 10399Rs. 12999(20% OFF)',\n",
       " 'Rs. 11999',\n",
       " 'Rs. 7999Rs. 9999(20% OFF)',\n",
       " 'Rs. 7999Rs. 9999(20% OFF)',\n",
       " 'Rs. 7199Rs. 7999(10% OFF)',\n",
       " 'Rs. 9999',\n",
       " 'Rs. 6999Rs. 9999(30% OFF)',\n",
       " 'Rs. 11199Rs. 13999(20% OFF)',\n",
       " 'Rs. 7990',\n",
       " 'Rs. 10999',\n",
       " 'Rs. 7006Rs. 7149(2% OFF)',\n",
       " 'Rs. 8499',\n",
       " 'Rs. 7199Rs. 8999(20% OFF)',\n",
       " 'Rs. 6999Rs. 9999(30% OFF)',\n",
       " 'Rs. 8999',\n",
       " 'Rs. 7999',\n",
       " 'Rs. 7499',\n",
       " 'Rs. 7499',\n",
       " 'Rs. 7149Rs. 10999(35% OFF)',\n",
       " 'Rs. 7199Rs. 11999(40% OFF)',\n",
       " 'Rs. 12999',\n",
       " 'Rs. 8900Rs. 8990(1% OFF)',\n",
       " 'Rs. 12999',\n",
       " 'Rs. 6990',\n",
       " 'Rs. 7039Rs. 10999(36% OFF)',\n",
       " 'Rs. 6990',\n",
       " 'Rs. 7199Rs. 7999(10% OFF)',\n",
       " 'Rs. 9890Rs. 9990(1% OFF)',\n",
       " 'Rs. 13490',\n",
       " 'Rs. 7999',\n",
       " 'Rs. 8999',\n",
       " 'Rs. 7999',\n",
       " 'Rs. 7499',\n",
       " 'Rs. 7910Rs. 7990(1% OFF)',\n",
       " 'Rs. 8990',\n",
       " 'Rs. 8999Rs. 9999(10% OFF)',\n",
       " 'Rs. 8994Rs. 14990(40% OFF)',\n",
       " 'Rs. 10999',\n",
       " 'Rs. 10999',\n",
       " 'Rs. 7490',\n",
       " 'Rs. 11999',\n",
       " 'Rs. 9999',\n",
       " 'Rs. 7999',\n",
       " 'Rs. 8999',\n",
       " 'Rs. 6999',\n",
       " 'Rs. 6990',\n",
       " 'Rs. 6999',\n",
       " 'Rs. 8999Rs. 9999(10% OFF)',\n",
       " 'Rs. 8999',\n",
       " 'Rs. 6999',\n",
       " 'Rs. 6999',\n",
       " 'Rs. 7990',\n",
       " 'Rs. 7999',\n",
       " 'Rs. 7999',\n",
       " 'Rs. 6999',\n",
       " 'Rs. 8990',\n",
       " 'Rs. 8999',\n",
       " 'Rs. 9899Rs. 10999(10% OFF)',\n",
       " 'Rs. 11999',\n",
       " 'Rs. 12999',\n",
       " 'Rs. 7990',\n",
       " 'Rs. 8999',\n",
       " 'Rs. 8999',\n",
       " 'Rs. 8990',\n",
       " 'Rs. 8990',\n",
       " 'Rs. 8990',\n",
       " 'Rs. 9975Rs. 10500(5% OFF)']"
      ]
     },
     "execution_count": 520,
     "metadata": {},
     "output_type": "execute_result"
    }
   ],
   "source": [
    "Price9 = []\n",
    "\n",
    "for i in URL_List:\n",
    "    driver.get(i)\n",
    "    try:\n",
    "        P = driver.find_elements_by_xpath(\"//div[@class='product-price']\")\n",
    "        for i in P:\n",
    "            Price9.append(i.text)\n",
    "    except:\n",
    "            Price9.append('-')\n",
    "    \n",
    "Price9"
   ]
  },
  {
   "cell_type": "code",
   "execution_count": 521,
   "metadata": {},
   "outputs": [
    {
     "data": {
      "text/html": [
       "<div>\n",
       "<style scoped>\n",
       "    .dataframe tbody tr th:only-of-type {\n",
       "        vertical-align: middle;\n",
       "    }\n",
       "\n",
       "    .dataframe tbody tr th {\n",
       "        vertical-align: top;\n",
       "    }\n",
       "\n",
       "    .dataframe thead th {\n",
       "        text-align: right;\n",
       "    }\n",
       "</style>\n",
       "<table border=\"1\" class=\"dataframe\">\n",
       "  <thead>\n",
       "    <tr style=\"text-align: right;\">\n",
       "      <th></th>\n",
       "      <th>Brand</th>\n",
       "      <th>Short Description</th>\n",
       "      <th>Price</th>\n",
       "    </tr>\n",
       "  </thead>\n",
       "  <tbody>\n",
       "    <tr>\n",
       "      <th>1</th>\n",
       "      <td>ALDO</td>\n",
       "      <td>Leather Solid Loafers</td>\n",
       "      <td>Rs. 10499Rs. 14999(30% OFF)</td>\n",
       "    </tr>\n",
       "    <tr>\n",
       "      <th>2</th>\n",
       "      <td>ALDO</td>\n",
       "      <td>Men Driving Shoes</td>\n",
       "      <td>Rs. 11199Rs. 15999(30% OFF)</td>\n",
       "    </tr>\n",
       "    <tr>\n",
       "      <th>3</th>\n",
       "      <td>Puma</td>\n",
       "      <td>Men Jamming 2.0 Running Shoes</td>\n",
       "      <td>Rs. 10399Rs. 12999(20% OFF)</td>\n",
       "    </tr>\n",
       "    <tr>\n",
       "      <th>4</th>\n",
       "      <td>PUMA Motorsport</td>\n",
       "      <td>Unisex FerrariRS-Fast Sneakers</td>\n",
       "      <td>Rs. 7999Rs. 9999(20% OFF)</td>\n",
       "    </tr>\n",
       "    <tr>\n",
       "      <th>5</th>\n",
       "      <td>Puma</td>\n",
       "      <td>Men Deviate Nitro Running Shoe</td>\n",
       "      <td>Rs. 11999Rs. 14999(20% OFF)</td>\n",
       "    </tr>\n",
       "    <tr>\n",
       "      <th>...</th>\n",
       "      <td>...</td>\n",
       "      <td>...</td>\n",
       "      <td>...</td>\n",
       "    </tr>\n",
       "    <tr>\n",
       "      <th>96</th>\n",
       "      <td>Geox</td>\n",
       "      <td>Women Solid Leather Ballerinas</td>\n",
       "      <td>Rs. 8999</td>\n",
       "    </tr>\n",
       "    <tr>\n",
       "      <th>97</th>\n",
       "      <td>J.FONTINI</td>\n",
       "      <td>Men Solid Loafers</td>\n",
       "      <td>Rs. 8990</td>\n",
       "    </tr>\n",
       "    <tr>\n",
       "      <th>98</th>\n",
       "      <td>DAVINCHI</td>\n",
       "      <td>Men Textured Formal Leather Loafers</td>\n",
       "      <td>Rs. 8990</td>\n",
       "    </tr>\n",
       "    <tr>\n",
       "      <th>99</th>\n",
       "      <td>DAVINCHI</td>\n",
       "      <td>Men Solid Leather Formal Derbys</td>\n",
       "      <td>Rs. 8990</td>\n",
       "    </tr>\n",
       "    <tr>\n",
       "      <th>100</th>\n",
       "      <td>Saint G</td>\n",
       "      <td>Leather Block Peep Toes</td>\n",
       "      <td>Rs. 9975Rs. 10500(5% OFF)</td>\n",
       "    </tr>\n",
       "  </tbody>\n",
       "</table>\n",
       "<p>100 rows × 3 columns</p>\n",
       "</div>"
      ],
      "text/plain": [
       "               Brand                    Short Description  \\\n",
       "1               ALDO                Leather Solid Loafers   \n",
       "2               ALDO                    Men Driving Shoes   \n",
       "3               Puma        Men Jamming 2.0 Running Shoes   \n",
       "4    PUMA Motorsport       Unisex FerrariRS-Fast Sneakers   \n",
       "5               Puma       Men Deviate Nitro Running Shoe   \n",
       "..               ...                                  ...   \n",
       "96              Geox       Women Solid Leather Ballerinas   \n",
       "97         J.FONTINI                    Men Solid Loafers   \n",
       "98          DAVINCHI  Men Textured Formal Leather Loafers   \n",
       "99          DAVINCHI      Men Solid Leather Formal Derbys   \n",
       "100          Saint G              Leather Block Peep Toes   \n",
       "\n",
       "                           Price  \n",
       "1    Rs. 10499Rs. 14999(30% OFF)  \n",
       "2    Rs. 11199Rs. 15999(30% OFF)  \n",
       "3    Rs. 10399Rs. 12999(20% OFF)  \n",
       "4      Rs. 7999Rs. 9999(20% OFF)  \n",
       "5    Rs. 11999Rs. 14999(20% OFF)  \n",
       "..                           ...  \n",
       "96                      Rs. 8999  \n",
       "97                      Rs. 8990  \n",
       "98                      Rs. 8990  \n",
       "99                      Rs. 8990  \n",
       "100    Rs. 9975Rs. 10500(5% OFF)  \n",
       "\n",
       "[100 rows x 3 columns]"
      ]
     },
     "execution_count": 521,
     "metadata": {},
     "output_type": "execute_result"
    }
   ],
   "source": [
    "myntra=pd.DataFrame({})\n",
    "myntra['Brand']=Brand7\n",
    "myntra['Short Description']=Short_Des\n",
    "myntra['Price']=Price9\n",
    "myntra.index = np.arange(1, len(myntra)+1)\n",
    "myntra"
   ]
  },
  {
   "cell_type": "code",
   "execution_count": 522,
   "metadata": {},
   "outputs": [],
   "source": [
    "driver.close()"
   ]
  },
  {
   "cell_type": "markdown",
   "metadata": {},
   "source": [
    "# Q10: Go to webpage https://www.amazon.in/\n",
    "Enter “Laptop” in the search field and then click the search icon.\n",
    "Then set CPU Type filter to “Intel Core i7” and “Intel Core i9” as shown in the below image:\n",
    "After setting the filters scrape first 10 laptops data. You have to scrape 3 attributes for each laptop:\n",
    "1. title\n",
    "2. Ratings\n",
    "3. Price\n",
    "As shown in the below image as the tick marked attributes."
   ]
  },
  {
   "cell_type": "code",
   "execution_count": 523,
   "metadata": {},
   "outputs": [
    {
     "data": {
      "text/plain": [
       "<selenium.webdriver.chrome.webdriver.WebDriver (session=\"1316242aca0e0556548084396a5253a5\")>"
      ]
     },
     "execution_count": 523,
     "metadata": {},
     "output_type": "execute_result"
    }
   ],
   "source": [
    "driver = webdriver.Chrome(executable_path='/Users/rahulmore/chromedriver')\n",
    "driver"
   ]
  },
  {
   "cell_type": "code",
   "execution_count": 524,
   "metadata": {},
   "outputs": [],
   "source": [
    "url10 = driver.get('https://www.amazon.in/')\n",
    "url10\n",
    "driver.maximize_window()\n",
    "time.sleep(5)"
   ]
  },
  {
   "cell_type": "code",
   "execution_count": 525,
   "metadata": {},
   "outputs": [],
   "source": [
    "search5 = driver.find_element_by_id('twotabsearchtextbox')\n",
    "search5.send_keys('Laptop')\n",
    "\n",
    "search6 = driver.find_element_by_id('nav-search-submit-button')\n",
    "search6.click()"
   ]
  },
  {
   "cell_type": "code",
   "execution_count": 526,
   "metadata": {},
   "outputs": [],
   "source": [
    "filter_button3 = driver.find_element_by_xpath('//li[@aria-label= \"Intel Core i7\"]/span/a/div/label/i')\n",
    "filter_button3.click()\n",
    "\n",
    "filter_button3 = driver.find_element_by_xpath('//li[@aria-label= \"Intel Core i9\"]/span/a/div/label/i')\n",
    "filter_button3.click()"
   ]
  },
  {
   "cell_type": "code",
   "execution_count": 527,
   "metadata": {},
   "outputs": [
    {
     "data": {
      "text/plain": [
       "['Fujitsu UH-X 11th Gen Intel i7 Core 13.3” (33.78cm) FHD IPS 400Nits Thin and Light Laptop (16GB/512GB SSD/Win10/Office/Iris Xe Graphics/Backlit Kb/ Fingerprint Reader/Black/878gms), 4ZR1D67596',\n",
       " 'Lenovo ThinkBook 15 Intel 11th Gen Core i7 15.6\" (39.62 cm) FHD IPS 300 nits Antiglare 100% sRGB Thin and Light Laptop (16GB/512GB SSD/Windows 10/MS Office/3 Yr Onsite Warranty/1.7 Kg), 20VEA0HHIH',\n",
       " 'Life Digital Laptop 15.6-inch (39.62 cms) (Intel Core i7, 4GB RAM, 256GB SSD, Windows 10), ZED AIR CX7',\n",
       " 'Mi Notebook Horizon Edition 14 Intel Core i7-10510U 10th Gen Thin and Light Laptop(8GB/512GB SSD/Windows 10/Nvidia MX350 2GB Graphics/Grey/1.35Kg)(Without Webcam) XMA1904-AF',\n",
       " 'Acer Nitro 5 11th Gen Intel Core i7-11800H 15.6\" (39.62cms) Full HD Gaming Laptop (16 GB/256GB SSD/1 TB HDD/Win 10/RTX 3050 Ti 4GB Graphics/144 Hz, Black, 2.4 kg/RGB Backlit Keyboard) AN515-57',\n",
       " 'HP Pavilion (2021) Intel 11th Gen Core i7 14 inches FHD Screen Thin & Light Laptop, 16 GB RAM, 1TB SSD, Iris Xe Graphics, Windows 10, MS Office, Backlit Keyboard, 1.41kg (14-dv0058TU), Silver',\n",
       " 'Lenovo IdeaPad S540 11th Gen Intel Core i7 13.3\" QHD IPS Thin & Light Laptop (16GB/512GB SSD/Windows 10/MS Office 2019/Intel Iris Xe Graphics/Iron Grey/1.28Kg), 82H1002CIN',\n",
       " 'Dell 14 (2021) i7-1195G7 2in1 Touch Screen Laptop, 16GB, 512GB SSD, Win 10 + MS Office, 14.0\" (35.56 cms) FHD Display, Backlit KB, FPR + Active Pen, Platinum Silver (Inspiron 5410, D560596WIN9S)',\n",
       " 'Lenovo ThinkBook 15 Intel 11th Gen Core i7 15.6\" (39.62 cm) FHD IPS 300 nits Antiglare 100% sRGB Thin and Light Laptop (16GB/512GB SSD/Windows 10/MS Office/3 Yr Onsite Warranty/1.7 Kg), 20VEA0HHIH',\n",
       " 'HP Pavilion 13(2021) 11th Gen Intel Core i7 Laptop, 16GB RAM, 1TB SSD, 13.3-inch(33.8 cm) FHD Screen, Win 10, MS Office, Ceramic White, 1.24 Kg (13-bb0078TU)']"
      ]
     },
     "execution_count": 527,
     "metadata": {},
     "output_type": "execute_result"
    }
   ],
   "source": [
    "pro = driver.find_elements_by_xpath('//span[@class = \"a-size-medium a-color-base a-text-normal\"]')\n",
    "\n",
    "Product = []\n",
    "for i in pro:\n",
    "    pr = i.text\n",
    "    Product.append(i.text)\n",
    "    \n",
    "Product[0:10]"
   ]
  },
  {
   "cell_type": "code",
   "execution_count": 528,
   "metadata": {},
   "outputs": [
    {
     "data": {
      "text/plain": [
       "['89,990',\n",
       " '84,990',\n",
       " '24,990',\n",
       " '53,990',\n",
       " '85,990',\n",
       " '84,990',\n",
       " '77,990',\n",
       " '89,990',\n",
       " '84,990',\n",
       " '91,990']"
      ]
     },
     "execution_count": 528,
     "metadata": {},
     "output_type": "execute_result"
    }
   ],
   "source": [
    "pri7 = driver.find_elements_by_xpath('//span[@class = \"a-price-whole\"]')\n",
    "\n",
    "Price10 = []\n",
    "for i in pri7:\n",
    "    pric = i.text\n",
    "    Price10.append(i.text)\n",
    "    \n",
    "Price10[0:10]"
   ]
  },
  {
   "cell_type": "code",
   "execution_count": 529,
   "metadata": {},
   "outputs": [
    {
     "data": {
      "text/plain": [
       "['https://www.amazon.in/gp/slredirect/picassoRedirect.html/ref=pa_sp_atf_computers_sr_pg1_1?ie=UTF8&adId=A097852726KR7DAH06NN1&url=%2FFujitsu-33-78cm-Graphics-Fingerprint-4ZR1D67596%2Fdp%2FB098P34QRL%2Fref%3Dsr_1_1_sspa%3Fdchild%3D1%26keywords%3DLaptop%26qid%3D1634377441%26refinements%3Dp_n_feature_thirteen_browse-bin%253A12598163031%257C16757432031%26rnid%3D12598141031%26s%3Dcomputers%26sr%3D1-1-spons%26psc%3D1&qualifier=1634377441&id=7608503234939677&widgetName=sp_atf',\n",
       " 'https://www.amazon.in/gp/slredirect/picassoRedirect.html/ref=pa_sp_atf_computers_sr_pg1_1?ie=UTF8&adId=A07831422XG3LWS75TAAF&url=%2FLenovo-ThinkBook-Antiglare-Warranty-20VEA0HHIH%2Fdp%2FB09GW2F4XV%2Fref%3Dsr_1_2_sspa%3Fdchild%3D1%26keywords%3DLaptop%26qid%3D1634377441%26refinements%3Dp_n_feature_thirteen_browse-bin%253A12598163031%257C16757432031%26rnid%3D12598141031%26s%3Dcomputers%26sr%3D1-2-spons%26psc%3D1&qualifier=1634377441&id=7608503234939677&widgetName=sp_atf',\n",
       " 'https://www.amazon.in/LifeDigital-Laptop-Intel%C2%AE-Storage-Windows/dp/B08HRMHZ8J/ref=sr_1_3?dchild=1&keywords=Laptop&qid=1634377441&qsid=262-4332242-8217445&refinements=p_n_feature_thirteen_browse-bin%3A12598163031%7C16757432031&rnid=12598141031&s=computers&sr=1-3&sres=B08HRMHZ8J%2CB089DFJHZ8%2CB09C8HZMW2%2CB08WB857GB%2CB094XJPQ6N%2CB09F3QKQH6%2CB09GW2F4XV%2CB09839P9XB%2CB098P34QRL%2CB09BDBCRNZ%2CB097TY6PTN%2CB098P4M233%2CB08CKRKTSY%2CB094XHDWWF%2CB09BJ7GD7B%2CB095C55Q7P%2CB09F3PCD31%2CB09G3CQXSD%2CB09DMYZW5Q%2CB09F3Q5GTR&srpt=NOTEBOOK_COMPUTER',\n",
       " 'https://www.amazon.in/Notebook-Horizon-i7-10510U-Graphics-XMA1904-AF/dp/B089DFJHZ8/ref=sr_1_4?dchild=1&keywords=Laptop&qid=1634377441&qsid=262-4332242-8217445&refinements=p_n_feature_thirteen_browse-bin%3A12598163031%7C16757432031&rnid=12598141031&s=computers&sr=1-4&sres=B08HRMHZ8J%2CB089DFJHZ8%2CB09C8HZMW2%2CB08WB857GB%2CB094XJPQ6N%2CB09F3QKQH6%2CB09GW2F4XV%2CB09839P9XB%2CB098P34QRL%2CB09BDBCRNZ%2CB097TY6PTN%2CB098P4M233%2CB08CKRKTSY%2CB094XHDWWF%2CB09BJ7GD7B%2CB095C55Q7P%2CB09F3PCD31%2CB09G3CQXSD%2CB09DMYZW5Q%2CB09F3Q5GTR&srpt=NOTEBOOK_COMPUTER',\n",
       " 'https://www.amazon.in/Acer-i7-11800H-39-62cms-Graphics-AN515-57/dp/B09C8HZMW2/ref=sr_1_5?dchild=1&keywords=Laptop&qid=1634377441&qsid=262-4332242-8217445&refinements=p_n_feature_thirteen_browse-bin%3A12598163031%7C16757432031&rnid=12598141031&s=computers&sr=1-5&sres=B08HRMHZ8J%2CB089DFJHZ8%2CB09C8HZMW2%2CB08WB857GB%2CB094XJPQ6N%2CB09F3QKQH6%2CB09GW2F4XV%2CB09839P9XB%2CB098P34QRL%2CB09BDBCRNZ%2CB097TY6PTN%2CB098P4M233%2CB08CKRKTSY%2CB094XHDWWF%2CB09BJ7GD7B%2CB095C55Q7P%2CB09F3PCD31%2CB09G3CQXSD%2CB09DMYZW5Q%2CB09F3Q5GTR&srpt=NOTEBOOK_COMPUTER',\n",
       " 'https://www.amazon.in/HP-Pavilion-Graphics-35-56cms-14-dv0058TU/dp/B08WB857GB/ref=sr_1_6?dchild=1&keywords=Laptop&qid=1634377441&qsid=262-4332242-8217445&refinements=p_n_feature_thirteen_browse-bin%3A12598163031%7C16757432031&rnid=12598141031&s=computers&sr=1-6&sres=B08HRMHZ8J%2CB089DFJHZ8%2CB09C8HZMW2%2CB08WB857GB%2CB094XJPQ6N%2CB09F3QKQH6%2CB09GW2F4XV%2CB09839P9XB%2CB098P34QRL%2CB09BDBCRNZ%2CB097TY6PTN%2CB098P4M233%2CB08CKRKTSY%2CB094XHDWWF%2CB09BJ7GD7B%2CB095C55Q7P%2CB09F3PCD31%2CB09G3CQXSD%2CB09DMYZW5Q%2CB09F3Q5GTR&srpt=NOTEBOOK_COMPUTER',\n",
       " 'https://www.amazon.in/Lenovo-IdeaPad-Windows-Graphics-82H1002CIN/dp/B094XJPQ6N/ref=sr_1_7?dchild=1&keywords=Laptop&qid=1634377441&qsid=262-4332242-8217445&refinements=p_n_feature_thirteen_browse-bin%3A12598163031%7C16757432031&rnid=12598141031&s=computers&sr=1-7&sres=B08HRMHZ8J%2CB089DFJHZ8%2CB09C8HZMW2%2CB08WB857GB%2CB094XJPQ6N%2CB09F3QKQH6%2CB09GW2F4XV%2CB09839P9XB%2CB098P34QRL%2CB09BDBCRNZ%2CB097TY6PTN%2CB098P4M233%2CB08CKRKTSY%2CB094XHDWWF%2CB09BJ7GD7B%2CB095C55Q7P%2CB09F3PCD31%2CB09G3CQXSD%2CB09DMYZW5Q%2CB09F3Q5GTR&srpt=NOTEBOOK_COMPUTER',\n",
       " 'https://www.amazon.in/Dell-i7-1195G7-Platinum-5410-D560596WIN9S/dp/B09F3QKQH6/ref=sr_1_8?dchild=1&keywords=Laptop&qid=1634377441&qsid=262-4332242-8217445&refinements=p_n_feature_thirteen_browse-bin%3A12598163031%7C16757432031&rnid=12598141031&s=computers&sr=1-8&sres=B08HRMHZ8J%2CB089DFJHZ8%2CB09C8HZMW2%2CB08WB857GB%2CB094XJPQ6N%2CB09F3QKQH6%2CB09GW2F4XV%2CB09839P9XB%2CB098P34QRL%2CB09BDBCRNZ%2CB097TY6PTN%2CB098P4M233%2CB08CKRKTSY%2CB094XHDWWF%2CB09BJ7GD7B%2CB095C55Q7P%2CB09F3PCD31%2CB09G3CQXSD%2CB09DMYZW5Q%2CB09F3Q5GTR&srpt=NOTEBOOK_COMPUTER',\n",
       " 'https://www.amazon.in/Lenovo-ThinkBook-Antiglare-Warranty-20VEA0HHIH/dp/B09GW2F4XV/ref=sr_1_9?dchild=1&keywords=Laptop&qid=1634377441&qsid=262-4332242-8217445&refinements=p_n_feature_thirteen_browse-bin%3A12598163031%7C16757432031&rnid=12598141031&s=computers&sr=1-9&sres=B08HRMHZ8J%2CB089DFJHZ8%2CB09C8HZMW2%2CB08WB857GB%2CB094XJPQ6N%2CB09F3QKQH6%2CB09GW2F4XV%2CB09839P9XB%2CB098P34QRL%2CB09BDBCRNZ%2CB097TY6PTN%2CB098P4M233%2CB08CKRKTSY%2CB094XHDWWF%2CB09BJ7GD7B%2CB095C55Q7P%2CB09F3PCD31%2CB09G3CQXSD%2CB09DMYZW5Q%2CB09F3Q5GTR&srpt=NOTEBOOK_COMPUTER',\n",
       " 'https://www.amazon.in/HP-Pavilion-13-3-inch-Ceramic-13-bb0078TU/dp/B09839P9XB/ref=sr_1_10?dchild=1&keywords=Laptop&qid=1634377441&qsid=262-4332242-8217445&refinements=p_n_feature_thirteen_browse-bin%3A12598163031%7C16757432031&rnid=12598141031&s=computers&sr=1-10&sres=B08HRMHZ8J%2CB089DFJHZ8%2CB09C8HZMW2%2CB08WB857GB%2CB094XJPQ6N%2CB09F3QKQH6%2CB09GW2F4XV%2CB09839P9XB%2CB098P34QRL%2CB09BDBCRNZ%2CB097TY6PTN%2CB098P4M233%2CB08CKRKTSY%2CB094XHDWWF%2CB09BJ7GD7B%2CB095C55Q7P%2CB09F3PCD31%2CB09G3CQXSD%2CB09DMYZW5Q%2CB09F3Q5GTR&srpt=NOTEBOOK_COMPUTER']"
      ]
     },
     "execution_count": 529,
     "metadata": {},
     "output_type": "execute_result"
    }
   ],
   "source": [
    "URL_list10 = driver.find_elements_by_xpath('//h2[@class = \"a-size-mini a-spacing-none a-color-base s-line-clamp-2\"]/a') \n",
    "URL_list10\n",
    "\n",
    "Ulist10 = []\n",
    "for i in URL_list10:\n",
    "    Ulist10.append(i.get_attribute('href'))\n",
    "Ulist10[0:10]"
   ]
  },
  {
   "cell_type": "code",
   "execution_count": 530,
   "metadata": {},
   "outputs": [
    {
     "data": {
      "text/plain": [
       "['4.4 out of 5',\n",
       " '4.4 out of 5',\n",
       " '3.3 out of 5',\n",
       " '4.2 out of 5',\n",
       " '3.9 out of 5',\n",
       " '4.3 out of 5',\n",
       " '4.3 out of 5',\n",
       " '4.4 out of 5',\n",
       " '4.5 out of 5',\n",
       " '4.4 out of 5',\n",
       " '3.6 out of 5',\n",
       " '4 out of 5',\n",
       " '4.2 out of 5',\n",
       " '4.3 out of 5',\n",
       " '4.5 out of 5',\n",
       " '4.1 out of 5',\n",
       " '3.7 out of 5',\n",
       " '4.8 out of 5',\n",
       " '4.3 out of 5',\n",
       " '5 out of 5',\n",
       " '4.3 out of 5',\n",
       " '4.4 out of 5',\n",
       " '4.2 out of 5',\n",
       " '3.6 out of 5',\n",
       " '4.6 out of 5',\n",
       " '4.1 out of 5']"
      ]
     },
     "execution_count": 530,
     "metadata": {},
     "output_type": "execute_result"
    }
   ],
   "source": [
    "rt = []\n",
    "\n",
    "for i in Ulist10:\n",
    "    driver.get(i)\n",
    "    try:\n",
    "        Q = driver.find_elements_by_xpath(\"//span[@class='a-size-medium a-color-base']\")\n",
    "        for i in Q:\n",
    "            rt.append(i.text)\n",
    "    except:\n",
    "        pass\n",
    "    \n",
    "rt"
   ]
  },
  {
   "cell_type": "code",
   "execution_count": 531,
   "metadata": {},
   "outputs": [
    {
     "data": {
      "text/html": [
       "<div>\n",
       "<style scoped>\n",
       "    .dataframe tbody tr th:only-of-type {\n",
       "        vertical-align: middle;\n",
       "    }\n",
       "\n",
       "    .dataframe tbody tr th {\n",
       "        vertical-align: top;\n",
       "    }\n",
       "\n",
       "    .dataframe thead th {\n",
       "        text-align: right;\n",
       "    }\n",
       "</style>\n",
       "<table border=\"1\" class=\"dataframe\">\n",
       "  <thead>\n",
       "    <tr style=\"text-align: right;\">\n",
       "      <th></th>\n",
       "      <th>Product</th>\n",
       "      <th>Price</th>\n",
       "      <th>Rating</th>\n",
       "    </tr>\n",
       "  </thead>\n",
       "  <tbody>\n",
       "    <tr>\n",
       "      <th>1</th>\n",
       "      <td>Fujitsu UH-X 11th Gen Intel i7 Core 13.3” (33....</td>\n",
       "      <td>89,990</td>\n",
       "      <td>4.4 out of 5</td>\n",
       "    </tr>\n",
       "    <tr>\n",
       "      <th>2</th>\n",
       "      <td>Lenovo ThinkBook 15 Intel 11th Gen Core i7 15....</td>\n",
       "      <td>84,990</td>\n",
       "      <td>4.4 out of 5</td>\n",
       "    </tr>\n",
       "    <tr>\n",
       "      <th>3</th>\n",
       "      <td>Life Digital Laptop 15.6-inch (39.62 cms) (Int...</td>\n",
       "      <td>24,990</td>\n",
       "      <td>3.3 out of 5</td>\n",
       "    </tr>\n",
       "    <tr>\n",
       "      <th>4</th>\n",
       "      <td>Mi Notebook Horizon Edition 14 Intel Core i7-1...</td>\n",
       "      <td>53,990</td>\n",
       "      <td>4.2 out of 5</td>\n",
       "    </tr>\n",
       "    <tr>\n",
       "      <th>5</th>\n",
       "      <td>Acer Nitro 5 11th Gen Intel Core i7-11800H 15....</td>\n",
       "      <td>85,990</td>\n",
       "      <td>3.9 out of 5</td>\n",
       "    </tr>\n",
       "    <tr>\n",
       "      <th>6</th>\n",
       "      <td>HP Pavilion (2021) Intel 11th Gen Core i7 14 i...</td>\n",
       "      <td>84,990</td>\n",
       "      <td>4.3 out of 5</td>\n",
       "    </tr>\n",
       "    <tr>\n",
       "      <th>7</th>\n",
       "      <td>Lenovo IdeaPad S540 11th Gen Intel Core i7 13....</td>\n",
       "      <td>77,990</td>\n",
       "      <td>4.3 out of 5</td>\n",
       "    </tr>\n",
       "    <tr>\n",
       "      <th>8</th>\n",
       "      <td>Dell 14 (2021) i7-1195G7 2in1 Touch Screen Lap...</td>\n",
       "      <td>89,990</td>\n",
       "      <td>4.4 out of 5</td>\n",
       "    </tr>\n",
       "    <tr>\n",
       "      <th>9</th>\n",
       "      <td>Lenovo ThinkBook 15 Intel 11th Gen Core i7 15....</td>\n",
       "      <td>84,990</td>\n",
       "      <td>4.5 out of 5</td>\n",
       "    </tr>\n",
       "    <tr>\n",
       "      <th>10</th>\n",
       "      <td>HP Pavilion 13(2021) 11th Gen Intel Core i7 La...</td>\n",
       "      <td>91,990</td>\n",
       "      <td>4.4 out of 5</td>\n",
       "    </tr>\n",
       "  </tbody>\n",
       "</table>\n",
       "</div>"
      ],
      "text/plain": [
       "                                              Product   Price        Rating\n",
       "1   Fujitsu UH-X 11th Gen Intel i7 Core 13.3” (33....  89,990  4.4 out of 5\n",
       "2   Lenovo ThinkBook 15 Intel 11th Gen Core i7 15....  84,990  4.4 out of 5\n",
       "3   Life Digital Laptop 15.6-inch (39.62 cms) (Int...  24,990  3.3 out of 5\n",
       "4   Mi Notebook Horizon Edition 14 Intel Core i7-1...  53,990  4.2 out of 5\n",
       "5   Acer Nitro 5 11th Gen Intel Core i7-11800H 15....  85,990  3.9 out of 5\n",
       "6   HP Pavilion (2021) Intel 11th Gen Core i7 14 i...  84,990  4.3 out of 5\n",
       "7   Lenovo IdeaPad S540 11th Gen Intel Core i7 13....  77,990  4.3 out of 5\n",
       "8   Dell 14 (2021) i7-1195G7 2in1 Touch Screen Lap...  89,990  4.4 out of 5\n",
       "9   Lenovo ThinkBook 15 Intel 11th Gen Core i7 15....  84,990  4.5 out of 5\n",
       "10  HP Pavilion 13(2021) 11th Gen Intel Core i7 La...  91,990  4.4 out of 5"
      ]
     },
     "execution_count": 531,
     "metadata": {},
     "output_type": "execute_result"
    }
   ],
   "source": [
    "amazon=pd.DataFrame({})\n",
    "amazon['Product']=Product[0:10]\n",
    "amazon['Price']=Price10[0:10]\n",
    "amazon['Rating']=rt[0:10]\n",
    "amazon.index = np.arange(1, len(amazon)+1)\n",
    "amazon[0:10]"
   ]
  },
  {
   "cell_type": "code",
   "execution_count": 532,
   "metadata": {},
   "outputs": [],
   "source": [
    "driver.close()"
   ]
  },
  {
   "cell_type": "markdown",
   "metadata": {},
   "source": [
    "# Q4: Write a python program to scrape data for first 10 job results for Data scientist Designation in Noida location. You have to scrape company_name, No. of days ago when job was posted, Rating of the company.\n",
    "This task will be done in following steps:\n",
    "1. first get the webpage https://www.glassdoor.co.in/index.htm\n",
    "2. Enter “Data Scientist” in “Job Title,Keyword,Company” field and enter “Noida” in “location” field.\n",
    "3. Then click the search button. You will land up in the below page:\n",
    "4. Then scrape the data for the first 10 jobs results you get in the above shown page.\n",
    "5. Finally create a dataframe of the scraped data.\n",
    "   Note- All of the above steps have to be done in code. No step is to be done manually"
   ]
  },
  {
   "cell_type": "code",
   "execution_count": 475,
   "metadata": {},
   "outputs": [
    {
     "data": {
      "text/plain": [
       "<selenium.webdriver.chrome.webdriver.WebDriver (session=\"d036dd4128d487280f7cdf72d0702872\")>"
      ]
     },
     "execution_count": 475,
     "metadata": {},
     "output_type": "execute_result"
    }
   ],
   "source": [
    "driver = webdriver.Chrome(executable_path='/Users/rahulmore/chromedriver')\n",
    "driver"
   ]
  },
  {
   "cell_type": "code",
   "execution_count": 476,
   "metadata": {},
   "outputs": [],
   "source": [
    "url4 = driver.get(\"https://www.glassdoor.co.in/index.htm\")\n",
    "driver.maximize_window()"
   ]
  },
  {
   "cell_type": "code",
   "execution_count": 477,
   "metadata": {},
   "outputs": [],
   "source": [
    "search4 = driver.find_element_by_xpath(\"//input[@placeholder='Job Title, Keywords or Company']\")\n",
    "search4.send_keys(\"Data Scientist\")\n",
    "\n",
    "from selenium.webdriver.common.keys import Keys\n",
    "for i in range(12):\n",
    "    driver.find_element_by_id(\"sc.location\").send_keys(Keys.BACK_SPACE)\n",
    "\n",
    "search_bar = driver.find_element_by_id(\"sc.location\")\n",
    "search_bar.send_keys(\"Noida\")\n",
    "\n",
    "search_click = driver.find_element_by_xpath('//span[@class = \"css-8zxfjs\"]/span')\n",
    "search_click.click()"
   ]
  },
  {
   "cell_type": "code",
   "execution_count": 478,
   "metadata": {
    "scrolled": true
   },
   "outputs": [
    {
     "data": {
      "text/plain": [
       "['Instrovate Technologies',\n",
       " '2COMS Consulting Private Limited',\n",
       " 'Pixel Vision',\n",
       " 'Innovacer',\n",
       " 'Crowe',\n",
       " 'HDFC Bank',\n",
       " 'Salasar New Age Technologies',\n",
       " 'UnitedHealth Group',\n",
       " 'AlgoScale Technologies Private Limited',\n",
       " 'Liberin Technologies Private Limited',\n",
       " 'Optum - India',\n",
       " 'AIIMS, Delhi',\n",
       " 'Techlive',\n",
       " 'RannLab Technologies',\n",
       " 'dunnhumby',\n",
       " 'NEC Opportunities',\n",
       " 'Salasar New Age Technologies',\n",
       " 'UnitedHealth Group',\n",
       " 'Iraitech Innovations & Tehcnologies Pvt.Ltd',\n",
       " 'CODEC Networks Pvt ltd',\n",
       " 'R Systems',\n",
       " 'Biz2Credit Inc',\n",
       " 'TransOrg Analytics',\n",
       " 'Newgen Software',\n",
       " 'Kline & Company',\n",
       " 'UnitedHealth Group',\n",
       " 'UnitedHealth Group',\n",
       " 'TransOrg Analytics',\n",
       " 'Ericsson',\n",
       " 'Emerging India Group']"
      ]
     },
     "execution_count": 478,
     "metadata": {},
     "output_type": "execute_result"
    }
   ],
   "source": [
    "job4 = driver.find_elements_by_xpath('//div[@class = \"d-flex justify-content-between align-items-start\"]/a/span')\n",
    "job4\n",
    "\n",
    "Job_Title3 = []\n",
    "for i in job4:\n",
    "    j4 = i.text\n",
    "    Job_Title3.append(i.text)\n",
    "    \n",
    "Job_Title3"
   ]
  },
  {
   "cell_type": "code",
   "execution_count": 479,
   "metadata": {
    "scrolled": true
   },
   "outputs": [
    {
     "data": {
      "text/plain": [
       "['30d+',\n",
       " '16d',\n",
       " '4d',\n",
       " '4d',\n",
       " '14d',\n",
       " '5d',\n",
       " '30d+',\n",
       " '8d',\n",
       " '30d+',\n",
       " '30d+',\n",
       " '23d',\n",
       " '3d',\n",
       " '30d+',\n",
       " '1d',\n",
       " '2d',\n",
       " '16d',\n",
       " '30d+',\n",
       " '23d',\n",
       " '8d',\n",
       " '18d',\n",
       " '15d',\n",
       " '30d+',\n",
       " '10d',\n",
       " '30d+',\n",
       " '3d',\n",
       " '10d',\n",
       " '30d',\n",
       " '10d',\n",
       " '14d',\n",
       " '30d+']"
      ]
     },
     "execution_count": 479,
     "metadata": {},
     "output_type": "execute_result"
    }
   ],
   "source": [
    "days = driver.find_elements_by_xpath('//div[@data-test = \"job-age\"]')\n",
    "days\n",
    "\n",
    "Days_posted = []\n",
    "for i in days:\n",
    "    da = i.text\n",
    "    Days_posted.append(i.text)\n",
    "    \n",
    "Days_posted"
   ]
  },
  {
   "cell_type": "code",
   "execution_count": 480,
   "metadata": {},
   "outputs": [
    {
     "name": "stdout",
     "output_type": "stream",
     "text": [
      "30\n"
     ]
    }
   ],
   "source": [
    "print(len(Days_posted))"
   ]
  },
  {
   "cell_type": "code",
   "execution_count": 481,
   "metadata": {
    "scrolled": true
   },
   "outputs": [
    {
     "data": {
      "text/plain": [
       "[<selenium.webdriver.remote.webelement.WebElement (session=\"d036dd4128d487280f7cdf72d0702872\", element=\"45c4cd56-87e9-4c4f-9a33-8544168e59c2\")>,\n",
       " <selenium.webdriver.remote.webelement.WebElement (session=\"d036dd4128d487280f7cdf72d0702872\", element=\"34620a19-fc3a-4f26-af0d-4b9dbcb86339\")>,\n",
       " <selenium.webdriver.remote.webelement.WebElement (session=\"d036dd4128d487280f7cdf72d0702872\", element=\"28b352b0-93e3-4c71-b85f-b4903811c769\")>,\n",
       " <selenium.webdriver.remote.webelement.WebElement (session=\"d036dd4128d487280f7cdf72d0702872\", element=\"2376371e-ed58-41a6-a9d3-199e73175b1b\")>,\n",
       " <selenium.webdriver.remote.webelement.WebElement (session=\"d036dd4128d487280f7cdf72d0702872\", element=\"a567e709-ecfc-4d52-8bc7-6e75eed8f407\")>,\n",
       " <selenium.webdriver.remote.webelement.WebElement (session=\"d036dd4128d487280f7cdf72d0702872\", element=\"bc448f1c-32c4-4af0-8b2a-4cf6fb964096\")>,\n",
       " <selenium.webdriver.remote.webelement.WebElement (session=\"d036dd4128d487280f7cdf72d0702872\", element=\"23afd37b-ec82-4a49-90e2-c6e7d95385ac\")>,\n",
       " <selenium.webdriver.remote.webelement.WebElement (session=\"d036dd4128d487280f7cdf72d0702872\", element=\"6989c7b3-dd2b-4277-947c-f036faf91154\")>,\n",
       " <selenium.webdriver.remote.webelement.WebElement (session=\"d036dd4128d487280f7cdf72d0702872\", element=\"374f8247-2f1c-4797-907a-52b3ba8a3532\")>,\n",
       " <selenium.webdriver.remote.webelement.WebElement (session=\"d036dd4128d487280f7cdf72d0702872\", element=\"8f1a0a75-4b9b-43eb-ba0f-3b6630a2432f\")>,\n",
       " <selenium.webdriver.remote.webelement.WebElement (session=\"d036dd4128d487280f7cdf72d0702872\", element=\"1dc00d34-fc00-4215-a93f-d154b982e088\")>,\n",
       " <selenium.webdriver.remote.webelement.WebElement (session=\"d036dd4128d487280f7cdf72d0702872\", element=\"2808ccb1-ca56-4f65-a855-3113feea6fce\")>,\n",
       " <selenium.webdriver.remote.webelement.WebElement (session=\"d036dd4128d487280f7cdf72d0702872\", element=\"bb7ab03d-fc04-4498-be72-7d81411a42ec\")>,\n",
       " <selenium.webdriver.remote.webelement.WebElement (session=\"d036dd4128d487280f7cdf72d0702872\", element=\"4615f5c0-66b4-4d0e-9213-c84bfbe25dee\")>,\n",
       " <selenium.webdriver.remote.webelement.WebElement (session=\"d036dd4128d487280f7cdf72d0702872\", element=\"a5c90cfe-991a-4a2d-a8ac-15fa88f99004\")>,\n",
       " <selenium.webdriver.remote.webelement.WebElement (session=\"d036dd4128d487280f7cdf72d0702872\", element=\"9de61b71-fb79-46b6-b959-135d033d2a63\")>,\n",
       " <selenium.webdriver.remote.webelement.WebElement (session=\"d036dd4128d487280f7cdf72d0702872\", element=\"a9145deb-0d6a-4a99-9c7a-b551e2e421e2\")>,\n",
       " <selenium.webdriver.remote.webelement.WebElement (session=\"d036dd4128d487280f7cdf72d0702872\", element=\"5184e4fa-c0d7-4e44-b45d-ef4dd920339c\")>,\n",
       " <selenium.webdriver.remote.webelement.WebElement (session=\"d036dd4128d487280f7cdf72d0702872\", element=\"6f805a51-dce3-407a-91ac-45e5db28bd17\")>,\n",
       " <selenium.webdriver.remote.webelement.WebElement (session=\"d036dd4128d487280f7cdf72d0702872\", element=\"54185f2d-b8bb-47d0-a7b8-b5e2df8830fa\")>,\n",
       " <selenium.webdriver.remote.webelement.WebElement (session=\"d036dd4128d487280f7cdf72d0702872\", element=\"b3700c93-71ea-422a-bd5c-4cbb47a093ed\")>,\n",
       " <selenium.webdriver.remote.webelement.WebElement (session=\"d036dd4128d487280f7cdf72d0702872\", element=\"a4a33e8d-9b85-4279-b794-0afb85aab6d1\")>,\n",
       " <selenium.webdriver.remote.webelement.WebElement (session=\"d036dd4128d487280f7cdf72d0702872\", element=\"afa5c173-e563-44c7-aed3-833134c7ed8a\")>,\n",
       " <selenium.webdriver.remote.webelement.WebElement (session=\"d036dd4128d487280f7cdf72d0702872\", element=\"91148dcf-f3b7-4655-9f3e-59480ba78d43\")>,\n",
       " <selenium.webdriver.remote.webelement.WebElement (session=\"d036dd4128d487280f7cdf72d0702872\", element=\"d5004190-623c-40f6-bc1c-4a9ea71d0ba0\")>,\n",
       " <selenium.webdriver.remote.webelement.WebElement (session=\"d036dd4128d487280f7cdf72d0702872\", element=\"db48e5e8-0b18-487d-b9d9-f5279388b829\")>,\n",
       " <selenium.webdriver.remote.webelement.WebElement (session=\"d036dd4128d487280f7cdf72d0702872\", element=\"ec166796-5d59-49fb-9fd2-1bdbaef9642a\")>,\n",
       " <selenium.webdriver.remote.webelement.WebElement (session=\"d036dd4128d487280f7cdf72d0702872\", element=\"9eaf4bdc-153a-49e0-84e7-07c0f1e1bc24\")>,\n",
       " <selenium.webdriver.remote.webelement.WebElement (session=\"d036dd4128d487280f7cdf72d0702872\", element=\"565885bc-2f96-476a-b4d4-31091648beba\")>,\n",
       " <selenium.webdriver.remote.webelement.WebElement (session=\"d036dd4128d487280f7cdf72d0702872\", element=\"a43d4e37-a140-42a4-aa17-6e3e9dee830a\")>]"
      ]
     },
     "execution_count": 481,
     "metadata": {},
     "output_type": "execute_result"
    }
   ],
   "source": [
    "rat = driver.find_elements_by_xpath('//div[@class = \"d-flex flex-column job-search-key-1pzmdmc e1rrn5ka1\"]')\n",
    "rat"
   ]
  },
  {
   "cell_type": "code",
   "execution_count": 484,
   "metadata": {},
   "outputs": [
    {
     "data": {
      "text/plain": [
       "['',\n",
       " '3.8',\n",
       " '',\n",
       " '3.8',\n",
       " '3.8',\n",
       " '3.7',\n",
       " '',\n",
       " '3.7',\n",
       " '4.0',\n",
       " '',\n",
       " '4.0',\n",
       " '4.5',\n",
       " '5.0',\n",
       " '3.6',\n",
       " '4.1',\n",
       " '',\n",
       " '',\n",
       " '3.7',\n",
       " '',\n",
       " '3.1',\n",
       " '3.6',\n",
       " '4.3',\n",
       " '2.7',\n",
       " '3.3',\n",
       " '',\n",
       " '3.7',\n",
       " '3.7',\n",
       " '2.7',\n",
       " '4.2',\n",
       " '2.4']"
      ]
     },
     "execution_count": 484,
     "metadata": {},
     "output_type": "execute_result"
    }
   ],
   "source": [
    "from selenium.common.exceptions import NoSuchElementException\n",
    "rating4 = []\n",
    "for i in rat:\n",
    "    try:\n",
    "        abc = driver.find_elements_by_xpath('//div[@class = \"d-flex flex-column job-search-key-1pzmdmc e1rrn5ka1\"]/span')\n",
    "        rating4.append(i.text)\n",
    "    except NoSuchElementException:\n",
    "        rating4.append('NA')\n",
    "        \n",
    "rating4"
   ]
  },
  {
   "cell_type": "code",
   "execution_count": 485,
   "metadata": {},
   "outputs": [
    {
     "data": {
      "text/html": [
       "<div>\n",
       "<style scoped>\n",
       "    .dataframe tbody tr th:only-of-type {\n",
       "        vertical-align: middle;\n",
       "    }\n",
       "\n",
       "    .dataframe tbody tr th {\n",
       "        vertical-align: top;\n",
       "    }\n",
       "\n",
       "    .dataframe thead th {\n",
       "        text-align: right;\n",
       "    }\n",
       "</style>\n",
       "<table border=\"1\" class=\"dataframe\">\n",
       "  <thead>\n",
       "    <tr style=\"text-align: right;\">\n",
       "      <th></th>\n",
       "      <th>Job Title</th>\n",
       "      <th>Days_posted</th>\n",
       "      <th>rating4</th>\n",
       "    </tr>\n",
       "  </thead>\n",
       "  <tbody>\n",
       "    <tr>\n",
       "      <th>1</th>\n",
       "      <td>Instrovate Technologies</td>\n",
       "      <td>30d+</td>\n",
       "      <td></td>\n",
       "    </tr>\n",
       "    <tr>\n",
       "      <th>2</th>\n",
       "      <td>2COMS Consulting Private Limited</td>\n",
       "      <td>16d</td>\n",
       "      <td>3.8</td>\n",
       "    </tr>\n",
       "    <tr>\n",
       "      <th>3</th>\n",
       "      <td>Pixel Vision</td>\n",
       "      <td>4d</td>\n",
       "      <td></td>\n",
       "    </tr>\n",
       "    <tr>\n",
       "      <th>4</th>\n",
       "      <td>Innovacer</td>\n",
       "      <td>4d</td>\n",
       "      <td>3.8</td>\n",
       "    </tr>\n",
       "    <tr>\n",
       "      <th>5</th>\n",
       "      <td>Crowe</td>\n",
       "      <td>14d</td>\n",
       "      <td>3.8</td>\n",
       "    </tr>\n",
       "    <tr>\n",
       "      <th>6</th>\n",
       "      <td>HDFC Bank</td>\n",
       "      <td>5d</td>\n",
       "      <td>3.7</td>\n",
       "    </tr>\n",
       "    <tr>\n",
       "      <th>7</th>\n",
       "      <td>Salasar New Age Technologies</td>\n",
       "      <td>30d+</td>\n",
       "      <td></td>\n",
       "    </tr>\n",
       "    <tr>\n",
       "      <th>8</th>\n",
       "      <td>UnitedHealth Group</td>\n",
       "      <td>8d</td>\n",
       "      <td>3.7</td>\n",
       "    </tr>\n",
       "    <tr>\n",
       "      <th>9</th>\n",
       "      <td>AlgoScale Technologies Private Limited</td>\n",
       "      <td>30d+</td>\n",
       "      <td>4.0</td>\n",
       "    </tr>\n",
       "    <tr>\n",
       "      <th>10</th>\n",
       "      <td>Liberin Technologies Private Limited</td>\n",
       "      <td>30d+</td>\n",
       "      <td></td>\n",
       "    </tr>\n",
       "  </tbody>\n",
       "</table>\n",
       "</div>"
      ],
      "text/plain": [
       "                                 Job Title Days_posted rating4\n",
       "1                  Instrovate Technologies        30d+        \n",
       "2         2COMS Consulting Private Limited         16d     3.8\n",
       "3                             Pixel Vision          4d        \n",
       "4                                Innovacer          4d     3.8\n",
       "5                                    Crowe         14d     3.8\n",
       "6                                HDFC Bank          5d     3.7\n",
       "7             Salasar New Age Technologies        30d+        \n",
       "8                       UnitedHealth Group          8d     3.7\n",
       "9   AlgoScale Technologies Private Limited        30d+     4.0\n",
       "10    Liberin Technologies Private Limited        30d+        "
      ]
     },
     "execution_count": 485,
     "metadata": {},
     "output_type": "execute_result"
    }
   ],
   "source": [
    "Glassdoor=pd.DataFrame({})\n",
    "Glassdoor['Job Title']=Job_Title3[0:10]\n",
    "Glassdoor['Days_posted']=Days_posted[0:10]\n",
    "Glassdoor['rating4']=rating4[0:10]\n",
    "Glassdoor.index = np.arange(1, len(Glassdoor)+1)\n",
    "Glassdoor[0:10]"
   ]
  },
  {
   "cell_type": "code",
   "execution_count": 486,
   "metadata": {},
   "outputs": [],
   "source": [
    "driver.close()"
   ]
  },
  {
   "cell_type": "markdown",
   "metadata": {},
   "source": [
    "# Q5: Write a python program to scrape the salary data for Data Scientist designation in Noida location.\n",
    "You have to scrape Company name, Number of salaries, Average salary, Min salary, Max Salary.\n",
    "The above task will be, done as shown in the below steps:\n",
    "1. first get the webpage https://www.glassdoor.co.in/Salaries/index.htm\n",
    "2. Enter “Data Scientist” in Job title field and “Noida” in location field.\n",
    "3. Click the search button.\n",
    "4. After that you will land on the below page\n",
    "You have to scrape whole data from this webpage\n",
    "5. Scrape data for first 10 companies. Scrape the min salary, max salary, company name, Average salary and rating of the company.\n",
    "6.Store the data in a dataframe.\n",
    "Note that all of the above steps have to be done by coding only and not manually."
   ]
  },
  {
   "cell_type": "code",
   "execution_count": 499,
   "metadata": {},
   "outputs": [
    {
     "data": {
      "text/plain": [
       "<selenium.webdriver.chrome.webdriver.WebDriver (session=\"f088d66bc0b80af4c9f1b4cf4b40eee0\")>"
      ]
     },
     "execution_count": 499,
     "metadata": {},
     "output_type": "execute_result"
    }
   ],
   "source": [
    "driver = webdriver.Chrome(executable_path='/Users/rahulmore/chromedriver')\n",
    "driver"
   ]
  },
  {
   "cell_type": "code",
   "execution_count": 500,
   "metadata": {},
   "outputs": [],
   "source": [
    "url5 = driver.get(\"https://www.glassdoor.co.in/Salaries/index.htm\")\n",
    "driver.maximize_window()"
   ]
  },
  {
   "cell_type": "code",
   "execution_count": 501,
   "metadata": {},
   "outputs": [],
   "source": [
    "search5 = driver.find_element_by_xpath(\"//input[@name='sc.keyword']\")\n",
    "search5.send_keys(\"Data Scientist\")\n",
    "\n",
    "from selenium.webdriver.common.keys import Keys\n",
    "for i in range(12):\n",
    "    driver.find_element_by_id(\"LocationSearch\").send_keys(Keys.BACK_SPACE)\n",
    "\n",
    "search_bar = driver.find_element_by_id(\"LocationSearch\")\n",
    "search_bar.send_keys(\"Noida\")\n",
    "\n",
    "search_click2 = driver.find_element_by_id(\"HeroSearchButton\")\n",
    "search_click2.click()"
   ]
  },
  {
   "cell_type": "code",
   "execution_count": 509,
   "metadata": {},
   "outputs": [
    {
     "data": {
      "text/plain": [
       "['Range: ₹4L - ₹13L',\n",
       " 'Range: ₹6L - ₹26L',\n",
       " 'Range: ₹6L - ₹23L',\n",
       " 'Range: ₹4L - ₹17L',\n",
       " 'Range: ₹8L - ₹16L',\n",
       " 'Range: ₹5L - ₹1Cr',\n",
       " 'Range: ₹6L - ₹20L',\n",
       " 'Range: ₹8L - ₹21L',\n",
       " 'Range: ₹2L - ₹22L',\n",
       " 'Range: ₹11L - ₹18L',\n",
       " 'Range: ₹6L - ₹21L',\n",
       " 'Range: ₹5L - ₹15L',\n",
       " 'Range: ₹4L - ₹13L',\n",
       " 'Range: ₹10L - ₹46L',\n",
       " 'Range: ₹4L - ₹21L',\n",
       " 'Range: ₹6L - ₹18L',\n",
       " 'Range: ₹25T - ₹1L',\n",
       " 'Range: ₹10L - ₹21L',\n",
       " 'Range: ₹4L - ₹15L',\n",
       " 'Range: ₹2L - ₹23L']"
      ]
     },
     "execution_count": 509,
     "metadata": {},
     "output_type": "execute_result"
    }
   ],
   "source": [
    "sal_range = driver.find_elements_by_xpath('//span[@class = \"d-block d-lg-none m-0 css-1b6bxoo\"]')\n",
    "sal_range\n",
    "\n",
    "Salary_Range = []\n",
    "\n",
    "for i in sal_range:\n",
    "    sr = i.text\n",
    "    Salary_Range.append(i.text)\n",
    "  \n",
    "Salary_Range"
   ]
  },
  {
   "cell_type": "code",
   "execution_count": 510,
   "metadata": {},
   "outputs": [
    {
     "ename": "NoSuchWindowException",
     "evalue": "Message: no such window: window was already closed\n  (Session info: chrome=94.0.4606.81)\n",
     "output_type": "error",
     "traceback": [
      "\u001b[0;31m---------------------------------------------------------------------------\u001b[0m",
      "\u001b[0;31mNoSuchWindowException\u001b[0m                     Traceback (most recent call last)",
      "\u001b[0;32m<ipython-input-510-1fc17884f648>\u001b[0m in \u001b[0;36m<module>\u001b[0;34m\u001b[0m\n\u001b[0;32m----> 1\u001b[0;31m \u001b[0mcomp\u001b[0m \u001b[0;34m=\u001b[0m \u001b[0mdriver\u001b[0m\u001b[0;34m.\u001b[0m\u001b[0mfind_elements_by_xpath\u001b[0m\u001b[0;34m(\u001b[0m\u001b[0;34m'//h3[@class = \"m-0 css-g261rn\"]/a'\u001b[0m\u001b[0;34m)\u001b[0m\u001b[0;34m\u001b[0m\u001b[0;34m\u001b[0m\u001b[0m\n\u001b[0m\u001b[1;32m      2\u001b[0m \u001b[0mcomp\u001b[0m\u001b[0;34m\u001b[0m\u001b[0;34m\u001b[0m\u001b[0m\n\u001b[1;32m      3\u001b[0m \u001b[0;34m\u001b[0m\u001b[0m\n\u001b[1;32m      4\u001b[0m \u001b[0mComp_name\u001b[0m \u001b[0;34m=\u001b[0m \u001b[0;34m[\u001b[0m\u001b[0;34m]\u001b[0m\u001b[0;34m\u001b[0m\u001b[0;34m\u001b[0m\u001b[0m\n\u001b[1;32m      5\u001b[0m \u001b[0;34m\u001b[0m\u001b[0m\n",
      "\u001b[0;32m~/opt/anaconda3/lib/python3.8/site-packages/selenium/webdriver/remote/webdriver.py\u001b[0m in \u001b[0;36mfind_elements_by_xpath\u001b[0;34m(self, xpath)\u001b[0m\n\u001b[1;32m    408\u001b[0m             \u001b[0melements\u001b[0m \u001b[0;34m=\u001b[0m \u001b[0mdriver\u001b[0m\u001b[0;34m.\u001b[0m\u001b[0mfind_elements_by_xpath\u001b[0m\u001b[0;34m(\u001b[0m\u001b[0;34m\"//div[contains(@class, 'foo')]\"\u001b[0m\u001b[0;34m)\u001b[0m\u001b[0;34m\u001b[0m\u001b[0;34m\u001b[0m\u001b[0m\n\u001b[1;32m    409\u001b[0m         \"\"\"\n\u001b[0;32m--> 410\u001b[0;31m         \u001b[0;32mreturn\u001b[0m \u001b[0mself\u001b[0m\u001b[0;34m.\u001b[0m\u001b[0mfind_elements\u001b[0m\u001b[0;34m(\u001b[0m\u001b[0mby\u001b[0m\u001b[0;34m=\u001b[0m\u001b[0mBy\u001b[0m\u001b[0;34m.\u001b[0m\u001b[0mXPATH\u001b[0m\u001b[0;34m,\u001b[0m \u001b[0mvalue\u001b[0m\u001b[0;34m=\u001b[0m\u001b[0mxpath\u001b[0m\u001b[0;34m)\u001b[0m\u001b[0;34m\u001b[0m\u001b[0;34m\u001b[0m\u001b[0m\n\u001b[0m\u001b[1;32m    411\u001b[0m \u001b[0;34m\u001b[0m\u001b[0m\n\u001b[1;32m    412\u001b[0m     \u001b[0;32mdef\u001b[0m \u001b[0mfind_element_by_link_text\u001b[0m\u001b[0;34m(\u001b[0m\u001b[0mself\u001b[0m\u001b[0;34m,\u001b[0m \u001b[0mlink_text\u001b[0m\u001b[0;34m)\u001b[0m\u001b[0;34m:\u001b[0m\u001b[0;34m\u001b[0m\u001b[0;34m\u001b[0m\u001b[0m\n",
      "\u001b[0;32m~/opt/anaconda3/lib/python3.8/site-packages/selenium/webdriver/remote/webdriver.py\u001b[0m in \u001b[0;36mfind_elements\u001b[0;34m(self, by, value)\u001b[0m\n\u001b[1;32m   1003\u001b[0m         \u001b[0;31m# Return empty list if driver returns null\u001b[0m\u001b[0;34m\u001b[0m\u001b[0;34m\u001b[0m\u001b[0;34m\u001b[0m\u001b[0m\n\u001b[1;32m   1004\u001b[0m         \u001b[0;31m# See https://github.com/SeleniumHQ/selenium/issues/4555\u001b[0m\u001b[0;34m\u001b[0m\u001b[0;34m\u001b[0m\u001b[0;34m\u001b[0m\u001b[0m\n\u001b[0;32m-> 1005\u001b[0;31m         return self.execute(Command.FIND_ELEMENTS, {\n\u001b[0m\u001b[1;32m   1006\u001b[0m             \u001b[0;34m'using'\u001b[0m\u001b[0;34m:\u001b[0m \u001b[0mby\u001b[0m\u001b[0;34m,\u001b[0m\u001b[0;34m\u001b[0m\u001b[0;34m\u001b[0m\u001b[0m\n\u001b[1;32m   1007\u001b[0m             'value': value})['value'] or []\n",
      "\u001b[0;32m~/opt/anaconda3/lib/python3.8/site-packages/selenium/webdriver/remote/webdriver.py\u001b[0m in \u001b[0;36mexecute\u001b[0;34m(self, driver_command, params)\u001b[0m\n\u001b[1;32m    319\u001b[0m         \u001b[0mresponse\u001b[0m \u001b[0;34m=\u001b[0m \u001b[0mself\u001b[0m\u001b[0;34m.\u001b[0m\u001b[0mcommand_executor\u001b[0m\u001b[0;34m.\u001b[0m\u001b[0mexecute\u001b[0m\u001b[0;34m(\u001b[0m\u001b[0mdriver_command\u001b[0m\u001b[0;34m,\u001b[0m \u001b[0mparams\u001b[0m\u001b[0;34m)\u001b[0m\u001b[0;34m\u001b[0m\u001b[0;34m\u001b[0m\u001b[0m\n\u001b[1;32m    320\u001b[0m         \u001b[0;32mif\u001b[0m \u001b[0mresponse\u001b[0m\u001b[0;34m:\u001b[0m\u001b[0;34m\u001b[0m\u001b[0;34m\u001b[0m\u001b[0m\n\u001b[0;32m--> 321\u001b[0;31m             \u001b[0mself\u001b[0m\u001b[0;34m.\u001b[0m\u001b[0merror_handler\u001b[0m\u001b[0;34m.\u001b[0m\u001b[0mcheck_response\u001b[0m\u001b[0;34m(\u001b[0m\u001b[0mresponse\u001b[0m\u001b[0;34m)\u001b[0m\u001b[0;34m\u001b[0m\u001b[0;34m\u001b[0m\u001b[0m\n\u001b[0m\u001b[1;32m    322\u001b[0m             response['value'] = self._unwrap_value(\n\u001b[1;32m    323\u001b[0m                 response.get('value', None))\n",
      "\u001b[0;32m~/opt/anaconda3/lib/python3.8/site-packages/selenium/webdriver/remote/errorhandler.py\u001b[0m in \u001b[0;36mcheck_response\u001b[0;34m(self, response)\u001b[0m\n\u001b[1;32m    240\u001b[0m                 \u001b[0malert_text\u001b[0m \u001b[0;34m=\u001b[0m \u001b[0mvalue\u001b[0m\u001b[0;34m[\u001b[0m\u001b[0;34m'alert'\u001b[0m\u001b[0;34m]\u001b[0m\u001b[0;34m.\u001b[0m\u001b[0mget\u001b[0m\u001b[0;34m(\u001b[0m\u001b[0;34m'text'\u001b[0m\u001b[0;34m)\u001b[0m\u001b[0;34m\u001b[0m\u001b[0;34m\u001b[0m\u001b[0m\n\u001b[1;32m    241\u001b[0m             \u001b[0;32mraise\u001b[0m \u001b[0mexception_class\u001b[0m\u001b[0;34m(\u001b[0m\u001b[0mmessage\u001b[0m\u001b[0;34m,\u001b[0m \u001b[0mscreen\u001b[0m\u001b[0;34m,\u001b[0m \u001b[0mstacktrace\u001b[0m\u001b[0;34m,\u001b[0m \u001b[0malert_text\u001b[0m\u001b[0;34m)\u001b[0m\u001b[0;34m\u001b[0m\u001b[0;34m\u001b[0m\u001b[0m\n\u001b[0;32m--> 242\u001b[0;31m         \u001b[0;32mraise\u001b[0m \u001b[0mexception_class\u001b[0m\u001b[0;34m(\u001b[0m\u001b[0mmessage\u001b[0m\u001b[0;34m,\u001b[0m \u001b[0mscreen\u001b[0m\u001b[0;34m,\u001b[0m \u001b[0mstacktrace\u001b[0m\u001b[0;34m)\u001b[0m\u001b[0;34m\u001b[0m\u001b[0;34m\u001b[0m\u001b[0m\n\u001b[0m\u001b[1;32m    243\u001b[0m \u001b[0;34m\u001b[0m\u001b[0m\n\u001b[1;32m    244\u001b[0m     \u001b[0;32mdef\u001b[0m \u001b[0m_value_or_default\u001b[0m\u001b[0;34m(\u001b[0m\u001b[0mself\u001b[0m\u001b[0;34m,\u001b[0m \u001b[0mobj\u001b[0m\u001b[0;34m,\u001b[0m \u001b[0mkey\u001b[0m\u001b[0;34m,\u001b[0m \u001b[0mdefault\u001b[0m\u001b[0;34m)\u001b[0m\u001b[0;34m:\u001b[0m\u001b[0;34m\u001b[0m\u001b[0;34m\u001b[0m\u001b[0m\n",
      "\u001b[0;31mNoSuchWindowException\u001b[0m: Message: no such window: window was already closed\n  (Session info: chrome=94.0.4606.81)\n"
     ]
    }
   ],
   "source": [
    "comp = driver.find_elements_by_xpath('//h3[@class = \"m-0 css-g261rn\"]/a')\n",
    "comp\n",
    "\n",
    "Comp_name = []\n",
    "\n",
    "for i in comp:\n",
    "    cn = i.text\n",
    "    Comp_name.append(i.text)\n",
    "  \n",
    "Comp_name"
   ]
  },
  {
   "cell_type": "code",
   "execution_count": 504,
   "metadata": {},
   "outputs": [
    {
     "data": {
      "text/plain": [
       "['₹6,36,785',\n",
       " '₹9,24,624',\n",
       " '₹12,24,104',\n",
       " '₹7,68,525',\n",
       " '₹12,82,880',\n",
       " '₹12,60,805',\n",
       " '₹12,53,544',\n",
       " '₹12,70,000',\n",
       " '₹11,82,266',\n",
       " '₹14,62,558',\n",
       " '₹11,45,202',\n",
       " '₹8,93,926',\n",
       " '₹9,66,328',\n",
       " '₹20,82,095',\n",
       " '₹11,11,592',\n",
       " '₹12,51,280',\n",
       " '₹50,000',\n",
       " '₹14,64,785',\n",
       " '₹6,96,665',\n",
       " '₹5,96,566']"
      ]
     },
     "execution_count": 504,
     "metadata": {},
     "output_type": "execute_result"
    }
   ],
   "source": [
    "avg_sal = driver.find_elements_by_xpath('//div[@class = \"col-12 col-lg-4 px-lg-0 d-flex align-items-baseline\"]/h3')\n",
    "avg_sal\n",
    "\n",
    "Avarage_sal = []\n",
    "\n",
    "for i in avg_sal:\n",
    "    As = i.text\n",
    "    Avarage_sal.append(i.text)\n",
    "  \n",
    "Avarage_sal"
   ]
  },
  {
   "cell_type": "code",
   "execution_count": 505,
   "metadata": {},
   "outputs": [
    {
     "data": {
      "text/plain": [
       "['3.9',\n",
       " '3.9',\n",
       " '4.1',\n",
       " '4',\n",
       " '3.7',\n",
       " '3.7',\n",
       " '3.6',\n",
       " '3.7',\n",
       " '4',\n",
       " '3.9',\n",
       " '4.1',\n",
       " '4.2',\n",
       " '3.8',\n",
       " '3.7',\n",
       " '4',\n",
       " '3.8',\n",
       " '4.2',\n",
       " '3.3',\n",
       " '3.7',\n",
       " '3.8']"
      ]
     },
     "execution_count": 505,
     "metadata": {},
     "output_type": "execute_result"
    }
   ],
   "source": [
    "rati = driver.find_elements_by_xpath('//div[@class = \"d-flex align-items-center mt-xxsm\"]/span[1]')\n",
    "rati\n",
    "\n",
    "Ratings5 = []\n",
    "\n",
    "for i in rati:\n",
    "    RT = i.text\n",
    "    Ratings5.append(i.text)\n",
    "  \n",
    "Ratings5"
   ]
  },
  {
   "cell_type": "code",
   "execution_count": 511,
   "metadata": {},
   "outputs": [
    {
     "data": {
      "text/html": [
       "<div>\n",
       "<style scoped>\n",
       "    .dataframe tbody tr th:only-of-type {\n",
       "        vertical-align: middle;\n",
       "    }\n",
       "\n",
       "    .dataframe tbody tr th {\n",
       "        vertical-align: top;\n",
       "    }\n",
       "\n",
       "    .dataframe thead th {\n",
       "        text-align: right;\n",
       "    }\n",
       "</style>\n",
       "<table border=\"1\" class=\"dataframe\">\n",
       "  <thead>\n",
       "    <tr style=\"text-align: right;\">\n",
       "      <th></th>\n",
       "      <th>Company Name</th>\n",
       "      <th>Min-Max Salary</th>\n",
       "      <th>Avarage salary</th>\n",
       "      <th>Ratings</th>\n",
       "    </tr>\n",
       "  </thead>\n",
       "  <tbody>\n",
       "    <tr>\n",
       "      <th>1</th>\n",
       "      <td>Tata Consultancy Services</td>\n",
       "      <td>Range: ₹4L - ₹13L</td>\n",
       "      <td>₹6,36,785</td>\n",
       "      <td>3.9</td>\n",
       "    </tr>\n",
       "    <tr>\n",
       "      <th>2</th>\n",
       "      <td>IBM</td>\n",
       "      <td>Range: ₹6L - ₹26L</td>\n",
       "      <td>₹9,24,624</td>\n",
       "      <td>3.9</td>\n",
       "    </tr>\n",
       "    <tr>\n",
       "      <th>3</th>\n",
       "      <td>Accenture</td>\n",
       "      <td>Range: ₹6L - ₹23L</td>\n",
       "      <td>₹12,24,104</td>\n",
       "      <td>4.1</td>\n",
       "    </tr>\n",
       "    <tr>\n",
       "      <th>4</th>\n",
       "      <td>Ericsson-Worldwide</td>\n",
       "      <td>Range: ₹4L - ₹17L</td>\n",
       "      <td>₹7,68,525</td>\n",
       "      <td>4</td>\n",
       "    </tr>\n",
       "    <tr>\n",
       "      <th>5</th>\n",
       "      <td>UnitedHealth Group</td>\n",
       "      <td>Range: ₹8L - ₹16L</td>\n",
       "      <td>₹12,82,880</td>\n",
       "      <td>3.7</td>\n",
       "    </tr>\n",
       "    <tr>\n",
       "      <th>6</th>\n",
       "      <td>Delhivery</td>\n",
       "      <td>Range: ₹5L - ₹1Cr</td>\n",
       "      <td>₹12,60,805</td>\n",
       "      <td>3.7</td>\n",
       "    </tr>\n",
       "    <tr>\n",
       "      <th>7</th>\n",
       "      <td>EXL Service</td>\n",
       "      <td>Range: ₹6L - ₹20L</td>\n",
       "      <td>₹12,53,544</td>\n",
       "      <td>3.6</td>\n",
       "    </tr>\n",
       "    <tr>\n",
       "      <th>8</th>\n",
       "      <td>Optum</td>\n",
       "      <td>Range: ₹8L - ₹21L</td>\n",
       "      <td>₹12,70,000</td>\n",
       "      <td>3.7</td>\n",
       "    </tr>\n",
       "    <tr>\n",
       "      <th>9</th>\n",
       "      <td>ZS Associates</td>\n",
       "      <td>Range: ₹2L - ₹22L</td>\n",
       "      <td>₹11,82,266</td>\n",
       "      <td>4</td>\n",
       "    </tr>\n",
       "    <tr>\n",
       "      <th>10</th>\n",
       "      <td>Optum Global Solutions</td>\n",
       "      <td>Range: ₹11L - ₹18L</td>\n",
       "      <td>₹14,62,558</td>\n",
       "      <td>3.9</td>\n",
       "    </tr>\n",
       "  </tbody>\n",
       "</table>\n",
       "</div>"
      ],
      "text/plain": [
       "                 Company Name      Min-Max Salary Avarage salary Ratings\n",
       "1   Tata Consultancy Services   Range: ₹4L - ₹13L      ₹6,36,785     3.9\n",
       "2                         IBM   Range: ₹6L - ₹26L      ₹9,24,624     3.9\n",
       "3                   Accenture   Range: ₹6L - ₹23L     ₹12,24,104     4.1\n",
       "4          Ericsson-Worldwide   Range: ₹4L - ₹17L      ₹7,68,525       4\n",
       "5          UnitedHealth Group   Range: ₹8L - ₹16L     ₹12,82,880     3.7\n",
       "6                   Delhivery   Range: ₹5L - ₹1Cr     ₹12,60,805     3.7\n",
       "7                 EXL Service   Range: ₹6L - ₹20L     ₹12,53,544     3.6\n",
       "8                       Optum   Range: ₹8L - ₹21L     ₹12,70,000     3.7\n",
       "9               ZS Associates   Range: ₹2L - ₹22L     ₹11,82,266       4\n",
       "10     Optum Global Solutions  Range: ₹11L - ₹18L     ₹14,62,558     3.9"
      ]
     },
     "execution_count": 511,
     "metadata": {},
     "output_type": "execute_result"
    }
   ],
   "source": [
    "Glassdoor2=pd.DataFrame({})\n",
    "Glassdoor2['Company Name']=Comp_name[0:10]\n",
    "Glassdoor2['Min-Max Salary']=Salary_Range[0:10]\n",
    "Glassdoor2['Avarage salary']=Avarage_sal[0:10]\n",
    "Glassdoor2['Ratings']=Ratings5[0:10]\n",
    "Glassdoor2.index = np.arange(1, len(Glassdoor2)+1)\n",
    "Glassdoor2[0:10]"
   ]
  },
  {
   "cell_type": "code",
   "execution_count": 513,
   "metadata": {},
   "outputs": [
    {
     "ename": "NoSuchWindowException",
     "evalue": "Message: no such window: target window already closed\nfrom unknown error: web view not found\n  (Session info: chrome=94.0.4606.81)\n",
     "output_type": "error",
     "traceback": [
      "\u001b[0;31m---------------------------------------------------------------------------\u001b[0m",
      "\u001b[0;31mNoSuchWindowException\u001b[0m                     Traceback (most recent call last)",
      "\u001b[0;32m<ipython-input-513-ad0c9a213c39>\u001b[0m in \u001b[0;36m<module>\u001b[0;34m\u001b[0m\n\u001b[0;32m----> 1\u001b[0;31m \u001b[0mdriver\u001b[0m\u001b[0;34m.\u001b[0m\u001b[0mclose\u001b[0m\u001b[0;34m(\u001b[0m\u001b[0;34m)\u001b[0m\u001b[0;34m\u001b[0m\u001b[0;34m\u001b[0m\u001b[0m\n\u001b[0m",
      "\u001b[0;32m~/opt/anaconda3/lib/python3.8/site-packages/selenium/webdriver/remote/webdriver.py\u001b[0m in \u001b[0;36mclose\u001b[0;34m(self)\u001b[0m\n\u001b[1;32m    686\u001b[0m             \u001b[0mdriver\u001b[0m\u001b[0;34m.\u001b[0m\u001b[0mclose\u001b[0m\u001b[0;34m(\u001b[0m\u001b[0;34m)\u001b[0m\u001b[0;34m\u001b[0m\u001b[0;34m\u001b[0m\u001b[0m\n\u001b[1;32m    687\u001b[0m         \"\"\"\n\u001b[0;32m--> 688\u001b[0;31m         \u001b[0mself\u001b[0m\u001b[0;34m.\u001b[0m\u001b[0mexecute\u001b[0m\u001b[0;34m(\u001b[0m\u001b[0mCommand\u001b[0m\u001b[0;34m.\u001b[0m\u001b[0mCLOSE\u001b[0m\u001b[0;34m)\u001b[0m\u001b[0;34m\u001b[0m\u001b[0;34m\u001b[0m\u001b[0m\n\u001b[0m\u001b[1;32m    689\u001b[0m \u001b[0;34m\u001b[0m\u001b[0m\n\u001b[1;32m    690\u001b[0m     \u001b[0;32mdef\u001b[0m \u001b[0mquit\u001b[0m\u001b[0;34m(\u001b[0m\u001b[0mself\u001b[0m\u001b[0;34m)\u001b[0m\u001b[0;34m:\u001b[0m\u001b[0;34m\u001b[0m\u001b[0;34m\u001b[0m\u001b[0m\n",
      "\u001b[0;32m~/opt/anaconda3/lib/python3.8/site-packages/selenium/webdriver/remote/webdriver.py\u001b[0m in \u001b[0;36mexecute\u001b[0;34m(self, driver_command, params)\u001b[0m\n\u001b[1;32m    319\u001b[0m         \u001b[0mresponse\u001b[0m \u001b[0;34m=\u001b[0m \u001b[0mself\u001b[0m\u001b[0;34m.\u001b[0m\u001b[0mcommand_executor\u001b[0m\u001b[0;34m.\u001b[0m\u001b[0mexecute\u001b[0m\u001b[0;34m(\u001b[0m\u001b[0mdriver_command\u001b[0m\u001b[0;34m,\u001b[0m \u001b[0mparams\u001b[0m\u001b[0;34m)\u001b[0m\u001b[0;34m\u001b[0m\u001b[0;34m\u001b[0m\u001b[0m\n\u001b[1;32m    320\u001b[0m         \u001b[0;32mif\u001b[0m \u001b[0mresponse\u001b[0m\u001b[0;34m:\u001b[0m\u001b[0;34m\u001b[0m\u001b[0;34m\u001b[0m\u001b[0m\n\u001b[0;32m--> 321\u001b[0;31m             \u001b[0mself\u001b[0m\u001b[0;34m.\u001b[0m\u001b[0merror_handler\u001b[0m\u001b[0;34m.\u001b[0m\u001b[0mcheck_response\u001b[0m\u001b[0;34m(\u001b[0m\u001b[0mresponse\u001b[0m\u001b[0;34m)\u001b[0m\u001b[0;34m\u001b[0m\u001b[0;34m\u001b[0m\u001b[0m\n\u001b[0m\u001b[1;32m    322\u001b[0m             response['value'] = self._unwrap_value(\n\u001b[1;32m    323\u001b[0m                 response.get('value', None))\n",
      "\u001b[0;32m~/opt/anaconda3/lib/python3.8/site-packages/selenium/webdriver/remote/errorhandler.py\u001b[0m in \u001b[0;36mcheck_response\u001b[0;34m(self, response)\u001b[0m\n\u001b[1;32m    240\u001b[0m                 \u001b[0malert_text\u001b[0m \u001b[0;34m=\u001b[0m \u001b[0mvalue\u001b[0m\u001b[0;34m[\u001b[0m\u001b[0;34m'alert'\u001b[0m\u001b[0;34m]\u001b[0m\u001b[0;34m.\u001b[0m\u001b[0mget\u001b[0m\u001b[0;34m(\u001b[0m\u001b[0;34m'text'\u001b[0m\u001b[0;34m)\u001b[0m\u001b[0;34m\u001b[0m\u001b[0;34m\u001b[0m\u001b[0m\n\u001b[1;32m    241\u001b[0m             \u001b[0;32mraise\u001b[0m \u001b[0mexception_class\u001b[0m\u001b[0;34m(\u001b[0m\u001b[0mmessage\u001b[0m\u001b[0;34m,\u001b[0m \u001b[0mscreen\u001b[0m\u001b[0;34m,\u001b[0m \u001b[0mstacktrace\u001b[0m\u001b[0;34m,\u001b[0m \u001b[0malert_text\u001b[0m\u001b[0;34m)\u001b[0m\u001b[0;34m\u001b[0m\u001b[0;34m\u001b[0m\u001b[0m\n\u001b[0;32m--> 242\u001b[0;31m         \u001b[0;32mraise\u001b[0m \u001b[0mexception_class\u001b[0m\u001b[0;34m(\u001b[0m\u001b[0mmessage\u001b[0m\u001b[0;34m,\u001b[0m \u001b[0mscreen\u001b[0m\u001b[0;34m,\u001b[0m \u001b[0mstacktrace\u001b[0m\u001b[0;34m)\u001b[0m\u001b[0;34m\u001b[0m\u001b[0;34m\u001b[0m\u001b[0m\n\u001b[0m\u001b[1;32m    243\u001b[0m \u001b[0;34m\u001b[0m\u001b[0m\n\u001b[1;32m    244\u001b[0m     \u001b[0;32mdef\u001b[0m \u001b[0m_value_or_default\u001b[0m\u001b[0;34m(\u001b[0m\u001b[0mself\u001b[0m\u001b[0;34m,\u001b[0m \u001b[0mobj\u001b[0m\u001b[0;34m,\u001b[0m \u001b[0mkey\u001b[0m\u001b[0;34m,\u001b[0m \u001b[0mdefault\u001b[0m\u001b[0;34m)\u001b[0m\u001b[0;34m:\u001b[0m\u001b[0;34m\u001b[0m\u001b[0;34m\u001b[0m\u001b[0m\n",
      "\u001b[0;31mNoSuchWindowException\u001b[0m: Message: no such window: target window already closed\nfrom unknown error: web view not found\n  (Session info: chrome=94.0.4606.81)\n"
     ]
    }
   ],
   "source": [
    "driver.close()"
   ]
  },
  {
   "cell_type": "code",
   "execution_count": null,
   "metadata": {},
   "outputs": [],
   "source": []
  }
 ],
 "metadata": {
  "kernelspec": {
   "display_name": "Python 3",
   "language": "python",
   "name": "python3"
  },
  "language_info": {
   "codemirror_mode": {
    "name": "ipython",
    "version": 3
   },
   "file_extension": ".py",
   "mimetype": "text/x-python",
   "name": "python",
   "nbconvert_exporter": "python",
   "pygments_lexer": "ipython3",
   "version": "3.8.5"
  }
 },
 "nbformat": 4,
 "nbformat_minor": 4
}
